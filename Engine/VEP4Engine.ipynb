{
 "cells": [
  {
   "cell_type": "markdown",
   "metadata": {},
   "source": [
    "# Fault diagnosis analysis, design, and evaluation on a combustion engine"
   ]
  },
  {
   "cell_type": "code",
   "execution_count": null,
   "metadata": {},
   "outputs": [],
   "source": [
    "%matplotlib inline\n",
    "from matplotlib.ticker import MaxNLocator\n",
    "import matplotlib\n",
    "import matplotlib.pyplot as plt\n",
    "import matplotlib.patches as mpatches\n",
    "import os\n",
    "import sys\n",
    "import pathlib\n",
    "from importlib import reload\n",
    "import numpy as np\n",
    "import scipy\n",
    "from scipy.stats import gaussian_kde\n",
    "import batchfaultisolation as bfi\n",
    "import seaborn as sns\n",
    "import platform"
   ]
  },
  {
   "cell_type": "code",
   "execution_count": null,
   "metadata": {},
   "outputs": [],
   "source": [
    "from diagutil import loadmat, RunResgenOnDataSets, Timer, PlotConfusionMatrix\n",
    "import GetMeasurementData as gm"
   ]
  },
  {
   "cell_type": "code",
   "execution_count": null,
   "metadata": {},
   "outputs": [],
   "source": [
    "sns.set(style='white', rc={'lines.linewidth': 0.75, 'axes.linewidth': 0.75})"
   ]
  },
  {
   "cell_type": "markdown",
   "metadata": {},
   "source": [
    "## Model and diagnosis analysis"
   ]
  },
  {
   "cell_type": "markdown",
   "metadata": {},
   "source": [
    "Define the model"
   ]
  },
  {
   "cell_type": "code",
   "execution_count": null,
   "metadata": {},
   "outputs": [],
   "source": [
    "import VEP4Engine\n",
    "model = VEP4Engine.model\n",
    "model.Lint()"
   ]
  },
  {
   "cell_type": "markdown",
   "metadata": {},
   "source": [
    "Plot the structural model"
   ]
  },
  {
   "cell_type": "code",
   "execution_count": null,
   "metadata": {},
   "outputs": [],
   "source": [
    "plt.figure(10)\n",
    "model.PlotModel(verbose=False)"
   ]
  },
  {
   "cell_type": "markdown",
   "metadata": {},
   "source": [
    "Plot isolability properties and the extended Dulmage-Mendelsohn decomposition with equivalence classes for the over-determined part"
   ]
  },
  {
   "cell_type": "code",
   "execution_count": null,
   "metadata": {},
   "outputs": [],
   "source": [
    "plt.figure(20)\n",
    "model.IsolabilityAnalysis(plot=True)\n",
    "\n",
    "plt.figure(21)\n",
    "model.IsolabilityAnalysis(plot=True, causality='int')\n",
    "\n",
    "plt.figure(22)\n",
    "model.IsolabilityAnalysis(plot=True, causality='der')\n",
    "\n",
    "plt.figure(23)\n",
    "model.PlotDM(fault=True,eqclass=True)"
   ]
  },
  {
   "cell_type": "markdown",
   "metadata": {},
   "source": [
    "## Design and code generation of residual generators"
   ]
  },
  {
   "cell_type": "code",
   "execution_count": null,
   "metadata": {},
   "outputs": [],
   "source": [
    "print(\"Searchin for MSO sets ...\")\n",
    "msos = model.MSO()\n",
    "print(f\"  Found {len(msos)} MSO sets\")"
   ]
  },
  {
   "cell_type": "code",
   "execution_count": null,
   "metadata": {},
   "outputs": [],
   "source": [
    "print(f\"Checking index and observability properties of {len(msos)} MSO sets ...\")\n",
    "li = [model.IsLowIndex(m) for m in msos]\n",
    "oi = [model.IsObservable(m) for m in msos]\n",
    "print(f'  {sum(oi)} observable, {sum(li)} low (structural) differential index')"
   ]
  },
  {
   "cell_type": "markdown",
   "metadata": {},
   "source": [
    "Use tests selected from simple Kullback-Leibler selection strategy"
   ]
  },
  {
   "cell_type": "code",
   "execution_count": null,
   "metadata": {},
   "outputs": [],
   "source": [
    "ts = [ 1649, 4011, 4016, 4017, 4066, 4074, 4477]\n",
    "re = [ 73  , 75  , 75  , 3   , 76  , 3   , 2]\n",
    "for msoIdx,redIdx in zip(ts,re):\n",
    "    mso = msos[msoIdx]\n",
    "    red = mso[redIdx]\n",
    "    m0 = [e for e in mso if e != red]\n",
    "    Gamma = model.Matching(m0)\n",
    "    print(f\"MSO {msoIdx} with redundant equation {red}, causality: {Gamma.matchType}\")\n",
    "FSM = model.FSM([msos[ti] for ti in ts])"
   ]
  },
  {
   "cell_type": "markdown",
   "metadata": {},
   "source": [
    "Plot fault signature matrix and fault isolation matrix for selected set of tests"
   ]
  },
  {
   "cell_type": "code",
   "execution_count": null,
   "metadata": {},
   "outputs": [],
   "source": [
    "fIdx = [model.f.index(fi) for fi in ['fyw_af', 'fyp_im', 'fyp_ic', 'fyT_ic']]\n",
    "fig: plt.Figure = plt.figure(30, clear=True)\n",
    "ax: plt.Axes = fig.add_subplot(1, 2, 1)\n",
    "ax.spy(FSM[:, fIdx], markersize=6, marker=\"o\", color=\"b\")\n",
    "ax.set_xticks(range(len(fIdx)))\n",
    "ax.set_xticklabels(np.array(model.f)[fIdx])\n",
    "ax.set_yticks(range(len(ts)))\n",
    "ax.set_yticklabels([f\"MSO {k}\" for k in ts])\n",
    "ax.get_xaxis().set_ticks_position('bottom')\n",
    "ax.set_title('Fault Signature Matrix')\n",
    "\n",
    "ax: plt.Axes = fig.add_subplot(1, 2, 2)\n",
    "IM = model.IsolabilityAnalysisArrs([msos[ti] for ti in ts])\n",
    "ax.spy(IM[fIdx, :][:, fIdx], markersize=6, marker=\"o\", color=\"b\")\n",
    "ax.set_xticks(range(len(fIdx)))\n",
    "ax.set_xticklabels(np.array(model.f)[fIdx])\n",
    "ax.set_yticks(range(len(fIdx)))\n",
    "ax.set_yticklabels(np.array(model.f)[fIdx])\n",
    "ax.get_xaxis().set_ticks_position('bottom')\n",
    "ax.set_title('Fault isolation matrix')\n",
    "fig.tight_layout()"
   ]
  },
  {
   "cell_type": "markdown",
   "metadata": {},
   "source": [
    "### Code generation"
   ]
  },
  {
   "cell_type": "code",
   "execution_count": null,
   "metadata": {},
   "outputs": [],
   "source": [
    "for test,redIdx in zip(ts,re):\n",
    "    mso = msos[test]\n",
    "    red = mso[redIdx]\n",
    "    m0 = [e for e in mso if e != red]\n",
    "    resName = f\"ResGen_{test}_{red}\"\n",
    "    Gamma = model.Matching(m0)\n",
    "    model.SeqResGen(Gamma, red, resName, language='C', batch=True, user_functions=VEP4Engine.ext_funs,\n",
    "               external_headers=['extmodelfuns.h'], external_src=['extmodelfuns.cc'])\n",
    "    print(\"\")"
   ]
  },
  {
   "cell_type": "markdown",
   "metadata": {},
   "source": [
    "Compile sources"
   ]
  },
  {
   "cell_type": "code",
   "execution_count": null,
   "metadata": {},
   "outputs": [],
   "source": [
    "for test, redIdx in zip(ts, re):\n",
    "    red = msos[test][redIdx]\n",
    "    resName = f\"ResGen_{test}_{red}\"\n",
    "    print(f\"Compiling residual generator: {resName} ... \", end='')\n",
    "    compile_cmd = f\"python {resName}_setup.py build_ext --inplace\"\n",
    "    if platform.system == \"Windows\":\n",
    "        compile_cmd = compile_cmd + \" > nul\"\n",
    "    else:\n",
    "        compile_cmd = compile_cmd + \" > /dev/null\"\n",
    "    if os.system(compile_cmd) == 0:\n",
    "        print('Success!')\n",
    "    else:\n",
    "        print('Failure!')"
   ]
  },
  {
   "cell_type": "markdown",
   "metadata": {},
   "source": [
    "Import generated residual generator modules"
   ]
  },
  {
   "cell_type": "code",
   "execution_count": null,
   "metadata": {},
   "outputs": [],
   "source": [
    "import ResGen_1649_1\n",
    "import ResGen_4011_1\n",
    "import ResGen_4016_1\n",
    "import ResGen_4017_84\n",
    "import ResGen_4066_1\n",
    "import ResGen_4074_84\n",
    "import ResGen_4477_86\n",
    "res_gens = [ResGen_1649_1.ResGen_1649_1, ResGen_4011_1.ResGen_4011_1, ResGen_4016_1.ResGen_4016_1,\n",
    "            ResGen_4017_84.ResGen_4017_84, ResGen_4066_1.ResGen_4066_1, ResGen_4074_84.ResGen_4074_84,\n",
    "            ResGen_4477_86.ResGen_4477_86]"
   ]
  },
  {
   "cell_type": "markdown",
   "metadata": {},
   "source": [
    "## Evaluation on measurement data"
   ]
  },
  {
   "cell_type": "markdown",
   "metadata": {},
   "source": [
    "### Import measurement data"
   ]
  },
  {
   "cell_type": "code",
   "execution_count": null,
   "metadata": {},
   "outputs": [],
   "source": [
    "dataDir = f'{pathlib.Path.home()}/Research/Diagnosis/Data/EngineData/2016_EngineData/'\n",
    "dataSets = {'NF': 'driving_cycle_FTP75_highway_no_fault_dataset1_16-01-20.mat',\n",
    "            'fyp_im': 'driving_cycle_FTP75Highway_fault_y_pim_dataset_7_26-01-2016.mat',\n",
    "            'fyw_af': 'driving_cycle_FTP75Highway_fault_y_waf_dataset_5_26-01-2016',\n",
    "            'fyp_ic': 'driving_cycle_FTP75Highway_fault_y_pic_dataset_8_26-01-2016',\n",
    "            'fyT_ic': 'driving_cycle_FTP75Highway_fault_y_Tic_dataset_6_26-01-2016'}\n",
    "data = {}\n",
    "print('Loading data ', end='')\n",
    "for dd in dataSets:\n",
    "    print('.', end='')\n",
    "    data[dd] = gm.GetMeasurementData(dataDir + dataSets[dd])\n",
    "print(f' Finished loading {len(data.keys())} datasets')\n",
    "ftp75_hwfet = loadmat(dataDir + 'ftp75_hwfet.mat')\n",
    "ftp75_hwfet = {'t': ftp75_hwfet['ftp75_hwfet']['t'], 'v': ftp75_hwfet['ftp75_hwfet']['v']}"
   ]
  },
  {
   "cell_type": "code",
   "execution_count": null,
   "metadata": {},
   "outputs": [],
   "source": [
    "fig: plt.Figure = plt.figure(90, clear=True)\n",
    "ax: plt.Axes = fig.add_subplot()\n",
    "ax.plot(ftp75_hwfet['t'] / 60.0, ftp75_hwfet['v'], linewidth=2)\n",
    "sns.despine()\n",
    "ax.set_xlabel('t [min]')\n",
    "ax.set_ylabel('Velocity [km/h]')\n",
    "_ = ax.set_title('EPA Highway Fuel Economy Test Cycle (HWFET)')"
   ]
  },
  {
   "cell_type": "code",
   "execution_count": null,
   "metadata": {},
   "outputs": [],
   "source": [
    "DS = 500  # Down sampling rate in plots\n",
    "t_lim = [data['NF']['time'][0], data['NF']['time'][-1] / 60]\n",
    "\n",
    "fig: plt.Figure = plt.figure(80, clear=True)\n",
    "ax: plt.Axes = fig.add_subplot(3, 3, 1)\n",
    "yIdx = model.z.index('y_omega_e')\n",
    "ax.plot(data['NF']['time'][::DS] / 60.0, data['NF']['z'][::DS, yIdx] / (2 * np.pi) * 60)\n",
    "ax.set_ylabel('rpm')\n",
    "ax.set_title('Engine speed')\n",
    "ax.set_xlim(t_lim[0], t_lim[1])\n",
    "ax.get_yaxis().set_major_locator(MaxNLocator(4))\n",
    "sns.despine()\n",
    "\n",
    "ax: plt.Axes = fig.add_subplot(3, 3, 2)\n",
    "yIdx = model.z.index('y_p_im')\n",
    "ax.plot(data['NF']['time'][::DS] / 60.0, data['NF']['z'][::DS, yIdx] / 1e3)\n",
    "ax.set_ylabel('kPa')\n",
    "ax.set_title('Intake manifold pressure')\n",
    "ax.set_xlim(t_lim[0], t_lim[1])\n",
    "ax.get_yaxis().set_major_locator(MaxNLocator(4))\n",
    "sns.despine()\n",
    "\n",
    "ax: plt.Axes = fig.add_subplot(3, 3, 3)\n",
    "yIdx = model.z.index('y_W_af')\n",
    "ax.plot(data['NF']['time'][::DS] / 60.0, data['NF']['z'][::DS, yIdx])\n",
    "ax.set_ylabel('kg/s')\n",
    "ax.set_title('Air mass flow')\n",
    "ax.set_xlim(t_lim[0], t_lim[1])\n",
    "sns.despine()\n",
    "ax.get_yaxis().set_major_locator(MaxNLocator(4))\n",
    "\n",
    "ax: plt.Axes = fig.add_subplot(3, 3, 4)\n",
    "yIdx = model.z.index('y_alpha_th')\n",
    "ax.plot(data['NF']['time'][::DS] / 60.0, data['NF']['z'][::DS, yIdx])\n",
    "ax.set_ylabel('%')\n",
    "ax.set_title('Throttle position')\n",
    "ax.set_xlim(t_lim[0], t_lim[1])\n",
    "sns.despine()\n",
    "ax.get_yaxis().set_major_locator(MaxNLocator(4))\n",
    "\n",
    "ax: plt.Axes = fig.add_subplot(3, 3, 5)\n",
    "yIdx = model.z.index('y_wfc')\n",
    "ax.plot(data['NF']['time'][::DS] / 60.0, data['NF']['z'][::DS, yIdx] * 1.0e6)\n",
    "ax.set_ylabel('mg/s')\n",
    "ax.set_title('Injected fuel')\n",
    "ax.set_xlim(t_lim[0], t_lim[1])\n",
    "sns.despine()\n",
    "ax.get_yaxis().set_major_locator(MaxNLocator(4))\n",
    "\n",
    "ax: plt.Axes = fig.add_subplot(3, 3, 6)\n",
    "yIdx = model.z.index('y_u_wg')\n",
    "ax.plot(data['NF']['time'][::DS] / 60.0, data['NF']['z'][::DS, yIdx])\n",
    "ax.set_ylabel('%')\n",
    "ax.set_title('Wastegate')\n",
    "ax.set_xlim(t_lim[0], t_lim[1])\n",
    "sns.despine()\n",
    "ax.get_yaxis().set_major_locator(MaxNLocator(4))\n",
    "\n",
    "ax: plt.Axes = fig.add_subplot(3, 3, 7)\n",
    "yIdx = model.z.index('y_p_ic')\n",
    "ax.plot(data['NF']['time'][::DS] / 60.0, data['NF']['z'][::DS, yIdx] / 1e3)\n",
    "ax.set_xlabel('t [min]')\n",
    "ax.set_ylabel('kPa')\n",
    "ax.set_title('Intercooler pressure')\n",
    "ax.set_xlim(t_lim[0], t_lim[1])\n",
    "sns.despine()\n",
    "ax.get_yaxis().set_major_locator(MaxNLocator(4))\n",
    "\n",
    "ax: plt.Axes = fig.add_subplot(3, 3, 8)\n",
    "yIdx = model.z.index('y_T_ic')\n",
    "ax.plot(data['NF']['time'][::DS] / 60.0, data['NF']['z'][::DS, yIdx])\n",
    "ax.set_xlabel('t [min]')\n",
    "ax.set_ylabel('K')\n",
    "ax.set_title('Intercooler temperature')\n",
    "ax.set_xlim(t_lim[0], t_lim[1])\n",
    "sns.despine()\n",
    "ax.get_yaxis().set_major_locator(MaxNLocator(4))\n",
    "\n",
    "ax: plt.Axes = fig.add_subplot(3, 3, 9)\n",
    "yIdx = model.z.index('y_p_amb')\n",
    "ax.plot(data['NF']['time'][::DS] / 60.0, data['NF']['z'][::DS, yIdx] / 1.0e3)\n",
    "ax.set_xlabel('t [min]')\n",
    "ax.set_ylabel('kPa')\n",
    "ax.set_title('Ambient pressure')\n",
    "ax.set_xlim(t_lim[0], t_lim[1])\n",
    "sns.despine()\n",
    "ax.get_yaxis().set_major_locator(MaxNLocator(4))\n",
    "ax.set_ylim(99, 101)\n",
    "fig.tight_layout()\n",
    "fig.subplots_adjust(top=0.9)\n",
    "_ = fig.suptitle('Measurement data, no-fault dataset', fontsize=14, weight='bold')"
   ]
  },
  {
   "cell_type": "markdown",
   "metadata": {},
   "source": [
    "### Run residual generators on measurement data"
   ]
  },
  {
   "cell_type": "code",
   "execution_count": null,
   "metadata": {},
   "outputs": [],
   "source": [
    "r = []\n",
    "for k, ri in enumerate(res_gens):\n",
    "    print(f\"r{k + 1}: MSO {ri.__name__.split('_')[1]}\")\n",
    "    r.append(RunResgenOnDataSets(ri, data, VEP4Engine.diag_par))\n",
    "    print('')\n",
    "\n",
    "for ri in r:\n",
    "    if 'NF' in ri:\n",
    "        bias = np.mean(ri['NF']) * 0.0\n",
    "        normFact = np.max(np.abs(ri['NF'] - bias)) * 1.1\n",
    "        for FM in ri:\n",
    "            ri[FM] = 1 / normFact * (ri[FM] - bias)"
   ]
  },
  {
   "cell_type": "markdown",
   "metadata": {},
   "source": [
    "Simple threshold selection strategy"
   ]
  },
  {
   "cell_type": "code",
   "execution_count": null,
   "metadata": {},
   "outputs": [],
   "source": [
    "alpha = 1e-3\n",
    "J = np.zeros(len(r))\n",
    "for rIdx, ri in enumerate(r):\n",
    "    N = len(ri['NF'])\n",
    "    foo = np.sort(np.abs(ri['NF']))\n",
    "    J[rIdx] = foo[np.ceil(N*(1-alpha)).astype(np.int64)]"
   ]
  },
  {
   "cell_type": "markdown",
   "metadata": {},
   "source": [
    "Plot residuals"
   ]
  },
  {
   "cell_type": "code",
   "execution_count": null,
   "metadata": {},
   "outputs": [],
   "source": [
    "ds = 500\n",
    "# dc = ['NF','fyp_im','fyw_af','fyp_ic','fyT_ic']\n",
    "dc = ['NF', 'fyw_af']\n",
    "for idx, fm in enumerate(dc):\n",
    "    ax_list = []\n",
    "    if fm in r[0]:  # Data set exists in first residual\n",
    "        fig: plt.Figure = plt.figure(50 + idx, clear=True)\n",
    "        for ridx, ri in enumerate(r):\n",
    "            ax: plt.Axes = fig.add_subplot(3, 3, ridx + 1)\n",
    "            ax_list.append(ax)\n",
    "            ax.plot(data[fm]['time'][::ds] / 60.0, ri[fm][::ds])\n",
    "            ax.get_xaxis().set_major_locator(MaxNLocator(4))\n",
    "            ax.get_yaxis().set_major_locator(MaxNLocator(4))\n",
    "            if fm in model.f and FSM[ridx, model.f.index(fm)] == 1:\n",
    "                for t1Idx, t2Idx in zip(data[fm]['fault_idx'][0:-1:2], data[fm]['fault_idx'][1::2]):\n",
    "                    y1, y2 = ax.get_ylim()\n",
    "                    t1 = data[fm]['time'][t1Idx] / 60.0\n",
    "                    t2 = data[fm]['time'][t2Idx] / 60.0\n",
    "                    ax.add_patch(\n",
    "                        mpatches.Rectangle((t1, y1), t2 - t1, y2 - y1, facecolor='0.9', edgecolor='none'))\n",
    "            ax.plot(data[fm]['time'][::ds] / 60.0, data[fm]['time'][::ds] * 0 + J[ridx], 'k--')\n",
    "            ax.plot(data[fm]['time'][::ds] / 60.0, data[fm]['time'][::ds] * 0 - J[ridx], 'k--')\n",
    "\n",
    "            if fm in model.f and FSM[ridx, model.f.index(fm)] == 1:\n",
    "                ax.set_title(f'r{ridx + 1}: MSO {ts[ridx]} (*)', fontsize=10, weight='bold')\n",
    "            else:\n",
    "                ax.set_title(f'r{ridx + 1}: MSO {ts[ridx]}', fontsize=10, weight='bold')\n",
    "\n",
    "            ax.set_xlim(0, np.max(data[fm]['time']) / 60)\n",
    "            sns.despine()\n",
    "        ax_list[4].set_xlabel('t [min]')\n",
    "        ax_list[5].set_xlabel('t [min]')\n",
    "        ax_list[6].set_xlabel('t [min]')\n",
    "        fig.tight_layout()\n",
    "        fig.subplots_adjust(top=0.9)\n",
    "        _ = fig.suptitle('Dataset: ' + fm, fontsize=12, weight='bold')"
   ]
  },
  {
   "cell_type": "markdown",
   "metadata": {},
   "source": [
    "Plot residual distributions"
   ]
  },
  {
   "cell_type": "code",
   "execution_count": null,
   "metadata": {},
   "outputs": [],
   "source": [
    "ds = 200\n",
    "M = 50  # Number of data points in KDE plots\n",
    "# dc = ['NF','fyp_im','fyw_af','fyp_ic','fyT_ic']\n",
    "dc = ['NF', 'fyw_af']\n",
    "for idx, fm in enumerate(dc):\n",
    "    if fm in r[0]:  # Data set exists in first residual\n",
    "        fig: plt.Figure = plt.figure(60 + idx, clear=True)\n",
    "        for ridx, ri in enumerate(r):\n",
    "            ax: plt.Axes = fig.add_subplot(3, 3, ridx + 1)\n",
    "            pNF = gaussian_kde(ri[fm][data[fm]['fault_vector'] == 0][::ds])\n",
    "\n",
    "            rmin = np.min([np.min(ri['NF']), np.min(ri[fm]), -1])\n",
    "            rmax = np.max([np.max(ri['NF']), np.max(ri[fm]), 1])\n",
    "            r_range = np.arange(0, M) * (rmax - rmin) * 1.1 / (M - 1) + rmin - (rmax - rmin) * 0.05\n",
    "            ax.plot(r_range, pNF(r_range), 'b', linewidth=2)\n",
    "            if not fm == 'NF':\n",
    "                pF = gaussian_kde(ri[fm][data[fm]['fault_vector'] == 1][::ds])\n",
    "                ax.plot(r_range, pF(r_range), 'r', linewidth=2)\n",
    "            if fm in model.f and FSM[ridx, model.f.index(fm)] == 1:\n",
    "                ax.set_title(f'r{ridx+1}: MSO {ts[ridx]} (*)', fontsize=10, weight='bold')\n",
    "            else:\n",
    "                ax.set_title(f'r{ridx+1}: MSO {ts[ridx]}', fontsize=10, weight='bold')\n",
    "\n",
    "            ax.get_xaxis().set_major_locator(MaxNLocator(3))\n",
    "            ax.get_yaxis().set_major_locator(MaxNLocator(4))\n",
    "            yl = ax.get_ylim()\n",
    "            ax.plot([-1, -1], [0, 0.3 * yl[1]], 'k--')\n",
    "            ax.plot([1, 1], [0, 0.3 * yl[1]], 'k--')\n",
    "            sns.despine()\n",
    "        fig.tight_layout()\n",
    "        fig.subplots_adjust(top=0.9)\n",
    "        fig.suptitle('Dataset: ' + fm, fontsize=12, weight='bold')"
   ]
  },
  {
   "cell_type": "code",
   "execution_count": null,
   "metadata": {},
   "outputs": [],
   "source": [
    "dc = ['NF','fyp_im','fyw_af','fyp_ic','fyT_ic']\n",
    "# Compile with: python setup.py build_ext --inplace\n",
    "\n",
    "t = Timer()\n",
    "print(f'Running fault isolation strategy for {len(r)} residuals and {len(dc)} test cases ... ')\n",
    "t.tic()\n",
    "dx = bfi.BatchFaultIsolation(r, J, FSM[:,fIdx], dc, 1)\n",
    "print(f'Finished in {t.toc():.2f} seconds')"
   ]
  },
  {
   "cell_type": "code",
   "execution_count": null,
   "metadata": {},
   "outputs": [],
   "source": [
    "# % C(i,j) = P(fi diagnos|fj injected fault)\n",
    "nf = len(fIdx)\n",
    "C = np.zeros((nf,nf))\n",
    "for fiIdx, fi in enumerate(np.array(model.f)[fIdx]):\n",
    "    for fjIdx, fj in enumerate(np.array(model.f)[fIdx]):\n",
    "        tcIdx = dc.index(fj)\n",
    "        C[fiIdx,fjIdx] = np.sum(dx[tcIdx][fiIdx,:][data[fj]['fault_vector']>0])/np.sum(data[fj]['fault_vector']>0)"
   ]
  },
  {
   "cell_type": "code",
   "execution_count": null,
   "metadata": {},
   "outputs": [],
   "source": [
    "ds = 1000\n",
    "for idx, fm in enumerate(dc):\n",
    "    fig: plt.Figure = plt.figure(80 + idx, clear=True)\n",
    "    ax_list = []\n",
    "    for fiIdx in np.arange(0, nf):\n",
    "        ax: plt.Axes = fig.add_subplot(2, 2, fiIdx + 1)\n",
    "        ax_list.append(ax)\n",
    "        ax.plot(data[fm]['time'][::ds] / 60, dx[idx][fiIdx, :][::ds], 'b')\n",
    "        ax.get_yaxis().set_major_locator(MaxNLocator(4))\n",
    "        ax.get_xaxis().set_major_locator(MaxNLocator(4))\n",
    "\n",
    "        if fm in model.f and fm == model.f[fIdx[fiIdx]]:\n",
    "            for t1Idx, t2Idx in zip(data[fm]['fault_idx'][0:-1:2], data[fm]['fault_idx'][1::2]):\n",
    "                y1, y2 = plt.ylim()\n",
    "                t1 = data[fm]['time'][t1Idx] / 60.0\n",
    "                t2 = data[fm]['time'][t2Idx] / 60.0\n",
    "                ax.add_patch(mpatches.Rectangle((t1, 0.05), t2 - t1, 0.9, facecolor='0.9', edgecolor='none'))\n",
    "            perf = C[list(np.array(model.f)[fIdx]).index(fm), fiIdx]\n",
    "        else:\n",
    "            perf = np.sum(dx[idx][fiIdx, :] == 0) / len(data[fm]['fault_vector'])\n",
    "\n",
    "        ax.set_title(f'{model.f[fIdx[fiIdx]]} (err={(1 - perf) * 100:.1f}%)', fontsize=10)\n",
    "        sns.despine()\n",
    "    ax_list[2].set_xlabel('t [min]')\n",
    "    ax_list[3].set_xlabel('t [min]')\n",
    "    fig.tight_layout()\n",
    "    fig.subplots_adjust(top=0.9)\n",
    "    fig.suptitle('Fault isolation: ' + fm, fontweight='bold', fontsize=12)"
   ]
  },
  {
   "cell_type": "code",
   "execution_count": null,
   "metadata": {},
   "outputs": [],
   "source": [
    "fig: plt.Figure = plt.figure(100, clear=True)\n",
    "ax: plt.Axes = fig.add_subplot()\n",
    "PlotConfusionMatrix(C)\n",
    "ax.set_title('P(fi diag|fj injected)')\n",
    "ax.set_xticks(np.arange(0, nf))\n",
    "ax.set_xticklabels(np.array(model.f)[fIdx])\n",
    "ax.set_yticks(np.arange(0, nf))\n",
    "ax.set_yticklabels(np.array(model.f)[fIdx])\n",
    "ax.set_xlabel('Injected fault')\n",
    "ax.set_ylabel('Diagnosed fault')\n",
    "_ = ax.set_title('Fault Isolation Performance Matrix')"
   ]
  },
  {
   "cell_type": "code",
   "execution_count": null,
   "metadata": {},
   "outputs": [],
   "source": []
  }
 ],
 "metadata": {
  "kernelspec": {
   "display_name": "Python 3",
   "language": "python",
   "name": "python3"
  },
  "language_info": {
   "codemirror_mode": {
    "name": "ipython",
    "version": 3
   },
   "file_extension": ".py",
   "mimetype": "text/x-python",
   "name": "python",
   "nbconvert_exporter": "python",
   "pygments_lexer": "ipython3",
   "version": "3.9.0"
  }
 },
 "nbformat": 4,
 "nbformat_minor": 4
}
