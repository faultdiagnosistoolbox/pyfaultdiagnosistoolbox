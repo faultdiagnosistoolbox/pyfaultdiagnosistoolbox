{
 "cells": [
  {
   "cell_type": "code",
   "execution_count": null,
   "metadata": {},
   "outputs": [],
   "source": [
    "%matplotlib \n",
    "import matplotlib\n",
    "import matplotlib.pyplot as plt\n",
    "import matplotlib.patches as mpatches\n",
    "import os\n",
    "import sys\n",
    "import pathlib\n",
    "from importlib import reload\n",
    "import numpy as np\n",
    "import scipy\n",
    "from scipy.stats import gaussian_kde\n",
    "import batchfaultisolation as bfi\n",
    "import seaborn as sns\n",
    "#new_paths = ['../Misc/']\n",
    "#[sys.path.append(d) for d in new_paths if not d in sys.path];"
   ]
  },
  {
   "cell_type": "code",
   "execution_count": null,
   "metadata": {},
   "outputs": [],
   "source": [
    "# from misc import *\n",
    "from diagutil import loadmat, RunResgenOnDataSets, Timer, PlotConfusionMatrix\n",
    "import GetMeasurementData as gm"
   ]
  },
  {
   "cell_type": "code",
   "execution_count": null,
   "metadata": {},
   "outputs": [],
   "source": [
    "sns.set(style='white')"
   ]
  },
  {
   "cell_type": "markdown",
   "metadata": {},
   "source": [
    "# Model"
   ]
  },
  {
   "cell_type": "markdown",
   "metadata": {},
   "source": [
    "Define the model"
   ]
  },
  {
   "cell_type": "code",
   "execution_count": null,
   "metadata": {},
   "outputs": [],
   "source": [
    "import VEP4Engine\n",
    "reload(VEP4Engine)\n",
    "model = VEP4Engine.model;\n",
    "model.Lint()"
   ]
  },
  {
   "cell_type": "markdown",
   "metadata": {},
   "source": [
    "Plot the structural model"
   ]
  },
  {
   "cell_type": "code",
   "execution_count": null,
   "metadata": {},
   "outputs": [],
   "source": [
    "plt.figure(10)\n",
    "model.PlotModel(verbose=False)"
   ]
  },
  {
   "cell_type": "markdown",
   "metadata": {},
   "source": [
    "Plot isolability properties and the extended Dulmage-Mendelsohn decomposition with equivalence classes for the over-determined part"
   ]
  },
  {
   "cell_type": "code",
   "execution_count": null,
   "metadata": {},
   "outputs": [],
   "source": [
    "plt.figure(20)\n",
    "model.IsolabilityAnalysis(plot=True)\n",
    "\n",
    "plt.figure(21)\n",
    "model.IsolabilityAnalysis(plot=True, causality='int')\n",
    "\n",
    "plt.figure(22)\n",
    "model.IsolabilityAnalysis(plot=True, causality='der')\n",
    "\n",
    "plt.figure(23)\n",
    "model.PlotDM(fault=True,eqclass=True)"
   ]
  },
  {
   "cell_type": "markdown",
   "metadata": {},
   "source": [
    "# MSO sets and test selection"
   ]
  },
  {
   "cell_type": "code",
   "execution_count": null,
   "metadata": {},
   "outputs": [],
   "source": [
    "print(\"Searchin for MSO sets ...\")\n",
    "msos = model.MSO()\n",
    "print(\"  Found \" + str(len(msos)) + \" MSO sets\")"
   ]
  },
  {
   "cell_type": "code",
   "execution_count": null,
   "metadata": {},
   "outputs": [],
   "source": [
    "print(f\"Checking index and observability properties of {len(msos)} MSO sets ...\")\n",
    "li = [model.IsLowIndex(m) for m in msos]\n",
    "oi = [model.IsObservable(m) for m in msos]\n",
    "print(f'  {sum(oi)} observable, {sum(li)} low (structural) differential index')"
   ]
  },
  {
   "cell_type": "markdown",
   "metadata": {},
   "source": [
    "Use tests selected from simple Kullback-Leibler selection strategy"
   ]
  },
  {
   "cell_type": "code",
   "execution_count": null,
   "metadata": {},
   "outputs": [],
   "source": [
    "ts = [ 1649, 4011, 4016, 4017, 4066, 4074, 4477]\n",
    "re = [ 73  , 75  , 75  , 3   , 76  , 3   , 2]\n",
    "for msoIdx,redIdx in zip(ts,re):\n",
    "    mso = msos[msoIdx]\n",
    "    red = mso[redIdx]\n",
    "    m0 = [e for e in mso if e != red]\n",
    "    Gamma = model.Matching(m0)\n",
    "    print(f\"MSO {msoIdx} with redundant equation {red}, causality: {Gamma.matchType}\")\n",
    "FSM = model.FSM(msos[ts])"
   ]
  },
  {
   "cell_type": "markdown",
   "metadata": {},
   "source": [
    "Plot fault signature matrix and fault isolation matrix for selected set of tests"
   ]
  },
  {
   "cell_type": "code",
   "execution_count": null,
   "metadata": {},
   "outputs": [],
   "source": [
    "fIdx = [model.f.index(fi) for fi in ['fyw_af','fyp_im','fyp_ic','fyT_ic']]\n",
    "plt.figure(30)\n",
    "plt.subplot(1,2,1)\n",
    "plt.spy(FSM[:,fIdx],markersize=6,marker=\"o\", color=\"b\")\n",
    "plt.xticks(np.arange(0,len(fIdx)), np.array(model.f)[fIdx])\n",
    "plt.yticks(np.arange(0,len(ts)), [\"MSO \" + str(k) for k in ts])\n",
    "plt.gca().xaxis.tick_bottom()\n",
    "plt.title('Fault Signature Matrix');\n",
    "\n",
    "plt.subplot(1,2,2)\n",
    "IM = model.IsolabilityAnalysisArrs(msos[ts])\n",
    "plt.spy(IM[fIdx,:][:,fIdx],markersize=6,marker=\"o\", color=\"b\")\n",
    "plt.xticks(np.arange(0,len(fIdx)), np.array(model.f)[fIdx])\n",
    "plt.yticks(np.arange(0,len(fIdx)), np.array(model.f)[fIdx])\n",
    "plt.gca().xaxis.tick_bottom()\n",
    "plt.title('Fault isolation matrix');\n",
    "plt.tight_layout()"
   ]
  },
  {
   "cell_type": "markdown",
   "metadata": {},
   "source": [
    "# Code generation"
   ]
  },
  {
   "cell_type": "code",
   "execution_count": null,
   "metadata": {},
   "outputs": [],
   "source": [
    "for test,redIdx in zip(ts,re):\n",
    "    mso = msos[test]\n",
    "    red = mso[redIdx]\n",
    "    m0 = [e for e in mso if e != red]\n",
    "    resName = f\"ResGen_{test}_{red}\"\n",
    "    Gamma = model.Matching(m0)\n",
    "    model.SeqResGen(Gamma, red, resName, language='C', batch=True, user_functions=VEP4Engine.ext_funs,\n",
    "               external_headers=['extmodelfuns.h'], external_src=['extmodelfuns.cc'])\n",
    "    print(\"\")"
   ]
  },
  {
   "cell_type": "markdown",
   "metadata": {},
   "source": [
    "Compile sources"
   ]
  },
  {
   "cell_type": "code",
   "execution_count": null,
   "metadata": {},
   "outputs": [],
   "source": [
    "for test,redIdx in zip(ts,re):\n",
    "    red = msos[test][redIdx]\n",
    "    resName = f\"ResGen_{test}_{red}\"\n",
    "    print(f\"Compiling residual generator: {resName} ... \", end='')\n",
    "    if os.system(f\"python {resName}_setup.py build_ext --inplace\")==0:\n",
    "        print('Success!')\n",
    "    else:\n",
    "        print('Failure!')"
   ]
  },
  {
   "cell_type": "markdown",
   "metadata": {},
   "source": [
    "Import generated residual generator modules"
   ]
  },
  {
   "cell_type": "code",
   "execution_count": null,
   "metadata": {},
   "outputs": [],
   "source": [
    "import ResGen_1649_1\n",
    "import ResGen_4011_1\n",
    "import ResGen_4016_1\n",
    "import ResGen_4017_84\n",
    "import ResGen_4066_1\n",
    "import ResGen_4074_84\n",
    "import ResGen_4477_86"
   ]
  },
  {
   "cell_type": "markdown",
   "metadata": {},
   "source": [
    "# Import measurement data"
   ]
  },
  {
   "cell_type": "code",
   "execution_count": null,
   "metadata": {},
   "outputs": [],
   "source": [
    "dataDir = f'{pathlib.Path.home()}/Diagnos/Work/EngineDiagnosis/Work/Data/'\n",
    "dataSets = {'NF' : 'driving_cycle_FTP75_highway_no_fault_dataset1_16-01-20.mat',\n",
    "            'fyp_im' : 'driving_cycle_FTP75Highway_fault_y_pim_dataset_7_26-01-2016.mat',\n",
    "            'fyw_af' : 'driving_cycle_FTP75Highway_fault_y_waf_dataset_5_26-01-2016',\n",
    "            'fyp_ic' : 'driving_cycle_FTP75Highway_fault_y_pic_dataset_8_26-01-2016',\n",
    "            'fyT_ic' : 'driving_cycle_FTP75Highway_fault_y_Tic_dataset_6_26-01-2016'}\n",
    "data = {}\n",
    "sys.stdout.write('Loading data ')\n",
    "for dd in dataSets:\n",
    "    print('.', end='')\n",
    "    data[dd] = gm.GetMeasurementData(dataDir + dataSets[dd])\n",
    "print(f' Finished loading {len(data.keys())} datasets')\n",
    "ftp75_hwfet = loadmat(dataDir + 'ftp75_hwfet.mat')\n",
    "ftp75_hwfet = {'t': ftp75_hwfet['ftp75_hwfet']['t'], 'v':ftp75_hwfet['ftp75_hwfet']['v']}"
   ]
  },
  {
   "cell_type": "code",
   "execution_count": null,
   "metadata": {},
   "outputs": [],
   "source": [
    "plt.figure(90)\n",
    "plt.plot(ftp75_hwfet['t']/60.0, ftp75_hwfet['v'], linewidth=2)\n",
    "sns.despine()\n",
    "plt.xlabel('t [min]')\n",
    "plt.ylabel('Velocity [km/h]')\n",
    "plt.title('EPA Highway Fuel Economy Test Cycle (HWFET)');"
   ]
  },
  {
   "cell_type": "code",
   "execution_count": null,
   "metadata": {},
   "outputs": [],
   "source": [
    "DS = 500 # Down sampling rate in plots\n",
    "plt.figure(80)\n",
    "plt.subplot( 3,3,1 )\n",
    "yIdx = model.z.index('y_omega_e')\n",
    "plt.plot( data['NF']['time'][::DS]/60.0, data['NF']['z'][::DS,yIdx]/(2*np.pi)*60 )\n",
    "plt.ylabel('rpm')\n",
    "plt.title('Engine speed')\n",
    "plt.xlim([data['NF']['time'][0], data['NF']['time'][-1]/60])\n",
    "sns.despine()\n",
    "plt.gca().get_yaxis().set_major_locator(matplotlib.ticker.MaxNLocator(4))\n",
    "\n",
    "plt.subplot( 3,3,2 )\n",
    "yIdx = model.z.index('y_p_im')\n",
    "plt.plot( data['NF']['time'][::DS]/60.0, data['NF']['z'][::DS,yIdx]/1e3 )\n",
    "plt.ylabel('kPa')\n",
    "plt.title('Intake manifold pressure')\n",
    "plt.xlim([data['NF']['time'][0], data['NF']['time'][-1]/60])\n",
    "sns.despine()\n",
    "plt.gca().get_yaxis().set_major_locator(matplotlib.ticker.MaxNLocator(4))\n",
    "\n",
    "plt.subplot( 3,3,3 )\n",
    "yIdx = model.z.index('y_W_af')\n",
    "plt.plot( data['NF']['time'][::DS]/60.0, data['NF']['z'][::DS,yIdx] )\n",
    "plt.ylabel('kg/s')\n",
    "plt.title('Air mass flow')\n",
    "plt.xlim([data['NF']['time'][0], data['NF']['time'][-1]/60])\n",
    "sns.despine()\n",
    "plt.gca().get_yaxis().set_major_locator(matplotlib.ticker.MaxNLocator(4))\n",
    "\n",
    "plt.subplot( 3,3,4 )\n",
    "yIdx = model.z.index('y_alpha_th')\n",
    "plt.plot( data['NF']['time'][::DS]/60.0, data['NF']['z'][::DS,yIdx] )\n",
    "plt.ylabel('%')\n",
    "plt.title('Throttle position')\n",
    "plt.xlim([data['NF']['time'][0], data['NF']['time'][-1]/60])\n",
    "sns.despine()\n",
    "plt.gca().get_yaxis().set_major_locator(matplotlib.ticker.MaxNLocator(4))\n",
    "\n",
    "plt.subplot( 3,3,5 )\n",
    "yIdx = model.z.index('y_wfc')\n",
    "plt.plot( data['NF']['time'][::DS]/60.0, data['NF']['z'][::DS,yIdx]*1.0e6 )\n",
    "plt.ylabel('mg/s')\n",
    "plt.title('Injected fuel')\n",
    "plt.xlim([data['NF']['time'][0], data['NF']['time'][-1]/60])\n",
    "sns.despine()\n",
    "plt.gca().get_yaxis().set_major_locator(matplotlib.ticker.MaxNLocator(4))\n",
    "\n",
    "plt.subplot( 3,3,6 )\n",
    "yIdx = model.z.index('y_u_wg')\n",
    "plt.plot( data['NF']['time'][::DS]/60.0, data['NF']['z'][::DS,yIdx] )\n",
    "plt.ylabel('%')\n",
    "plt.title('Wastegate')\n",
    "plt.xlim([data['NF']['time'][0], data['NF']['time'][-1]/60])\n",
    "sns.despine()\n",
    "plt.gca().get_yaxis().set_major_locator(matplotlib.ticker.MaxNLocator(4))\n",
    "\n",
    "plt.subplot( 3,3,7 )\n",
    "yIdx = model.z.index('y_p_ic')\n",
    "plt.plot( data['NF']['time'][::DS]/60.0, data['NF']['z'][::DS,yIdx]/1e3 )\n",
    "plt.xlabel('t [min]')\n",
    "plt.ylabel('kPa')\n",
    "plt.title('Intercooler pressure')\n",
    "plt.xlim([data['NF']['time'][0], data['NF']['time'][-1]/60])\n",
    "sns.despine()\n",
    "plt.gca().get_yaxis().set_major_locator(matplotlib.ticker.MaxNLocator(4))\n",
    "\n",
    "plt.subplot( 3,3,8 )\n",
    "yIdx = model.z.index('y_T_ic')\n",
    "plt.plot( data['NF']['time'][::DS]/60.0, data['NF']['z'][::DS,yIdx] )\n",
    "plt.xlabel('t [min]')\n",
    "plt.ylabel('K')\n",
    "plt.title('Intercooler temperature')\n",
    "plt.xlim([data['NF']['time'][0], data['NF']['time'][-1]/60])\n",
    "sns.despine()\n",
    "plt.gca().get_yaxis().set_major_locator(matplotlib.ticker.MaxNLocator(4))\n",
    "\n",
    "plt.subplot( 3,3,9 )\n",
    "yIdx = model.z.index('y_p_amb')\n",
    "plt.plot( data['NF']['time'][::DS]/60.0, data['NF']['z'][::DS,yIdx]/1.0e3 )\n",
    "plt.xlabel('t [min]')\n",
    "plt.ylabel('kPa')\n",
    "plt.title('Ambient pressure')\n",
    "plt.xlim([data['NF']['time'][0], data['NF']['time'][-1]/60])\n",
    "sns.despine()\n",
    "plt.gca().get_yaxis().set_major_locator(matplotlib.ticker.MaxNLocator(4))\n",
    "plt.ylim(99,101)\n",
    "plt.tight_layout()\n",
    "plt.subplots_adjust(top=0.9)\n",
    "plt.suptitle('Measurement data, no-fault dataset',fontsize=14, weight='bold');"
   ]
  },
  {
   "cell_type": "markdown",
   "metadata": {},
   "source": [
    "# Run residual generators on measurement data"
   ]
  },
  {
   "cell_type": "code",
   "execution_count": null,
   "metadata": {},
   "outputs": [],
   "source": [
    "print(\"r1: MSO 1649\")\n",
    "r1 = RunResgenOnDataSets(ResGen_1649_1.ResGen_1649_1, data, VEP4Engine.diag_par)\n",
    "print(\"\\nr2: MSO 4011\")\n",
    "r2 = RunResgenOnDataSets(ResGen_4011_1.ResGen_4011_1, data, VEP4Engine.diag_par)\n",
    "print(\"\\nr3: MSO 4016\")\n",
    "r3 = RunResgenOnDataSets(ResGen_4016_1.ResGen_4016_1, data, VEP4Engine.diag_par)\n",
    "print(\"\\nr4: MSO 4017\")\n",
    "r4 = RunResgenOnDataSets(ResGen_4017_84.ResGen_4017_84, data, VEP4Engine.diag_par)\n",
    "print(\"\\nr5: MSO 4066\")\n",
    "r5 = RunResgenOnDataSets(ResGen_4066_1.ResGen_4066_1, data, VEP4Engine.diag_par)\n",
    "print(\"\\nr6: MSO 4074\")\n",
    "r6 = RunResgenOnDataSets(ResGen_4074_84.ResGen_4074_84, data, VEP4Engine.diag_par)\n",
    "print(\"\\nr7: MSO 4477\")\n",
    "r7 = RunResgenOnDataSets(ResGen_4477_86.ResGen_4477_86, data, VEP4Engine.diag_par)\n",
    "r = [r1, r2, r3, r4, r5, r6, r7]\n",
    "for ri in r:\n",
    "    if 'NF' in ri:\n",
    "        bias = np.mean(ri['NF'])*0.0\n",
    "        normFact = np.max(np.abs(ri['NF']-bias))*1.1\n",
    "        for FM in ri:\n",
    "                ri[FM] = 1/normFact*(ri[FM]-bias)"
   ]
  },
  {
   "cell_type": "markdown",
   "metadata": {},
   "source": [
    "Simple threshold selection strategy"
   ]
  },
  {
   "cell_type": "code",
   "execution_count": null,
   "metadata": {},
   "outputs": [],
   "source": [
    "alpha = 1e-3\n",
    "J = np.zeros(len(r))\n",
    "for rIdx, ri in enumerate(r):\n",
    "    N = len(ri['NF'])\n",
    "    foo = np.sort(np.abs(ri['NF']))\n",
    "    J[rIdx] = foo[np.ceil(N*(1-alpha)).astype(np.int64)]"
   ]
  },
  {
   "cell_type": "markdown",
   "metadata": {},
   "source": [
    "Plot residuals"
   ]
  },
  {
   "cell_type": "code",
   "execution_count": null,
   "metadata": {},
   "outputs": [],
   "source": [
    "ds = 500\n",
    "# dc = ['NF','fyp_im','fyw_af','fyp_ic','fyT_ic']\n",
    "dc = ['NF', 'fyw_af']\n",
    "for idx,fm in enumerate(dc):\n",
    "    ax = []\n",
    "    if fm in r[0]: # Data set exists in first residual\n",
    "        plt.figure(50+idx, clear=True)\n",
    "        for ridx, ri in enumerate(r):\n",
    "            ax.append(plt.subplot(3, 3, ridx+1))\n",
    "            plt.plot( data[fm]['time'][::ds]/60.0, ri[fm][::ds])\n",
    "            ax[-1].get_xaxis().set_major_locator(matplotlib.ticker.MaxNLocator(4))\n",
    "            ax[-1].get_yaxis().set_major_locator(matplotlib.ticker.MaxNLocator(4))\n",
    "            if fm in model.f and FSM[ridx,model.f.index(fm)]==1:\n",
    "                for t1Idx,t2Idx in zip(data[fm]['fault_idx'][0:-1:2],data[fm]['fault_idx'][1::2]):\n",
    "                    y1, y2 = plt.ylim()\n",
    "                    t1 = data[fm]['time'][t1Idx]/60.0\n",
    "                    t2 = data[fm]['time'][t2Idx]/60.0\n",
    "                    plt.gca().add_patch(mpatches.Rectangle((t1,y1), t2-t1, y2-y1, facecolor='0.9', edgecolor='none'))\n",
    "            plt.plot( data[fm]['time'][::ds]/60.0, data[fm]['time'][::ds]*0+J[ridx], 'k--')\n",
    "            plt.plot( data[fm]['time'][::ds]/60.0, data[fm]['time'][::ds]*0-J[ridx], 'k--')\n",
    "            \n",
    "            if fm in model.f and FSM[ridx,model.f.index(fm)]==1:\n",
    "                plt.title(f'r{ridx+1}: MSO {ts[ridx]} (*)', fontsize=10, weight='bold')\n",
    "            else:\n",
    "                plt.title(f'r{ridx+1}: MSO {ts[ridx]}', fontsize=10, weight='bold')\n",
    "                \n",
    "            plt.xlim((0,np.max(data[fm]['time'])/60))\n",
    "            sns.despine()\n",
    "        ax[4].set_xlabel('t [min]')            \n",
    "        ax[5].set_xlabel('t [min]')            \n",
    "        ax[6].set_xlabel('t [min]')            \n",
    "        plt.tight_layout()\n",
    "        plt.subplots_adjust(top=0.9)\n",
    "        plt.suptitle('Dataset: ' + fm,fontsize=12, weight='bold');"
   ]
  },
  {
   "cell_type": "markdown",
   "metadata": {},
   "source": [
    "Plot residual distributions"
   ]
  },
  {
   "cell_type": "code",
   "execution_count": null,
   "metadata": {},
   "outputs": [],
   "source": [
    "ds = 200\n",
    "M = 50 # Number of data points in KDE plots\n",
    "# dc = ['NF','fyp_im','fyw_af','fyp_ic','fyT_ic']\n",
    "dc = ['NF', 'fyw_af']\n",
    "for idx,fm in enumerate(dc):\n",
    "    if fm in r[0]: # Data set exists in first residual\n",
    "        plt.figure(60+idx, clear=True)\n",
    "        for ridx, ri in enumerate(r):\n",
    "            plt.subplot( 3,3, ridx+1)\n",
    "            pNF = gaussian_kde(ri[fm][data[fm]['fault_vector']==0][::ds])\n",
    "            if not fm is 'NF':\n",
    "                pF = gaussian_kde(ri[fm][data[fm]['fault_vector']==1][::ds])\n",
    "            rmin = np.min([np.min(ri['NF']), np.min(ri[fm]), -1])\n",
    "            rmax = np.max([np.max(ri['NF']), np.max(ri[fm]), 1])\n",
    "            r_range = np.arange(0,M)*(rmax-rmin)*1.1/(M-1) + rmin - (rmax-rmin)*0.05\n",
    "            plt.plot( r_range, pNF(r_range), 'b', linewidth=2)\n",
    "            if not fm is 'NF':\n",
    "                plt.plot( r_range, pF(r_range), 'r', linewidth=2)\n",
    "            if fm in model.f and FSM[ridx,model.f.index(fm)]==1:\n",
    "                plt.title(f'r{ridx+1}: MSO {ts[ridx]} (*)', fontsize=10, weight='bold')\n",
    "            else:\n",
    "                plt.title(f'r{ridx+1}: MSO {ts[ridx]}', fontsize=10, weight='bold')\n",
    "\n",
    "            plt.gca().get_xaxis().set_major_locator(matplotlib.ticker.MaxNLocator(3))\n",
    "            plt.gca().get_yaxis().set_major_locator(matplotlib.ticker.MaxNLocator(4))\n",
    "            yl = plt.ylim()\n",
    "            plt.plot([-1,-1],[0,0.3*yl[1]], 'k--')\n",
    "            plt.plot([1,1],[0,0.3*yl[1]], 'k--')\n",
    "            sns.despine()\n",
    "        plt.tight_layout()\n",
    "        plt.subplots_adjust(top=0.9)\n",
    "        plt.suptitle('Dataset: ' + fm,fontsize=12, weight='bold');"
   ]
  },
  {
   "cell_type": "code",
   "execution_count": null,
   "metadata": {},
   "outputs": [],
   "source": [
    "dc = ['NF','fyp_im','fyw_af','fyp_ic','fyT_ic']\n",
    "# Compile with: python setup.py build_ext --inplace\n",
    "\n",
    "t = Timer()\n",
    "print(f'Running fault isolation strategy for {len(r)} residuals and {len(dc)} test cases ... ', end='')\n",
    "t.tic()\n",
    "dx = bfi.BatchFaultIsolation(r, J, FSM[:,fIdx], dc, 1)\n",
    "print(f'Finished in {t.toc():.2f} seconds')"
   ]
  },
  {
   "cell_type": "code",
   "execution_count": null,
   "metadata": {},
   "outputs": [],
   "source": [
    "# % C(i,j) = P(fi diagnos|fj injected fault)\n",
    "nf = len(fIdx)\n",
    "C = np.zeros((nf,nf))\n",
    "for fiIdx, fi in enumerate(np.array(model.f)[fIdx]):\n",
    "    for fjIdx, fj in enumerate(np.array(model.f)[fIdx]):\n",
    "        tcIdx = dc.index(fj)\n",
    "        C[fiIdx,fjIdx] = np.sum(dx[tcIdx][fiIdx,:][data[fj]['fault_vector']>0])/np.sum(data[fj]['fault_vector']>0)"
   ]
  },
  {
   "cell_type": "code",
   "execution_count": null,
   "metadata": {},
   "outputs": [],
   "source": [
    "ds=1000\n",
    "for idx,fm in enumerate(dc):\n",
    "    plt.figure(80+idx, clear=True)\n",
    "    ax = []\n",
    "    for fiIdx in np.arange(0,nf):\n",
    "        ax.append(plt.subplot(2,2,fiIdx+1))\n",
    "        plt.plot(data[fm]['time'][::ds]/60, dx[idx][fiIdx,:][::ds], 'b')\n",
    "        plt.gca().get_yaxis().set_major_locator(matplotlib.ticker.MaxNLocator(4))\n",
    "        plt.gca().get_xaxis().set_major_locator(matplotlib.ticker.MaxNLocator(4))\n",
    "        \n",
    "        if fm in model.f and fm is model.f[fIdx[fiIdx]]:\n",
    "            for t1Idx,t2Idx in zip(data[fm]['fault_idx'][0:-1:2],data[fm]['fault_idx'][1::2]):\n",
    "                    y1, y2 = plt.ylim()\n",
    "                    t1 = data[fm]['time'][t1Idx]/60.0\n",
    "                    t2 = data[fm]['time'][t2Idx]/60.0\n",
    "                    plt.gca().add_patch(mpatches.Rectangle((t1,0.05), t2-t1, 0.9, facecolor='0.9', edgecolor='none'))        \n",
    "            perf = C[list(np.array(model.f)[fIdx]).index(fm),fiIdx]\n",
    "        else:\n",
    "            perf = np.sum(dx[idx][fiIdx,:]==0)/len(data[fm]['fault_vector'])\n",
    "\n",
    "        plt.title(f'{model.f[fIdx[fiIdx]]} (err={(1-perf)*100:.1f}%)', fontsize=10)\n",
    "        sns.despine()\n",
    "    ax[2].set_xlabel('t [min]')         \n",
    "    ax[3].set_xlabel('t [min]')         \n",
    "    plt.tight_layout()\n",
    "    plt.subplots_adjust(top=0.9)\n",
    "    plt.suptitle('Fault isolation: ' + fm, fontweight='bold', fontsize=12)"
   ]
  },
  {
   "cell_type": "code",
   "execution_count": null,
   "metadata": {},
   "outputs": [],
   "source": [
    "plt.figure(100, clear=True)\n",
    "PlotConfusionMatrix(C)\n",
    "plt.title('P(fi diag|fj injected)')\n",
    "plt.xticks(np.arange(0,nf), np.array(model.f)[fIdx])\n",
    "plt.yticks(np.arange(0,nf), np.array(model.f)[fIdx])\n",
    "#for fiIdx in np.arange(0,nf):\n",
    "#    for fjIdx in np.arange(0,nf):\n",
    "#        ax1.text3D(fiIdx+0.5, fjIdx+0.5, C[fiIdx,fjIdx]+0.05, f\"{C[fiIdx,fjIdx]*100:.1f}\")\n",
    "plt.xlabel('Injected fault')\n",
    "plt.ylabel('Diagnosed fault')\n",
    "_ = plt.title('Fault Isolation Performance Matrix')"
   ]
  },
  {
   "cell_type": "code",
   "execution_count": null,
   "metadata": {},
   "outputs": [],
   "source": []
  }
 ],
 "metadata": {
  "kernelspec": {
   "display_name": "Python 3",
   "language": "python",
   "name": "python3"
  },
  "language_info": {
   "codemirror_mode": {
    "name": "ipython",
    "version": 3
   },
   "file_extension": ".py",
   "mimetype": "text/x-python",
   "name": "python",
   "nbconvert_exporter": "python",
   "pygments_lexer": "ipython3",
   "version": "3.7.4"
  }
 },
 "nbformat": 4,
 "nbformat_minor": 4
}
