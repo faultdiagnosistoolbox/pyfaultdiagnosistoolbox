{
 "cells": [
  {
   "cell_type": "code",
   "execution_count": 1,
   "metadata": {
    "collapsed": false
   },
   "outputs": [],
   "source": [
    "%matplotlib notebook\n",
    "import matplotlib\n",
    "import matplotlib.pyplot as plt\n",
    "import sys\n",
    "import numpy as np\n",
    "import sympy as sym\n",
    "from sympy.printing import octave_code, ccode\n",
    "import copy\n",
    "import scipy\n",
    "\n",
    "new_paths = ['../Misc/', '../src', '../src/faultdiagnosistoolbox/build/lib.macosx-10.6-x86_64-2.7/']\n",
    "[sys.path.append(d) for d in new_paths if not d in sys.path];\n",
    "from misc import *\n",
    "import faultdiagnosistoolbox as fdt\n",
    "import GetMeasurementData as gm"
   ]
  },
  {
   "cell_type": "code",
   "execution_count": 2,
   "metadata": {
    "collapsed": false
   },
   "outputs": [
    {
     "name": "stdout",
     "output_type": "stream",
     "text": [
      "Model: VEP4\n",
      "\n",
      "  Type:Symbolic, dynamic\n",
      "\n",
      "  Variables and equations\n",
      "    90 unknown variables\n",
      "    10 known variables\n",
      "    11 fault variables\n",
      "    94 equations, including 14 differential constraints\n",
      "\n",
      "  Degree of redundancy: 4\n",
      "  Degree of redundancy of MTES set: 1\n",
      "\n",
      "\n",
      "  Model validation finished with 0 errors and 0 warnings.\n"
     ]
    }
   ],
   "source": [
    "import VEP4Engine\n",
    "reload(VEP4Engine)\n",
    "model = VEP4Engine.model;\n",
    "model.Lint()"
   ]
  },
  {
   "cell_type": "code",
   "execution_count": null,
   "metadata": {
    "collapsed": false
   },
   "outputs": [],
   "source": [
    "plt.figure(10)\n",
    "model.PlotModel(verbose=False)"
   ]
  },
  {
   "cell_type": "code",
   "execution_count": null,
   "metadata": {
    "collapsed": false,
    "scrolled": false
   },
   "outputs": [],
   "source": [
    "plt.figure(20)\n",
    "model.IsolabilityAnalysis(plot=True)\n",
    "\n",
    "plt.figure(21)\n",
    "model.IsolabilityAnalysis(plot=True, causality='int')\n",
    "\n",
    "plt.figure(22)\n",
    "model.IsolabilityAnalysis(plot=True, causality='der')\n",
    "\n",
    "plt.figure(23)\n",
    "model.PlotDM(fault=True,eqclass=True)"
   ]
  },
  {
   "cell_type": "code",
   "execution_count": 3,
   "metadata": {
    "collapsed": false
   },
   "outputs": [
    {
     "name": "stdout",
     "output_type": "stream",
     "text": [
      "Searchin for MSO sets...\n",
      "Found 4496 MSO sets\n"
     ]
    }
   ],
   "source": [
    "print \"Searchin for MSO sets...\"\n",
    "msos = model.MSO();\n",
    "print \"Found \" + str(len(msos)) + \" MSO sets\""
   ]
  },
  {
   "cell_type": "code",
   "execution_count": null,
   "metadata": {
    "collapsed": false
   },
   "outputs": [],
   "source": [
    "print \"Checking index properties of MSO sets...\"\n",
    "li = map(lambda m:model.IsLowIndex(m), msos)\n",
    "print str(sum(li)) + \" MSO sets are low-index\""
   ]
  },
  {
   "cell_type": "code",
   "execution_count": 4,
   "metadata": {
    "collapsed": false
   },
   "outputs": [
    {
     "name": "stdout",
     "output_type": "stream",
     "text": [
      "MSO 1649 with redundant equation 1, causality: int\n",
      "MSO 4011 with redundant equation 1, causality: int\n",
      "MSO 4016 with redundant equation 1, causality: int\n",
      "MSO 4017 with redundant equation 84, causality: int\n",
      "MSO 4066 with redundant equation 1, causality: int\n",
      "MSO 4074 with redundant equation 84, causality: int\n",
      "MSO 4477 with redundant equation 86, causality: int\n"
     ]
    }
   ],
   "source": [
    "# MSO selected in simple KL selection strategy\n",
    "ts = [ 1649, 4011, 4016, 4017, 4066, 4074, 4477]\n",
    "re = [ 73  , 75  , 75  , 3   , 76  , 3   , 2]\n",
    "for msoIdx,redIdx in zip(ts,re):\n",
    "    mso = msos[msoIdx]\n",
    "    red = mso[redIdx]\n",
    "    m0 = [e for e in mso if e != red]\n",
    "    Gamma = model.Matching(m0)\n",
    "    print \"MSO \" + str(msoIdx) + \" with redundant equation \" + str(red) + \", causality: \" + Gamma.matchType"
   ]
  },
  {
   "cell_type": "code",
   "execution_count": null,
   "metadata": {
    "collapsed": false
   },
   "outputs": [],
   "source": [
    "tsFSM=model.FSM(msos[ts])\n",
    "fIdx = [model.f.index(fi) for fi in ['fyw_af','fyp_im','fyp_ic','fyT_ic']]\n",
    "plt.figure(30)\n",
    "plt.spy(tsFSM[:,fIdx],markersize=6,marker=\"o\", color=\"b\")\n",
    "plt.xticks(np.arange(0,len(fIdx)), np.array(model.f)[fIdx])\n",
    "plt.yticks(np.arange(0,len(ts)), [\"MSO \" + str(k) for k in ts])\n",
    "plt.gca().xaxis.tick_bottom()\n",
    "plt.title('Fault Signature Matrix');"
   ]
  },
  {
   "cell_type": "code",
   "execution_count": 5,
   "metadata": {
    "collapsed": false
   },
   "outputs": [
    {
     "name": "stdout",
     "output_type": "stream",
     "text": [
      "Generating residual generator ResGen_1649_1 (Python, batch)\n",
      "  Generating code for the exactly determined part: ..............\n",
      "  Generating code for the residual equations\n",
      "  Writing residual generator file\n",
      "File ResGen_1649_1.py generated.\n",
      "Generating residual generator ResGen_4011_1 (Python, batch)\n",
      "  Generating code for the exactly determined part: .............\n",
      "  Generating code for the residual equations\n",
      "  Writing residual generator file\n",
      "File ResGen_4011_1.py generated.\n",
      "Generating residual generator ResGen_4016_1 (Python, batch)\n",
      "  Generating code for the exactly determined part: ............\n",
      "  Generating code for the residual equations\n",
      "  Writing residual generator file\n",
      "File ResGen_4016_1.py generated.\n",
      "Generating residual generator ResGen_4017_84 (Python, batch)\n",
      "  Generating code for the exactly determined part: ............\n",
      "  Generating code for the residual equations\n",
      "  Writing residual generator file\n",
      "File ResGen_4017_84.py generated.\n",
      "Generating residual generator ResGen_4066_1 (Python, batch)\n",
      "  Generating code for the exactly determined part: .............\n",
      "  Generating code for the residual equations\n",
      "  Writing residual generator file\n",
      "File ResGen_4066_1.py generated.\n",
      "Generating residual generator ResGen_4074_84 (Python, batch)\n",
      "  Generating code for the exactly determined part: ............\n",
      "  Generating code for the residual equations\n",
      "  Writing residual generator file\n",
      "File ResGen_4074_84.py generated.\n",
      "Generating residual generator ResGen_4477_86 (Python, batch)\n",
      "  Generating code for the exactly determined part: ..........\n",
      "  Generating code for the residual equations\n",
      "  Writing residual generator file\n",
      "File ResGen_4477_86.py generated.\n"
     ]
    }
   ],
   "source": [
    "for test,redIdx in zip(ts,re):\n",
    "    mso = msos[test]\n",
    "    red = mso[redIdx]\n",
    "    m0 = [e for e in mso if e != red]\n",
    "    resName = \"ResGen_\" + str(test) + \"_\" + str(red)\n",
    "    Gamma = model.Matching(m0)\n",
    "    model.SeqResGen(Gamma, red, resName, language='Python', batch=True)"
   ]
  },
  {
   "cell_type": "code",
   "execution_count": 6,
   "metadata": {
    "collapsed": false
   },
   "outputs": [
    {
     "name": "stdout",
     "output_type": "stream",
     "text": [
      "Generating residual generator ResGen_1649_1 (C, batch)\n",
      "  Generating code for the exactly determined part: ..............\n",
      "  Generating code for the residual equations\n",
      "  Writing residual generator file\n",
      "Files ResGen_1649_1.c and ResGen_1649_1_setup.py generated\n",
      "Compile by running: python ResGen_1649_1_setup.py build\n",
      "Generating residual generator ResGen_4011_1 (C, batch)\n",
      "  Generating code for the exactly determined part: .............\n",
      "  Generating code for the residual equations\n",
      "  Writing residual generator file\n",
      "Files ResGen_4011_1.c and ResGen_4011_1_setup.py generated\n",
      "Compile by running: python ResGen_4011_1_setup.py build\n",
      "Generating residual generator ResGen_4016_1 (C, batch)\n",
      "  Generating code for the exactly determined part: ............\n",
      "  Generating code for the residual equations\n",
      "  Writing residual generator file\n",
      "Files ResGen_4016_1.c and ResGen_4016_1_setup.py generated\n",
      "Compile by running: python ResGen_4016_1_setup.py build\n",
      "Generating residual generator ResGen_4017_84 (C, batch)\n",
      "  Generating code for the exactly determined part: ............\n",
      "  Generating code for the residual equations\n",
      "  Writing residual generator file\n",
      "Files ResGen_4017_84.c and ResGen_4017_84_setup.py generated\n",
      "Compile by running: python ResGen_4017_84_setup.py build\n",
      "Generating residual generator ResGen_4066_1 (C, batch)\n",
      "  Generating code for the exactly determined part: .............\n",
      "  Generating code for the residual equations\n",
      "  Writing residual generator file\n",
      "Files ResGen_4066_1.c and ResGen_4066_1_setup.py generated\n",
      "Compile by running: python ResGen_4066_1_setup.py build\n",
      "Generating residual generator ResGen_4074_84 (C, batch)\n",
      "  Generating code for the exactly determined part: ............\n",
      "  Generating code for the residual equations\n",
      "  Writing residual generator file\n",
      "Files ResGen_4074_84.c and ResGen_4074_84_setup.py generated\n",
      "Compile by running: python ResGen_4074_84_setup.py build\n",
      "Generating residual generator ResGen_4477_86 (C, batch)\n",
      "  Generating code for the exactly determined part: ..........\n",
      "  Generating code for the residual equations\n",
      "  Writing residual generator file\n",
      "Files ResGen_4477_86.c and ResGen_4477_86_setup.py generated\n",
      "Compile by running: python ResGen_4477_86_setup.py build\n"
     ]
    }
   ],
   "source": [
    "for test,redIdx in zip(ts,re):\n",
    "    mso = msos[test]\n",
    "    red = mso[redIdx]\n",
    "    m0 = [e for e in mso if e != red]\n",
    "    resName = \"ResGen_\" + str(test) + \"_\" + str(red)\n",
    "    Gamma = model.Matching(m0)\n",
    "    model.SeqResGen(Gamma, red, resName, language='C', batch=True)"
   ]
  },
  {
   "cell_type": "code",
   "execution_count": null,
   "metadata": {
    "collapsed": false
   },
   "outputs": [],
   "source": [
    "dataDir = '/Users/frisk/Diagnos/Work/EngineDiagnosis/Work/Data/'\n",
    "dataSets = {'NF' : 'driving_cycle_FTP75_highway_no_fault_dataset1_16-01-20.mat',\n",
    "            'fyp_im' : 'driving_cycle_FTP75Highway_fault_y_pim_dataset_7_26-01-2016.mat',\n",
    "            'fyw_af' : 'driving_cycle_FTP75Highway_fault_y_waf_dataset_5_26-01-2016',\n",
    "            'fyp_ic' : 'driving_cycle_FTP75Highway_fault_y_pic_dataset_8_26-01-2016',\n",
    "            'fyT_ic' : 'driving_cycle_FTP75Highway_fault_y_Tic_dataset_6_26-01-2016'}\n",
    "data = {}\n",
    "sys.stdout.write('Loading data ')\n",
    "for dd in dataSets:\n",
    "    sys.stdout.write('.')\n",
    "    data[dd] = gm.GetMeasurementData(dataDir + dataSets[dd])\n",
    "sys.stdout.write(' Finished loading ' + str(len(data.keys())) + ' datasets\\n')\n",
    "ftp75_hwfet = loadmat(dataDir + 'ftp75_hwfet.mat')\n",
    "ftp75_hwfet = {'t': ftp75_hwfet['ftp75_hwfet']['t'], 'v':ftp75_hwfet['ftp75_hwfet']['v']}"
   ]
  },
  {
   "cell_type": "code",
   "execution_count": null,
   "metadata": {
    "collapsed": false
   },
   "outputs": [],
   "source": [
    "plt.figure(90)\n",
    "plt.plot(ftp75_hwfet['t']/60.0, ftp75_hwfet['v'], linewidth=2)\n",
    "BoxOff()\n",
    "plt.xlabel('t [min]')\n",
    "plt.ylabel('Velocity [km/h]')\n",
    "plt.title('EPA Highway Fuel Economy Test Cycle (HWFET)');"
   ]
  },
  {
   "cell_type": "code",
   "execution_count": null,
   "metadata": {
    "collapsed": false
   },
   "outputs": [],
   "source": [
    "DS = 500 # Down sanpling rate in plots\n",
    "plt.figure(80)\n",
    "plt.subplot( 3,3,1 )\n",
    "yIdx = model.z.index('y_omega_e')\n",
    "plt.plot( data['NF']['time'][::DS]/60.0, data['NF']['measurement'][::DS,yIdx]/(2*np.pi)*60 )\n",
    "plt.ylabel('rpm')\n",
    "plt.title('Engine speed')\n",
    "plt.xlim([data['NF']['time'][0], data['NF']['time'][-1]/60])\n",
    "BoxOff()\n",
    "plt.gca().get_yaxis().set_major_locator(matplotlib.ticker.MaxNLocator(4))\n",
    "\n",
    "plt.subplot( 3,3,2 )\n",
    "yIdx = model.z.index('y_p_im')\n",
    "plt.plot( data['NF']['time'][::DS]/60.0, data['NF']['measurement'][::DS,yIdx]/1e3 )\n",
    "plt.ylabel('kPa')\n",
    "plt.title('Intake manifold pressure')\n",
    "plt.xlim([data['NF']['time'][0], data['NF']['time'][-1]/60])\n",
    "BoxOff()\n",
    "plt.gca().get_yaxis().set_major_locator(matplotlib.ticker.MaxNLocator(4))\n",
    "\n",
    "\n",
    "plt.subplot( 3,3,3 )\n",
    "yIdx = model.z.index('y_W_af')\n",
    "plt.plot( data['NF']['time'][::DS]/60.0, data['NF']['measurement'][::DS,yIdx] )\n",
    "plt.ylabel('kg/s')\n",
    "plt.title('Air mass flow')\n",
    "plt.xlim([data['NF']['time'][0], data['NF']['time'][-1]/60])\n",
    "BoxOff()\n",
    "plt.gca().get_yaxis().set_major_locator(matplotlib.ticker.MaxNLocator(4))\n",
    "\n",
    "\n",
    "plt.subplot( 3,3,4 )\n",
    "yIdx = model.z.index('y_alpha_th')\n",
    "plt.plot( data['NF']['time'][::DS]/60.0, data['NF']['measurement'][::DS,yIdx] )\n",
    "plt.ylabel('%')\n",
    "plt.title('Throttle position')\n",
    "plt.xlim([data['NF']['time'][0], data['NF']['time'][-1]/60])\n",
    "BoxOff()\n",
    "plt.gca().get_yaxis().set_major_locator(matplotlib.ticker.MaxNLocator(4))\n",
    "\n",
    "\n",
    "plt.subplot( 3,3,5 )\n",
    "yIdx = model.z.index('y_wfc')\n",
    "plt.plot( data['NF']['time'][::DS]/60.0, data['NF']['measurement'][::DS,yIdx]*1.0e6 )\n",
    "plt.ylabel('mg/s')\n",
    "plt.title('Injected fuel')\n",
    "plt.xlim([data['NF']['time'][0], data['NF']['time'][-1]/60])\n",
    "BoxOff()\n",
    "plt.gca().get_yaxis().set_major_locator(matplotlib.ticker.MaxNLocator(4))\n",
    "\n",
    "\n",
    "plt.subplot( 3,3,6 )\n",
    "yIdx = model.z.index('y_u_wg')\n",
    "plt.plot( data['NF']['time'][::DS]/60.0, data['NF']['measurement'][::DS,yIdx] )\n",
    "plt.ylabel('%')\n",
    "plt.title('Wastegate')\n",
    "plt.xlim([data['NF']['time'][0], data['NF']['time'][-1]/60])\n",
    "BoxOff()\n",
    "plt.gca().get_yaxis().set_major_locator(matplotlib.ticker.MaxNLocator(4))\n",
    "\n",
    "plt.subplot( 3,3,7 )\n",
    "yIdx = model.z.index('y_p_ic')\n",
    "plt.plot( data['NF']['time'][::DS]/60.0, data['NF']['measurement'][::DS,yIdx]/1e3 )\n",
    "plt.xlabel('t [min]')\n",
    "plt.ylabel('kPa')\n",
    "plt.title('Intercooler pressure')\n",
    "plt.xlim([data['NF']['time'][0], data['NF']['time'][-1]/60])\n",
    "BoxOff()\n",
    "plt.gca().get_yaxis().set_major_locator(matplotlib.ticker.MaxNLocator(4))\n",
    "\n",
    "plt.subplot( 3,3,8 )\n",
    "yIdx = model.z.index('y_T_ic')\n",
    "plt.plot( data['NF']['time'][::DS]/60.0, data['NF']['measurement'][::DS,yIdx] )\n",
    "plt.xlabel('t [min]')\n",
    "plt.ylabel('K')\n",
    "plt.title('Intercooler temperature')\n",
    "plt.xlim([data['NF']['time'][0], data['NF']['time'][-1]/60])\n",
    "BoxOff()\n",
    "plt.gca().get_yaxis().set_major_locator(matplotlib.ticker.MaxNLocator(4))\n",
    "\n",
    "\n",
    "plt.subplot( 3,3,9 )\n",
    "yIdx = model.z.index('y_p_amb')\n",
    "plt.plot( data['NF']['time'][::DS]/60.0, data['NF']['measurement'][::DS,yIdx]/1.0e3 )\n",
    "plt.xlabel('t [min]')\n",
    "plt.ylabel('kPa')\n",
    "plt.title('Ambient pressure')\n",
    "plt.xlim([data['NF']['time'][0], data['NF']['time'][-1]/60])\n",
    "BoxOff()\n",
    "plt.gca().get_yaxis().set_major_locator(matplotlib.ticker.MaxNLocator(4))\n",
    "plt.ylim(99,101)\n",
    "plt.tight_layout()\n",
    "plt.subplots_adjust(top=0.9)\n",
    "plt.suptitle('Measurement data, no-fault dataset',fontsize=14, weight='bold');"
   ]
  }
 ],
 "metadata": {
  "kernelspec": {
   "display_name": "Python 2",
   "language": "python",
   "name": "python2"
  },
  "language_info": {
   "codemirror_mode": {
    "name": "ipython",
    "version": 2
   },
   "file_extension": ".py",
   "mimetype": "text/x-python",
   "name": "python",
   "nbconvert_exporter": "python",
   "pygments_lexer": "ipython2",
   "version": "2.7.12"
  }
 },
 "nbformat": 4,
 "nbformat_minor": 0
}
