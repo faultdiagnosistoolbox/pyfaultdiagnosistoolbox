{
 "cells": [
  {
   "cell_type": "code",
   "execution_count": 1,
   "metadata": {},
   "outputs": [
    {
     "name": "stdout",
     "output_type": "stream",
     "text": [
      "Using matplotlib backend: Qt5Agg\n"
     ]
    }
   ],
   "source": [
    "%matplotlib \n",
    "import matplotlib\n",
    "import matplotlib.pyplot as plt\n",
    "import matplotlib.patches as mpatches\n",
    "import os\n",
    "import sys\n",
    "from importlib import reload\n",
    "new_paths = ['../Misc/', '../src']\n",
    "[sys.path.append(d) for d in new_paths if not d in sys.path];\n",
    "\n",
    "import numpy as np\n",
    "import scipy\n",
    "from scipy.stats import gaussian_kde\n",
    "from misc import *\n",
    "import GetMeasurementData as gm"
   ]
  },
  {
   "cell_type": "markdown",
   "metadata": {},
   "source": [
    "# Model"
   ]
  },
  {
   "cell_type": "markdown",
   "metadata": {},
   "source": [
    "Define the model"
   ]
  },
  {
   "cell_type": "code",
   "execution_count": 2,
   "metadata": {},
   "outputs": [
    {
     "name": "stdout",
     "output_type": "stream",
     "text": [
      "Model: VEP4\n",
      "\n",
      "  Type:Symbolic, dynamic\n",
      "\n",
      "  Variables and equations\n",
      "    90 unknown variables\n",
      "    10 known variables\n",
      "    11 fault variables\n",
      "    94 equations, including 14 differential constraints\n",
      "\n",
      "  Degree of redundancy: 4\n",
      "  Degree of redundancy of MTES set: 1\n",
      "\n",
      "\n",
      "  Model validation finished with 0 errors and 0 warnings.\n"
     ]
    }
   ],
   "source": [
    "import VEP4Engine\n",
    "reload(VEP4Engine)\n",
    "model = VEP4Engine.model;\n",
    "model.Lint()"
   ]
  },
  {
   "cell_type": "markdown",
   "metadata": {},
   "source": [
    "Plot the structural model"
   ]
  },
  {
   "cell_type": "code",
   "execution_count": 3,
   "metadata": {},
   "outputs": [],
   "source": [
    "plt.figure(10)\n",
    "model.PlotModel(verbose=False)"
   ]
  },
  {
   "cell_type": "markdown",
   "metadata": {},
   "source": [
    "Plot isolability properties and the extended Dulmage-Mendelsohn decomposition with equivalence classes for the over-determined part"
   ]
  },
  {
   "cell_type": "code",
   "execution_count": 4,
   "metadata": {},
   "outputs": [],
   "source": [
    "plt.figure(20)\n",
    "model.IsolabilityAnalysis(plot=True)\n",
    "\n",
    "plt.figure(21)\n",
    "model.IsolabilityAnalysis(plot=True, causality='int')\n",
    "\n",
    "plt.figure(22)\n",
    "model.IsolabilityAnalysis(plot=True, causality='der')\n",
    "\n",
    "plt.figure(23)\n",
    "model.PlotDM(fault=True,eqclass=True)"
   ]
  },
  {
   "cell_type": "markdown",
   "metadata": {},
   "source": [
    "# MSO sets and test selection"
   ]
  },
  {
   "cell_type": "code",
   "execution_count": 5,
   "metadata": {},
   "outputs": [
    {
     "name": "stdout",
     "output_type": "stream",
     "text": [
      "Searchin for MSO sets ...\n",
      "  Found 4496 MSO sets\n"
     ]
    }
   ],
   "source": [
    "print(\"Searchin for MSO sets ...\")\n",
    "msos = model.MSO()\n",
    "print(\"  Found \" + str(len(msos)) + \" MSO sets\")"
   ]
  },
  {
   "cell_type": "code",
   "execution_count": 6,
   "metadata": {},
   "outputs": [
    {
     "name": "stdout",
     "output_type": "stream",
     "text": [
      "Checking index and observability properties of 4496 MSO sets ...\n",
      "  4496 observable, 206 low (structural) differential index\n"
     ]
    }
   ],
   "source": [
    "print(\"Checking index and observability properties of \" + str(len(msos)) + \" MSO sets ...\")\n",
    "li = list(map(lambda m:model.IsLowIndex(m), msos))\n",
    "oi = list(map(lambda m:model.IsObservable(m), msos))\n",
    "print('  ' + str(sum(oi)) + ' observable, ' + str(sum(li)) + ' low (structural) differential index')"
   ]
  },
  {
   "cell_type": "markdown",
   "metadata": {},
   "source": [
    "Use tests selected from simple Kullback-Leibler selection strategy"
   ]
  },
  {
   "cell_type": "code",
   "execution_count": 7,
   "metadata": {},
   "outputs": [
    {
     "name": "stdout",
     "output_type": "stream",
     "text": [
      "MSO 1649 with redundant equation 1, causality: int\n",
      "MSO 4011 with redundant equation 1, causality: int\n",
      "MSO 4016 with redundant equation 1, causality: int\n",
      "MSO 4017 with redundant equation 84, causality: int\n",
      "MSO 4066 with redundant equation 1, causality: int\n",
      "MSO 4074 with redundant equation 84, causality: int\n",
      "MSO 4477 with redundant equation 86, causality: int\n"
     ]
    }
   ],
   "source": [
    "ts = [ 1649, 4011, 4016, 4017, 4066, 4074, 4477]\n",
    "re = [ 73  , 75  , 75  , 3   , 76  , 3   , 2]\n",
    "for msoIdx,redIdx in zip(ts,re):\n",
    "    mso = msos[msoIdx]\n",
    "    red = mso[redIdx]\n",
    "    m0 = [e for e in mso if e != red]\n",
    "    Gamma = model.Matching(m0)\n",
    "    print(\"MSO \" + str(msoIdx) + \" with redundant equation \" + str(red) + \", causality: \" + Gamma.matchType)\n",
    "FSM = model.FSM(msos[ts])"
   ]
  },
  {
   "cell_type": "markdown",
   "metadata": {},
   "source": [
    "Plot fault signature matrix and fault isolation matrix for selected set of tests"
   ]
  },
  {
   "cell_type": "code",
   "execution_count": 8,
   "metadata": {},
   "outputs": [],
   "source": [
    "fIdx = [model.f.index(fi) for fi in ['fyw_af','fyp_im','fyp_ic','fyT_ic']]\n",
    "plt.figure(30)\n",
    "plt.subplot(1,2,1)\n",
    "plt.spy(FSM[:,fIdx],markersize=6,marker=\"o\", color=\"b\")\n",
    "plt.xticks(np.arange(0,len(fIdx)), np.array(model.f)[fIdx])\n",
    "plt.yticks(np.arange(0,len(ts)), [\"MSO \" + str(k) for k in ts])\n",
    "plt.gca().xaxis.tick_bottom()\n",
    "plt.title('Fault Signature Matrix');\n",
    "\n",
    "plt.subplot(1,2,2)\n",
    "IM=model.IsolabilityAnalysisArrs(msos[ts])\n",
    "plt.spy(IM[fIdx,:][:,fIdx],markersize=6,marker=\"o\", color=\"b\")\n",
    "plt.xticks(np.arange(0,len(fIdx)), np.array(model.f)[fIdx])\n",
    "plt.yticks(np.arange(0,len(fIdx)), np.array(model.f)[fIdx])\n",
    "plt.gca().xaxis.tick_bottom()\n",
    "plt.title('Fault isolation matrix');\n",
    "plt.tight_layout()"
   ]
  },
  {
   "cell_type": "markdown",
   "metadata": {},
   "source": [
    "# Code generation"
   ]
  },
  {
   "cell_type": "code",
   "execution_count": 9,
   "metadata": {},
   "outputs": [
    {
     "name": "stdout",
     "output_type": "stream",
     "text": [
      "Generating residual generator ResGen_1649_1 (C, batch)\n",
      "  Generating code for the exactly determined part: ..............\n",
      "  Generating code for the residual equations\n",
      "  Writing residual generator file\n",
      "Files ResGen_1649_1.cc and ResGen_1649_1_setup.py generated\n",
      "Compile by running: python ResGen_1649_1_setup.py build_ext --inplace\n",
      "\n",
      "Generating residual generator ResGen_4011_1 (C, batch)\n",
      "  Generating code for the exactly determined part: .............\n",
      "  Generating code for the residual equations\n",
      "  Writing residual generator file\n",
      "Files ResGen_4011_1.cc and ResGen_4011_1_setup.py generated\n",
      "Compile by running: python ResGen_4011_1_setup.py build_ext --inplace\n",
      "\n",
      "Generating residual generator ResGen_4016_1 (C, batch)\n",
      "  Generating code for the exactly determined part: ............\n",
      "  Generating code for the residual equations\n",
      "  Writing residual generator file\n",
      "Files ResGen_4016_1.cc and ResGen_4016_1_setup.py generated\n",
      "Compile by running: python ResGen_4016_1_setup.py build_ext --inplace\n",
      "\n",
      "Generating residual generator ResGen_4017_84 (C, batch)\n",
      "  Generating code for the exactly determined part: ............\n",
      "  Generating code for the residual equations\n",
      "  Writing residual generator file\n",
      "Files ResGen_4017_84.cc and ResGen_4017_84_setup.py generated\n",
      "Compile by running: python ResGen_4017_84_setup.py build_ext --inplace\n",
      "\n",
      "Generating residual generator ResGen_4066_1 (C, batch)\n",
      "  Generating code for the exactly determined part: .............\n",
      "  Generating code for the residual equations\n",
      "  Writing residual generator file\n",
      "Files ResGen_4066_1.cc and ResGen_4066_1_setup.py generated\n",
      "Compile by running: python ResGen_4066_1_setup.py build_ext --inplace\n",
      "\n",
      "Generating residual generator ResGen_4074_84 (C, batch)\n",
      "  Generating code for the exactly determined part: ............\n",
      "  Generating code for the residual equations\n",
      "  Writing residual generator file\n",
      "Files ResGen_4074_84.cc and ResGen_4074_84_setup.py generated\n",
      "Compile by running: python ResGen_4074_84_setup.py build_ext --inplace\n",
      "\n",
      "Generating residual generator ResGen_4477_86 (C, batch)\n",
      "  Generating code for the exactly determined part: ..........\n",
      "  Generating code for the residual equations\n",
      "  Writing residual generator file\n",
      "Files ResGen_4477_86.cc and ResGen_4477_86_setup.py generated\n",
      "Compile by running: python ResGen_4477_86_setup.py build_ext --inplace\n",
      "\n"
     ]
    }
   ],
   "source": [
    "for test,redIdx in zip(ts,re):\n",
    "    mso = msos[test]\n",
    "    red = mso[redIdx]\n",
    "    m0 = [e for e in mso if e != red]\n",
    "    resName = \"ResGen_\" + str(test) + \"_\" + str(red)\n",
    "    Gamma = model.Matching(m0)\n",
    "    model.SeqResGen(Gamma, red, resName, language='C', batch=True, user_functions=VEP4Engine.ext_funs,\n",
    "               external_headers=['extmodelfuns.h'], external_src=['extmodelfuns.cc'])\n",
    "    print(\"\")"
   ]
  },
  {
   "cell_type": "markdown",
   "metadata": {},
   "source": [
    "Compile sources"
   ]
  },
  {
   "cell_type": "code",
   "execution_count": 10,
   "metadata": {},
   "outputs": [
    {
     "name": "stdout",
     "output_type": "stream",
     "text": [
      "Compiling residual generator: ResGen_1649_1 ... Success!\n",
      "Compiling residual generator: ResGen_4011_1 ... Success!\n",
      "Compiling residual generator: ResGen_4016_1 ... Success!\n",
      "Compiling residual generator: ResGen_4017_84 ... Success!\n",
      "Compiling residual generator: ResGen_4066_1 ... Success!\n",
      "Compiling residual generator: ResGen_4074_84 ... Success!\n",
      "Compiling residual generator: ResGen_4477_86 ... Success!\n"
     ]
    }
   ],
   "source": [
    "for test,redIdx in zip(ts,re):\n",
    "    red = msos[test][redIdx]\n",
    "    resName = \"ResGen_\" + str(test) + \"_\" + str(red)\n",
    "    sys.stdout.write(\"Compiling residual generator: \" + resName + \" ... \")\n",
    "    if os.system(\"python \" + resName + \"_setup.py build_ext --inplace\")==0:\n",
    "        sys.stdout.write('Success!\\n')\n",
    "    else:\n",
    "        sys.stdout.write('Failure!\\n')"
   ]
  },
  {
   "cell_type": "markdown",
   "metadata": {},
   "source": [
    "Import generated residual generator modules"
   ]
  },
  {
   "cell_type": "code",
   "execution_count": 11,
   "metadata": {},
   "outputs": [],
   "source": [
    "import ResGen_1649_1\n",
    "import ResGen_4011_1\n",
    "import ResGen_4016_1\n",
    "import ResGen_4017_84\n",
    "import ResGen_4066_1\n",
    "import ResGen_4074_84\n",
    "import ResGen_4477_86"
   ]
  },
  {
   "cell_type": "markdown",
   "metadata": {},
   "source": [
    "# Import measurement data"
   ]
  },
  {
   "cell_type": "code",
   "execution_count": 13,
   "metadata": {},
   "outputs": [
    {
     "name": "stdout",
     "output_type": "stream",
     "text": [
      "Loading data ..... Finished loading 5 datasets\n"
     ]
    }
   ],
   "source": [
    "dataDir = '/Users/frisk/Diagnosis/Work/EngineDiagnosis/Work/Data/'\n",
    "dataSets = {'NF' : 'driving_cycle_FTP75_highway_no_fault_dataset1_16-01-20.mat',\n",
    "            'fyp_im' : 'driving_cycle_FTP75Highway_fault_y_pim_dataset_7_26-01-2016.mat',\n",
    "            'fyw_af' : 'driving_cycle_FTP75Highway_fault_y_waf_dataset_5_26-01-2016',\n",
    "            'fyp_ic' : 'driving_cycle_FTP75Highway_fault_y_pic_dataset_8_26-01-2016',\n",
    "            'fyT_ic' : 'driving_cycle_FTP75Highway_fault_y_Tic_dataset_6_26-01-2016'}\n",
    "data = {}\n",
    "sys.stdout.write('Loading data ')\n",
    "for dd in dataSets:\n",
    "    sys.stdout.write('.')\n",
    "    data[dd] = gm.GetMeasurementData(dataDir + dataSets[dd])\n",
    "sys.stdout.write(' Finished loading ' + str(len(data.keys())) + ' datasets\\n')\n",
    "ftp75_hwfet = loadmat(dataDir + 'ftp75_hwfet.mat')\n",
    "ftp75_hwfet = {'t': ftp75_hwfet['ftp75_hwfet']['t'], 'v':ftp75_hwfet['ftp75_hwfet']['v']}"
   ]
  },
  {
   "cell_type": "code",
   "execution_count": 14,
   "metadata": {},
   "outputs": [],
   "source": [
    "plt.figure(90)\n",
    "plt.plot(ftp75_hwfet['t']/60.0, ftp75_hwfet['v'], linewidth=2)\n",
    "BoxOff()\n",
    "plt.xlabel('t [min]')\n",
    "plt.ylabel('Velocity [km/h]')\n",
    "plt.title('EPA Highway Fuel Economy Test Cycle (HWFET)');"
   ]
  },
  {
   "cell_type": "code",
   "execution_count": 15,
   "metadata": {},
   "outputs": [],
   "source": [
    "DS = 500 # Down sampling rate in plots\n",
    "plt.figure(80)\n",
    "plt.subplot( 3,3,1 )\n",
    "yIdx = model.z.index('y_omega_e')\n",
    "plt.plot( data['NF']['time'][::DS]/60.0, data['NF']['z'][::DS,yIdx]/(2*np.pi)*60 )\n",
    "plt.ylabel('rpm')\n",
    "plt.title('Engine speed')\n",
    "plt.xlim([data['NF']['time'][0], data['NF']['time'][-1]/60])\n",
    "BoxOff()\n",
    "plt.gca().get_yaxis().set_major_locator(matplotlib.ticker.MaxNLocator(4))\n",
    "\n",
    "plt.subplot( 3,3,2 )\n",
    "yIdx = model.z.index('y_p_im')\n",
    "plt.plot( data['NF']['time'][::DS]/60.0, data['NF']['z'][::DS,yIdx]/1e3 )\n",
    "plt.ylabel('kPa')\n",
    "plt.title('Intake manifold pressure')\n",
    "plt.xlim([data['NF']['time'][0], data['NF']['time'][-1]/60])\n",
    "BoxOff()\n",
    "plt.gca().get_yaxis().set_major_locator(matplotlib.ticker.MaxNLocator(4))\n",
    "\n",
    "plt.subplot( 3,3,3 )\n",
    "yIdx = model.z.index('y_W_af')\n",
    "plt.plot( data['NF']['time'][::DS]/60.0, data['NF']['z'][::DS,yIdx] )\n",
    "plt.ylabel('kg/s')\n",
    "plt.title('Air mass flow')\n",
    "plt.xlim([data['NF']['time'][0], data['NF']['time'][-1]/60])\n",
    "BoxOff()\n",
    "plt.gca().get_yaxis().set_major_locator(matplotlib.ticker.MaxNLocator(4))\n",
    "\n",
    "plt.subplot( 3,3,4 )\n",
    "yIdx = model.z.index('y_alpha_th')\n",
    "plt.plot( data['NF']['time'][::DS]/60.0, data['NF']['z'][::DS,yIdx] )\n",
    "plt.ylabel('%')\n",
    "plt.title('Throttle position')\n",
    "plt.xlim([data['NF']['time'][0], data['NF']['time'][-1]/60])\n",
    "BoxOff()\n",
    "plt.gca().get_yaxis().set_major_locator(matplotlib.ticker.MaxNLocator(4))\n",
    "\n",
    "plt.subplot( 3,3,5 )\n",
    "yIdx = model.z.index('y_wfc')\n",
    "plt.plot( data['NF']['time'][::DS]/60.0, data['NF']['z'][::DS,yIdx]*1.0e6 )\n",
    "plt.ylabel('mg/s')\n",
    "plt.title('Injected fuel')\n",
    "plt.xlim([data['NF']['time'][0], data['NF']['time'][-1]/60])\n",
    "BoxOff()\n",
    "plt.gca().get_yaxis().set_major_locator(matplotlib.ticker.MaxNLocator(4))\n",
    "\n",
    "plt.subplot( 3,3,6 )\n",
    "yIdx = model.z.index('y_u_wg')\n",
    "plt.plot( data['NF']['time'][::DS]/60.0, data['NF']['z'][::DS,yIdx] )\n",
    "plt.ylabel('%')\n",
    "plt.title('Wastegate')\n",
    "plt.xlim([data['NF']['time'][0], data['NF']['time'][-1]/60])\n",
    "BoxOff()\n",
    "plt.gca().get_yaxis().set_major_locator(matplotlib.ticker.MaxNLocator(4))\n",
    "\n",
    "plt.subplot( 3,3,7 )\n",
    "yIdx = model.z.index('y_p_ic')\n",
    "plt.plot( data['NF']['time'][::DS]/60.0, data['NF']['z'][::DS,yIdx]/1e3 )\n",
    "plt.xlabel('t [min]')\n",
    "plt.ylabel('kPa')\n",
    "plt.title('Intercooler pressure')\n",
    "plt.xlim([data['NF']['time'][0], data['NF']['time'][-1]/60])\n",
    "BoxOff()\n",
    "plt.gca().get_yaxis().set_major_locator(matplotlib.ticker.MaxNLocator(4))\n",
    "\n",
    "plt.subplot( 3,3,8 )\n",
    "yIdx = model.z.index('y_T_ic')\n",
    "plt.plot( data['NF']['time'][::DS]/60.0, data['NF']['z'][::DS,yIdx] )\n",
    "plt.xlabel('t [min]')\n",
    "plt.ylabel('K')\n",
    "plt.title('Intercooler temperature')\n",
    "plt.xlim([data['NF']['time'][0], data['NF']['time'][-1]/60])\n",
    "BoxOff()\n",
    "plt.gca().get_yaxis().set_major_locator(matplotlib.ticker.MaxNLocator(4))\n",
    "\n",
    "plt.subplot( 3,3,9 )\n",
    "yIdx = model.z.index('y_p_amb')\n",
    "plt.plot( data['NF']['time'][::DS]/60.0, data['NF']['z'][::DS,yIdx]/1.0e3 )\n",
    "plt.xlabel('t [min]')\n",
    "plt.ylabel('kPa')\n",
    "plt.title('Ambient pressure')\n",
    "plt.xlim([data['NF']['time'][0], data['NF']['time'][-1]/60])\n",
    "BoxOff()\n",
    "plt.gca().get_yaxis().set_major_locator(matplotlib.ticker.MaxNLocator(4))\n",
    "plt.ylim(99,101)\n",
    "plt.tight_layout()\n",
    "plt.subplots_adjust(top=0.9)\n",
    "plt.suptitle('Measurement data, no-fault dataset',fontsize=14, weight='bold');"
   ]
  },
  {
   "cell_type": "markdown",
   "metadata": {},
   "source": [
    "# Run residual generators on measurement data"
   ]
  },
  {
   "cell_type": "code",
   "execution_count": 16,
   "metadata": {},
   "outputs": [
    {
     "name": "stdout",
     "output_type": "stream",
     "text": [
      "r1: MSO 1649\n",
      "  dataset NF (0.40 sec, 1965.2 x real time @ 1000 Hz)\n",
      "  dataset fyp_im (0.39 sec, 1984.5 x real time @ 1000 Hz)\n",
      "  dataset fyw_af (0.39 sec, 1985.3 x real time @ 1000 Hz)\n",
      "  dataset fyp_ic (0.39 sec, 1964.4 x real time @ 1000 Hz)\n",
      "  dataset fyT_ic (0.40 sec, 1940.7 x real time @ 1000 Hz)\n",
      "\n",
      "r2: MSO 4011\n",
      "  dataset NF (0.37 sec, 2081.6 x real time @ 1000 Hz)\n",
      "  dataset fyp_im (0.37 sec, 2067.2 x real time @ 1000 Hz)\n",
      "  dataset fyw_af (0.37 sec, 2091.9 x real time @ 1000 Hz)\n",
      "  dataset fyp_ic (0.37 sec, 2089.6 x real time @ 1000 Hz)\n",
      "  dataset fyT_ic (0.36 sec, 2104.5 x real time @ 1000 Hz)\n",
      "\n",
      "r3: MSO 4016\n",
      "  dataset NF (0.39 sec, 1981.6 x real time @ 1000 Hz)\n",
      "  dataset fyp_im (0.39 sec, 1979.1 x real time @ 1000 Hz)\n",
      "  dataset fyw_af (0.39 sec, 1977.5 x real time @ 1000 Hz)\n",
      "  dataset fyp_ic (0.39 sec, 1956.3 x real time @ 1000 Hz)\n",
      "  dataset fyT_ic (0.39 sec, 1964.3 x real time @ 1000 Hz)\n",
      "\n",
      "r4: MSO 4017\n",
      "  dataset NF (0.37 sec, 2087.2 x real time @ 1000 Hz)\n",
      "  dataset fyp_im (0.37 sec, 2087.7 x real time @ 1000 Hz)\n",
      "  dataset fyw_af (0.37 sec, 2087.7 x real time @ 1000 Hz)\n",
      "  dataset fyp_ic (0.37 sec, 2092.7 x real time @ 1000 Hz)\n",
      "  dataset fyT_ic (0.37 sec, 2094.8 x real time @ 1000 Hz)\n",
      "\n",
      "r5: MSO 4066\n",
      "  dataset NF (0.40 sec, 1928.4 x real time @ 1000 Hz)\n",
      "  dataset fyp_im (0.40 sec, 1898.3 x real time @ 1000 Hz)\n",
      "  dataset fyw_af (0.40 sec, 1922.5 x real time @ 1000 Hz)\n",
      "  dataset fyp_ic (0.40 sec, 1926.6 x real time @ 1000 Hz)\n",
      "  dataset fyT_ic (0.40 sec, 1911.4 x real time @ 1000 Hz)\n",
      "\n",
      "r6: MSO 4074\n",
      "  dataset NF (0.40 sec, 1955.1 x real time @ 1000 Hz)\n",
      "  dataset fyp_im (0.39 sec, 1948.3 x real time @ 1000 Hz)\n",
      "  dataset fyw_af (0.40 sec, 1903.5 x real time @ 1000 Hz)\n",
      "  dataset fyp_ic (0.40 sec, 1915.3 x real time @ 1000 Hz)\n",
      "  dataset fyT_ic (0.40 sec, 1912.6 x real time @ 1000 Hz)\n",
      "\n",
      "r7: MSO 4477\n",
      "  dataset NF (0.40 sec, 1926.8 x real time @ 1000 Hz)\n",
      "  dataset fyp_im (0.40 sec, 1920.5 x real time @ 1000 Hz)\n",
      "  dataset fyw_af (0.40 sec, 1925.8 x real time @ 1000 Hz)\n",
      "  dataset fyp_ic (0.40 sec, 1934.9 x real time @ 1000 Hz)\n",
      "  dataset fyT_ic (0.40 sec, 1937.1 x real time @ 1000 Hz)\n"
     ]
    }
   ],
   "source": [
    "print(\"r1: MSO 1649\")\n",
    "r1 = RunResgenOnDataSets( ResGen_1649_1.ResGen_1649_1, data, VEP4Engine.diag_par )\n",
    "print(\"\\nr2: MSO 4011\")\n",
    "r2 = RunResgenOnDataSets( ResGen_4011_1.ResGen_4011_1, data, VEP4Engine.diag_par )\n",
    "print(\"\\nr3: MSO 4016\")\n",
    "r3 = RunResgenOnDataSets( ResGen_4016_1.ResGen_4016_1, data, VEP4Engine.diag_par )\n",
    "print(\"\\nr4: MSO 4017\")\n",
    "r4 = RunResgenOnDataSets( ResGen_4017_84.ResGen_4017_84, data, VEP4Engine.diag_par )\n",
    "print(\"\\nr5: MSO 4066\")\n",
    "r5 = RunResgenOnDataSets( ResGen_4066_1.ResGen_4066_1, data, VEP4Engine.diag_par )\n",
    "print(\"\\nr6: MSO 4074\")\n",
    "r6 = RunResgenOnDataSets( ResGen_4074_84.ResGen_4074_84, data, VEP4Engine.diag_par )\n",
    "print(\"\\nr7: MSO 4477\")\n",
    "r7 = RunResgenOnDataSets( ResGen_4477_86.ResGen_4477_86, data, VEP4Engine.diag_par )\n",
    "r = [r1, r2, r3, r4, r5, r6, r7]\n",
    "for ri in r:\n",
    "    if 'NF' in ri:\n",
    "        bias = np.mean(ri['NF'])*0.0\n",
    "        normFact = np.max(np.abs(ri['NF']-bias))*1.1\n",
    "        for FM in ri:\n",
    "                ri[FM] = 1/normFact*(ri[FM]-bias)"
   ]
  },
  {
   "cell_type": "markdown",
   "metadata": {},
   "source": [
    "Simple threshold selection strategy"
   ]
  },
  {
   "cell_type": "code",
   "execution_count": 17,
   "metadata": {},
   "outputs": [],
   "source": [
    "alpha = 1e-3\n",
    "J = np.zeros(len(r))\n",
    "for rIdx, ri in enumerate(r):\n",
    "  N = len(ri['NF'])\n",
    "  foo = np.sort(np.abs(ri['NF']))\n",
    "  J[rIdx] = foo[np.ceil(N*(1-alpha)).astype(np.int64)]"
   ]
  },
  {
   "cell_type": "markdown",
   "metadata": {},
   "source": [
    "Plot residuals"
   ]
  },
  {
   "cell_type": "code",
   "execution_count": 18,
   "metadata": {},
   "outputs": [
    {
     "name": "stderr",
     "output_type": "stream",
     "text": [
      "/Users/frisk/sw/pyenv/37/lib/python3.7/site-packages/ipykernel_launcher.py:27: MatplotlibDeprecationWarning: Adding an axes using the same arguments as a previous axes currently reuses the earlier instance.  In a future version, a new instance will always be created and returned.  Meanwhile, this warning can be suppressed, and the future behavior ensured, by passing a unique label to each axes instance.\n",
      "/Users/frisk/sw/pyenv/37/lib/python3.7/site-packages/ipykernel_launcher.py:29: MatplotlibDeprecationWarning: Adding an axes using the same arguments as a previous axes currently reuses the earlier instance.  In a future version, a new instance will always be created and returned.  Meanwhile, this warning can be suppressed, and the future behavior ensured, by passing a unique label to each axes instance.\n",
      "/Users/frisk/sw/pyenv/37/lib/python3.7/site-packages/ipykernel_launcher.py:31: MatplotlibDeprecationWarning: Adding an axes using the same arguments as a previous axes currently reuses the earlier instance.  In a future version, a new instance will always be created and returned.  Meanwhile, this warning can be suppressed, and the future behavior ensured, by passing a unique label to each axes instance.\n"
     ]
    }
   ],
   "source": [
    "ds = 500\n",
    "# dc = ['NF','fyp_im','fyw_af','fyp_ic','fyT_ic']\n",
    "dc = ['NF', 'fyw_af']\n",
    "for idx,fm in enumerate(dc):\n",
    "    if fm in r[0]: # Data set exists in first residual\n",
    "        plt.figure(50+idx)\n",
    "        for ridx, ri in enumerate(r):\n",
    "            plt.subplot( 3,3, ridx+1)\n",
    "            plt.plot( data[fm]['time'][::ds]/60.0, ri[fm][::ds])\n",
    "            plt.gca().get_yaxis().set_major_locator(matplotlib.ticker.MaxNLocator(4))\n",
    "            plt.gca().get_xaxis().set_major_locator(matplotlib.ticker.MaxNLocator(4))\n",
    "            if fm in model.f and FSM[ridx,model.f.index(fm)]==1:\n",
    "                for t1Idx,t2Idx in zip(data[fm]['fault_idx'][0:-1:2],data[fm]['fault_idx'][1::2]):\n",
    "                    y1, y2 = plt.ylim()\n",
    "                    t1 = data[fm]['time'][t1Idx]/60.0\n",
    "                    t2 = data[fm]['time'][t2Idx]/60.0\n",
    "                    plt.gca().add_patch(mpatches.Rectangle((t1,y1), t2-t1, y2-y1, facecolor='0.9', edgecolor='none'))\n",
    "            plt.plot( data[fm]['time'][::ds]/60.0, data[fm]['time'][::ds]*0+J[ridx], 'k--')\n",
    "            plt.plot( data[fm]['time'][::ds]/60.0, data[fm]['time'][::ds]*0-J[ridx], 'k--')\n",
    "            \n",
    "            if fm in model.f and FSM[ridx,model.f.index(fm)]==1:\n",
    "                plt.title('r%d: MSO %d (*)' % (ridx+1,ts[ridx]), fontsize=10, weight='bold')\n",
    "            else:\n",
    "                plt.title('r%d: MSO %d' % (ridx+1,ts[ridx]), fontsize=10, weight='bold')\n",
    "            plt.xlim((0,np.max(data[fm]['time'])/60))\n",
    "            BoxOff()\n",
    "        plt.subplot(3,3,7)\n",
    "        plt.xlabel('t [min]');\n",
    "        plt.subplot(3,3,5)\n",
    "        plt.xlabel('t [min]');\n",
    "        plt.subplot(3,3,6)\n",
    "        plt.xlabel('t [min]');\n",
    "        plt.tight_layout()\n",
    "        plt.subplots_adjust(top=0.9)\n",
    "        plt.suptitle('Dataset: ' + fm,fontsize=12, weight='bold');"
   ]
  },
  {
   "cell_type": "markdown",
   "metadata": {},
   "source": [
    "Plot residual distributions"
   ]
  },
  {
   "cell_type": "code",
   "execution_count": 19,
   "metadata": {},
   "outputs": [],
   "source": [
    "ds = 200\n",
    "M = 50 # Number of data points in KDE plots\n",
    "# dc = ['NF','fyp_im','fyw_af','fyp_ic','fyT_ic']\n",
    "dc = ['NF', 'fyw_af']\n",
    "for idx,fm in enumerate(dc):\n",
    "    if fm in r[0]: # Data set exists in first residual\n",
    "        plt.figure(60+idx)\n",
    "        for ridx, ri in enumerate(r):\n",
    "            plt.subplot( 3,3, ridx+1)\n",
    "            pNF = gaussian_kde(ri[fm][data[fm]['fault_vector']==0][::ds])\n",
    "            if not fm is 'NF':\n",
    "                pF = gaussian_kde(ri[fm][data[fm]['fault_vector']==1][::ds])\n",
    "            rmin = np.min([np.min(ri['NF']), np.min(ri[fm]), -1])\n",
    "            rmax = np.max([np.max(ri['NF']), np.max(ri[fm]), 1])\n",
    "            r_range = np.arange(0,M)*(rmax-rmin)*1.1/(M-1) + rmin - (rmax-rmin)*0.05\n",
    "            plt.plot( r_range, pNF(r_range), 'b', linewidth=2)\n",
    "            if not fm is 'NF':\n",
    "                plt.plot( r_range, pF(r_range), 'r', linewidth=2)\n",
    "            if fm in model.f and FSM[ridx,model.f.index(fm)]==1:\n",
    "                plt.title('r%d: MSO %d (*)' % (ridx+1,ts[ridx]), fontsize=10, weight='bold')\n",
    "            else:\n",
    "                plt.title('r%d: MSO %d' % (ridx+1,ts[ridx]), fontsize=10, weight='bold')\n",
    "            plt.gca().get_xaxis().set_major_locator(matplotlib.ticker.MaxNLocator(3))\n",
    "            plt.gca().get_yaxis().set_major_locator(matplotlib.ticker.MaxNLocator(4))\n",
    "            yl = plt.ylim()\n",
    "            plt.plot([-1,-1],[0,0.3*yl[1]], 'k--')\n",
    "            plt.plot([1,1],[0,0.3*yl[1]], 'k--')\n",
    "            BoxOff()\n",
    "        plt.tight_layout()\n",
    "        plt.subplots_adjust(top=0.9)\n",
    "        plt.suptitle('Dataset: ' + fm,fontsize=12, weight='bold');"
   ]
  },
  {
   "cell_type": "code",
   "execution_count": null,
   "metadata": {},
   "outputs": [],
   "source": []
  }
 ],
 "metadata": {
  "kernelspec": {
   "display_name": "Python 3",
   "language": "python",
   "name": "python3"
  },
  "language_info": {
   "codemirror_mode": {
    "name": "ipython",
    "version": 3
   },
   "file_extension": ".py",
   "mimetype": "text/x-python",
   "name": "python",
   "nbconvert_exporter": "python",
   "pygments_lexer": "ipython3",
   "version": "3.7.3"
  }
 },
 "nbformat": 4,
 "nbformat_minor": 4
}
