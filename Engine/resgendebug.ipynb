{
 "cells": [
  {
   "cell_type": "code",
   "execution_count": 1,
   "metadata": {
    "collapsed": false
   },
   "outputs": [],
   "source": [
    "%matplotlib notebook\n",
    "import matplotlib\n",
    "import matplotlib.pyplot as plt\n",
    "import sys\n",
    "import numpy as np\n",
    "import sympy as sym\n",
    "from sympy.printing import octave_code, ccode\n",
    "import copy\n",
    "import scipy\n",
    "\n",
    "new_paths = ['../Misc/', '../src', '../src/faultdiagnosistoolbox/build/lib.macosx-10.6-x86_64-2.7/', 'build/lib.macosx-10.6-x86_64-2.7/']\n",
    "[sys.path.append(d) for d in new_paths if not d in sys.path];\n",
    "from misc import *\n",
    "import faultdiagnosistoolbox as fdt\n",
    "import GetMeasurementData as gm"
   ]
  },
  {
   "cell_type": "code",
   "execution_count": 3,
   "metadata": {
    "collapsed": false
   },
   "outputs": [
    {
     "name": "stdout",
     "output_type": "stream",
     "text": [
      "Model: VEP4\n",
      "\n",
      "  Type:Symbolic, dynamic\n",
      "\n",
      "  Variables and equations\n",
      "    90 unknown variables\n",
      "    10 known variables\n",
      "    11 fault variables\n",
      "    94 equations, including 14 differential constraints\n",
      "\n",
      "  Degree of redundancy: 4\n",
      "  Degree of redundancy of MTES set: 1\n",
      "\n",
      "\n",
      "  Model validation finished with 0 errors and 0 warnings.\n"
     ]
    }
   ],
   "source": [
    "import VEP4Engine\n",
    "reload(VEP4Engine)\n",
    "model = VEP4Engine.model;\n",
    "model.Lint()"
   ]
  },
  {
   "cell_type": "code",
   "execution_count": 4,
   "metadata": {
    "collapsed": false
   },
   "outputs": [
    {
     "name": "stdout",
     "output_type": "stream",
     "text": [
      "Loading data ..... Finished loading 5 datasets\n"
     ]
    }
   ],
   "source": [
    "dataDir = '/Users/frisk/Diagnos/Work/EngineDiagnosis/Work/Data/'\n",
    "dataSets = {'NF' : 'driving_cycle_FTP75_highway_no_fault_dataset1_16-01-20.mat',\n",
    "            'fyp_im' : 'driving_cycle_FTP75Highway_fault_y_pim_dataset_7_26-01-2016.mat',\n",
    "            'fyw_af' : 'driving_cycle_FTP75Highway_fault_y_waf_dataset_5_26-01-2016',\n",
    "            'fyp_ic' : 'driving_cycle_FTP75Highway_fault_y_pic_dataset_8_26-01-2016',\n",
    "            'fyT_ic' : 'driving_cycle_FTP75Highway_fault_y_Tic_dataset_6_26-01-2016'}\n",
    "data = {}\n",
    "sys.stdout.write('Loading data ')\n",
    "for dd in dataSets:\n",
    "    sys.stdout.write('.')\n",
    "    data[dd] = gm.GetMeasurementData(dataDir + dataSets[dd])\n",
    "sys.stdout.write(' Finished loading ' + str(len(data.keys())) + ' datasets\\n')"
   ]
  },
  {
   "cell_type": "code",
   "execution_count": 5,
   "metadata": {
    "collapsed": false
   },
   "outputs": [
    {
     "name": "stdout",
     "output_type": "stream",
     "text": [
      "Searchin for MSO sets...\n",
      "Found 4496 MSO sets\n"
     ]
    }
   ],
   "source": [
    "print \"Searchin for MSO sets...\"\n",
    "msos = model.MSO()\n",
    "print \"Found \" + str(len(msos)) + \" MSO sets\""
   ]
  },
  {
   "cell_type": "code",
   "execution_count": null,
   "metadata": {
    "collapsed": true
   },
   "outputs": [],
   "source": [
    "# MSO selected in simple Kulback-Leibler selection strategy\n",
    "ts = [ 1649, 4011, 4016, 4017, 4066, 4074, 4477]\n",
    "re = [ 73  , 75  , 75  , 3   , 76  , 3   , 2]"
   ]
  },
  {
   "cell_type": "code",
   "execution_count": null,
   "metadata": {
    "collapsed": false
   },
   "outputs": [],
   "source": [
    "test = ts[0]\n",
    "mso = msos[test]\n",
    "red = mso[re[0]]\n",
    "m0 = [e for e in mso if e != red]\n",
    "resName = \"ResGen_\" + str(test) + \"_\" + str(red)\n",
    "Gamma = model.Matching(m0)\n",
    "model.SeqResGen(Gamma, red, resName, language='Python', batch=False, external_src=['extmodelfuns.py'])\n",
    "model.SeqResGen(Gamma, red, resName + '_b', language='Python', batch=True, external_src=['extmodelfuns.py'])\n",
    "model.SeqResGen(Gamma, red, resName + \"c\", language='C', batch=False, user_functions=VEP4Engine.ext_funs,\n",
    "               external_headers=['extmodelfuns.h'], external_src=['extmodelfuns.cc'])\n",
    "model.SeqResGen(Gamma, red, resName + \"c_b\", language='C', batch=True, user_functions=VEP4Engine.ext_funs,\n",
    "               external_headers=['extmodelfuns.h'], external_src=['extmodelfuns.cc'])"
   ]
  },
  {
   "cell_type": "code",
   "execution_count": null,
   "metadata": {
    "collapsed": false
   },
   "outputs": [],
   "source": [
    "import ResGen_1649_1\n",
    "import ResGen_1649_1_b\n",
    "import ResGen_1649_1c\n",
    "import ResGen_1649_1c_b\n",
    "reload(ResGen_1649_1);\n",
    "reload(ResGen_1649_1_b);"
   ]
  },
  {
   "cell_type": "code",
   "execution_count": null,
   "metadata": {
    "collapsed": false
   },
   "outputs": [],
   "source": [
    "ds = data['NF']\n",
    "N = len(ds['time'])\n",
    "r = np.zeros(N)\n",
    "Ts = ds['Ts']\n",
    "state = ds['state_init'].copy()\n",
    "t = Timer()\n",
    "\n",
    "t.tic()\n",
    "for k,zk in enumerate(ds['z']):\n",
    "    if np.mod(k,N/20)==0:\n",
    "        sys.stdout.write('%.0f%% ' % (k/float(N)*100))\n",
    "    r[k],state = ResGen_1649_1.ResGen_1649_1(zk, \n",
    "                                state, \n",
    "                                VEP4Engine.diag_par, \n",
    "                                Ts)\n",
    "sys.stdout.write('\\n')\n",
    "print \"Residual generation completed in %.1f seconds\" % (t.toc())"
   ]
  },
  {
   "cell_type": "code",
   "execution_count": null,
   "metadata": {
    "collapsed": false
   },
   "outputs": [],
   "source": [
    "t.tic()\n",
    "state = ds['state_init'].copy()\n",
    "r_b = ResGen_1649_1_b.ResGen_1649_1_b(ds['z'],state,VEP4Engine.diag_par,Ts)\n",
    "print \"Residual generation completed in %.1f seconds\" % (t.toc())"
   ]
  },
  {
   "cell_type": "code",
   "execution_count": null,
   "metadata": {
    "collapsed": false
   },
   "outputs": [],
   "source": [
    "rc = np.zeros(N)\n",
    "state = ds['state_init'].copy()\n",
    "t.tic()\n",
    "for k,zk in enumerate(ds['z']):\n",
    "    if np.mod(k,N/20)==0:\n",
    "        sys.stdout.write('%.0f%% ' % (k/float(N)*100))\n",
    "    rc[k],state = ResGen_1649_1c.ResGen_1649_1c(zk, \n",
    "                                state, \n",
    "                                VEP4Engine.diag_par, \n",
    "                                Ts)\n",
    "sys.stdout.write('\\n')\n",
    "print \"Residual generation completed in %.1f seconds\" % (t.toc())"
   ]
  },
  {
   "cell_type": "code",
   "execution_count": null,
   "metadata": {
    "collapsed": false
   },
   "outputs": [],
   "source": [
    "t.tic()\n",
    "state = ds['state_init'].copy()\n",
    "rc_b = ResGen_1649_1c_b.ResGen_1649_1c_b(ds['z'],state,VEP4Engine.diag_par,Ts)\n",
    "print \"Residual generation completed in %.3f seconds\" % (t.toc())"
   ]
  },
  {
   "cell_type": "code",
   "execution_count": null,
   "metadata": {
    "collapsed": false
   },
   "outputs": [],
   "source": [
    "plt.figure(10)\n",
    "plt.plot(r[::1000])\n",
    "plt.plot(r_b[::1000])\n",
    "plt.plot(rc[::1000])\n",
    "plt.plot(rc_b[::1000])\n"
   ]
  },
  {
   "cell_type": "code",
   "execution_count": null,
   "metadata": {
    "collapsed": false
   },
   "outputs": [],
   "source": [
    "print np.linalg.norm(r-r_b)\n",
    "print np.linalg.norm(rc-rc_b)\n",
    "print np.linalg.norm(r-rc)"
   ]
  },
  {
   "cell_type": "code",
   "execution_count": null,
   "metadata": {
    "collapsed": false
   },
   "outputs": [],
   "source": [
    "plt.figure(20)\n",
    "plt.plot(r-rc)"
   ]
  },
  {
   "cell_type": "code",
   "execution_count": null,
   "metadata": {
    "collapsed": true
   },
   "outputs": [],
   "source": []
  }
 ],
 "metadata": {
  "kernelspec": {
   "display_name": "Python 2",
   "language": "python",
   "name": "python2"
  },
  "language_info": {
   "codemirror_mode": {
    "name": "ipython",
    "version": 2
   },
   "file_extension": ".py",
   "mimetype": "text/x-python",
   "name": "python",
   "nbconvert_exporter": "python",
   "pygments_lexer": "ipython2",
   "version": "2.7.12"
  }
 },
 "nbformat": 4,
 "nbformat_minor": 0
}
