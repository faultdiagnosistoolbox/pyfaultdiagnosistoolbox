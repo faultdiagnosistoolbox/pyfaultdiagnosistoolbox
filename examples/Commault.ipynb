{
 "cells": [
  {
   "cell_type": "markdown",
   "metadata": {},
   "source": [
    "Sensor placement analysis of the model in \"_Structural analysis for the sensor location problem in fault detection and isolation_\" by C. Commault, J. Dion and S.Y. Agha, Proceedings of Safeprocess'06, Beijing, China.\n",
    "\n",
    "To compare results, remember the difference that in this approach, in contrast to the Commault et.al. paper, the fault signals are not considered measurable."
   ]
  },
  {
   "cell_type": "code",
   "execution_count": null,
   "metadata": {
    "collapsed": true
   },
   "outputs": [],
   "source": [
    "%matplotlib notebook\n",
    "import numpy as np\n",
    "import matplotlib.pyplot as plt\n",
    "import sys\n",
    "new_paths = ['../Misc/', '../src/','../src/faultdiagnosistoolbox/build/lib.macosx-10.6-x86_64-2.7/']\n",
    "[sys.path.append(d) for d in new_paths if not d in sys.path]\n",
    "from misc import *\n",
    "import faultdiagnosistoolbox as fdt"
   ]
  },
  {
   "cell_type": "markdown",
   "metadata": {},
   "source": [
    "Define the model structure"
   ]
  },
  {
   "cell_type": "code",
   "execution_count": null,
   "metadata": {
    "collapsed": false
   },
   "outputs": [],
   "source": [
    "modelDef={}\n",
    "modelDef['type'] = 'MatrixStruc'\n",
    "modelDef['X'] = [\n",
    "    [0, 0, 0, 0, 1, 0, 0],\n",
    "    [0, 0, 0, 0, 0, 0, 1],\n",
    "    [0, 0, 0, 0, 0, 1, 0],\n",
    "    [1, 0, 0, 0, 1, 0, 1],\n",
    "    [0, 1, 0, 0, 0, 1, 0],\n",
    "    [1, 1, 1, 0, 0, 0, 0],\n",
    "    [1, 1, 0, 1, 0, 0, 0],\n",
    "    [0, 0, 1, 0, 0, 0, 0],\n",
    "    [0, 0, 1, 1, 0, 0, 0],\n",
    "    [0, 0, 0, 1, 0, 0, 0]]\n",
    "\n",
    "modelDef['F'] = [\n",
    "    [1, 0, 0, 0],\n",
    "    [0, 1, 0, 0],\n",
    "    [0, 0, 0, 1],\n",
    "    [0, 0, 0, 0],\n",
    "    [0, 0, 1, 0],\n",
    "    [0, 0, 0, 0],\n",
    "    [0, 0, 0, 0],\n",
    "    [0, 0, 0, 0],\n",
    "    [0, 0, 0, 0],\n",
    "    [0, 0, 0, 0]]\n",
    "\n",
    "modelDef['Z'] = [\n",
    "    [0, 0, 0],\n",
    "    [0, 0, 0],\n",
    "    [0, 0, 0],\n",
    "    [0, 0, 0],\n",
    "    [0, 0, 0],\n",
    "    [0, 0, 0],\n",
    "    [0, 0, 0],\n",
    "    [1, 0, 0],\n",
    "    [0, 1, 0],\n",
    "    [0, 0, 1]]\n",
    "model = fdt.DiagnosisModel(modelDef, name='Example from Commault et.al')\n",
    "model.Lint()"
   ]
  },
  {
   "cell_type": "markdown",
   "metadata": {},
   "source": [
    "Plot model structure"
   ]
  },
  {
   "cell_type": "code",
   "execution_count": null,
   "metadata": {
    "collapsed": false
   },
   "outputs": [],
   "source": [
    "plt.figure(10)\n",
    "model.PlotModel()"
   ]
  },
  {
   "cell_type": "markdown",
   "metadata": {},
   "source": [
    "Perform isolability analysis"
   ]
  },
  {
   "cell_type": "code",
   "execution_count": null,
   "metadata": {
    "collapsed": false
   },
   "outputs": [],
   "source": [
    "plt.figure(20)\n",
    "model.IsolabilityAnalysis(plot=True);"
   ]
  },
  {
   "cell_type": "code",
   "execution_count": null,
   "metadata": {
    "collapsed": false
   },
   "outputs": [],
   "source": [
    "sensSets,_ = model.SensorPlacementIsolability()\n",
    "print \"Found \" + str(len(sensSets)) + \" sensor sets\""
   ]
  },
  {
   "cell_type": "markdown",
   "metadata": {},
   "source": [
    "Add first sensor set and redo isolability analysis"
   ]
  },
  {
   "cell_type": "code",
   "execution_count": null,
   "metadata": {
    "collapsed": false
   },
   "outputs": [],
   "source": [
    "model2 = model.copy()\n",
    "model2.AddSensors(sensSets[0])\n",
    "plt.figure(30)\n",
    "model2.IsolabilityAnalysis(plot=True);"
   ]
  }
 ],
 "metadata": {
  "kernelspec": {
   "display_name": "Python 2",
   "language": "python",
   "name": "python2"
  },
  "language_info": {
   "codemirror_mode": {
    "name": "ipython",
    "version": 2
   },
   "file_extension": ".py",
   "mimetype": "text/x-python",
   "name": "python",
   "nbconvert_exporter": "python",
   "pygments_lexer": "ipython2",
   "version": "2.7.12"
  }
 },
 "nbformat": 4,
 "nbformat_minor": 0
}
