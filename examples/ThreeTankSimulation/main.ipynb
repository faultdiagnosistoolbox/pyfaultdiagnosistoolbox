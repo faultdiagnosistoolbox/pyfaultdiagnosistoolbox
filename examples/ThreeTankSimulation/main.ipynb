{
 "cells": [
  {
   "cell_type": "markdown",
   "metadata": {},
   "source": [
    "# Residual generator design & simulation for Three-tank example \n",
    "\n",
    "Model and design examples\n",
    "  _Diagnosability Analysis Considering Causal Interpretations for Differential Constraints_, Erik Frisk, Anibal Bregon, Jan Aaslund, Mattias Krysander, Belarmino Pulido, and Gautam Biswas in IEEE Transactions on Systems, Man and Cybernetics, Part A: Systems and Humans (2012), Vol. 42, No. 5, 1216-1229.\n"
   ]
  },
  {
   "cell_type": "code",
   "execution_count": 2,
   "metadata": {
    "collapsed": false
   },
   "outputs": [],
   "source": [
    "%matplotlib notebook\n",
    "import numpy as np\n",
    "from numpy.linalg import inv\n",
    "import matplotlib.pyplot as plt\n",
    "import sys\n",
    "new_paths = ['build/lib.macosx-10.6-x86_64-2.7/', '../../Models/', '../../Misc/', '../../src/','../../src/faultdiagnosistoolbox/build/lib.macosx-10.6-x86_64-2.7/']\n",
    "[sys.path.append(d) for d in new_paths if not d in sys.path]\n",
    "from controlpy.synthesis import controller_lqr\n",
    "from misc import *\n",
    "import faultdiagnosistoolbox as fdt\n",
    "from TankSimulation import *"
   ]
  },
  {
   "cell_type": "code",
   "execution_count": 3,
   "metadata": {
    "collapsed": false
   },
   "outputs": [
    {
     "name": "stdout",
     "output_type": "stream",
     "text": [
      "Model: Three Tank System\n",
      "\n",
      "  Type:Symbolic, dynamic\n",
      "\n",
      "  Variables and equations\n",
      "    10 unknown variables\n",
      "    3 known variables\n",
      "    6 fault variables\n",
      "    12 equations, including 3 differential constraints\n",
      "\n",
      "  Degree of redundancy: 2\n",
      "  Degree of redundancy of MTES set: 1\n",
      "\n",
      "\n",
      "  Model validation finished with 0 errors and 0 warnings.\n"
     ]
    }
   ],
   "source": [
    "from ThreeTank_model_sym import model\n",
    "params = {}\n",
    "params['Rv1'] = 1\n",
    "params['Rv2'] = 1\n",
    "params['Rv3'] = 1\n",
    "params['CT1'] = 1\n",
    "params['CT2'] = 1\n",
    "params['CT3'] = 1\n",
    "\n",
    "model.Lint()"
   ]
  },
  {
   "cell_type": "code",
   "execution_count": null,
   "metadata": {
    "collapsed": false
   },
   "outputs": [],
   "source": [
    "plt.figure(10)\n",
    "model.PlotModel()"
   ]
  },
  {
   "cell_type": "markdown",
   "metadata": {},
   "source": [
    "## Isolability analysis"
   ]
  },
  {
   "cell_type": "code",
   "execution_count": null,
   "metadata": {
    "collapsed": false
   },
   "outputs": [],
   "source": [
    "plt.figure(20)\n",
    "model.IsolabilityAnalysis(plot=True);\n",
    "plt.figure(21)\n",
    "model.IsolabilityAnalysis(plot=True,causality='int');\n",
    "plt.figure(22)\n",
    "model.IsolabilityAnalysis(plot=True,causality='der');\n",
    "plt.figure(23)\n",
    "model.PlotDM(fault=True,eqclass=True)"
   ]
  },
  {
   "cell_type": "markdown",
   "metadata": {},
   "source": [
    "## MSO"
   ]
  },
  {
   "cell_type": "code",
   "execution_count": null,
   "metadata": {
    "collapsed": false
   },
   "outputs": [],
   "source": [
    "msos = model.MSO()\n",
    "print \"Found \" + str(len(msos)) + \" MSO sets\""
   ]
  },
  {
   "cell_type": "code",
   "execution_count": null,
   "metadata": {
    "collapsed": false
   },
   "outputs": [],
   "source": [
    "mso1 = msos[0]\n",
    "mso2 = msos[1]\n",
    "print model.MSOCausalitySweep(mso1)\n",
    "print model.MSOCausalitySweep(mso2)"
   ]
  },
  {
   "cell_type": "markdown",
   "metadata": {},
   "source": [
    "# Simulate system and residual generators"
   ]
  },
  {
   "cell_type": "markdown",
   "metadata": {},
   "source": [
    "Design controller"
   ]
  },
  {
   "cell_type": "code",
   "execution_count": null,
   "metadata": {
    "collapsed": false
   },
   "outputs": [],
   "source": [
    "G = ThreeTank_ss(params)\n",
    "Lx,_,_ = controller_lqr(G['A'], G['B'], np.eye(3,3),np.eye(1)*0.5)\n",
    "Lr = (1/np.dot([1,0,0],-inv(G['A']-G['B'].dot(Lx)).dot(G['B'])))[0]\n",
    "def ref(t):\n",
    "    return 0.2*np.sin(2*np.pi*1/10*t)+1;\n",
    "controller = lambda t,x: np.transpose((-Lx.dot(np.transpose(x))+Lr*ref(t)).clip(0))"
   ]
  },
  {
   "cell_type": "markdown",
   "metadata": {},
   "source": [
    "Simulate scenarios {NF, Rv1, Rv2, Rv3, CT1, CT2, CT3}"
   ]
  },
  {
   "cell_type": "code",
   "execution_count": null,
   "metadata": {
    "collapsed": false
   },
   "outputs": [],
   "source": [
    "noise = 0\n",
    "t = np.arange(0,20,0.1)\n",
    "x0 = [0,0,0]\n",
    "sim = []\n",
    "sim.append(SimScenario(0,lambda t: 0*t, controller, params, t, x0))\n",
    "sim.append(SimScenario(1,lambda t: 0.3*ramp(t,6,10), controller, params, t, x0))\n",
    "sim.append(SimScenario(2,lambda t: 0.3*ramp(t,6,10), controller, params, t, x0))\n",
    "sim.append(SimScenario(3,lambda t: 0.3*ramp(t,6,10), controller, params, t, x0))\n",
    "sim.append(SimScenario(4,lambda t: 0.3*ramp(t,6,10), controller, params, t, x0))\n",
    "sim.append(SimScenario(5,lambda t: 0.3*ramp(t,6,10), controller, params, t, x0))\n",
    "sim.append(SimScenario(6,lambda t: 0.3*ramp(t,6,10), controller, params, t, x0))\n",
    "\n",
    "# Define measurements and add noise\n",
    "nstd = np.array([0.01,0,0,0,0,0.01,0])*noise;\n",
    "meas = [0,5,3]; # p1, q2, q0\n",
    "\n",
    "M = np.zeros((sim[0].z0.shape[1], len(meas)))\n",
    "M[meas,np.arange(0,len(meas))]=1\n",
    "\n",
    "for k in range(len(sim)):\n",
    "    sim[k].z = (sim[k].z0).dot(M) + np.random.normal(0,1,(sim[k].z0.shape[0],len(meas))).dot(np.diag(nstd[meas]))"
   ]
  },
  {
   "cell_type": "markdown",
   "metadata": {},
   "source": [
    "Plot fault free and Rv1 scenarios"
   ]
  },
  {
   "cell_type": "code",
   "execution_count": null,
   "metadata": {
    "collapsed": false
   },
   "outputs": [],
   "source": [
    "plt.figure(40)\n",
    "plt.subplot(3,1,1)\n",
    "plt.plot( sim[0].t, sim[0].z0[:,0], 'b', sim[0].t, ref(sim[0].t), 'b--', \n",
    "         sim[0].t, sim[0].z0[:,1], 'r', sim[0].t, sim[0].z0[:,2], 'g')\n",
    "plt.ylabel('Tank water pressure')\n",
    "plt.legend(['p1','p1ref','p2','p3'])\n",
    "plt.title('Fault free simulation (no noise)')\n",
    "\n",
    "BoxOff()\n",
    "plt.subplot(3,1,2)\n",
    "plt.plot( sim[0].t, sim[0].z0[:,3])\n",
    "plt.ylabel('q0')\n",
    "\n",
    "plt.subplot(3,1,3)\n",
    "plt.plot( sim[0].t, sim[0].f)\n",
    "plt.ylabel('Fault signal')\n",
    "plt.xlabel('t [s]')\n",
    "BoxOff()\n",
    "\n",
    "\n",
    "plt.figure(41)\n",
    "plt.subplot(3,1,1)\n",
    "plt.plot( sim[1].t, sim[1].z0[:,0], 'b', sim[1].t, ref(sim[1].t), 'b--', \n",
    "         sim[1].t, sim[1].z0[:,1], 'r', sim[1].t, sim[1].z0[:,2], 'g')\n",
    "plt.ylabel('Tank water pressure')\n",
    "plt.legend(['p1','p1ref','p2','p3'])\n",
    "plt.title('Fault scenario Rv1  (without noise)')\n",
    "\n",
    "BoxOff()\n",
    "plt.subplot(3,1,2)\n",
    "plt.plot( sim[1].t, sim[1].z0[:,3])\n",
    "plt.ylabel('q0')\n",
    "\n",
    "plt.subplot(3,1,3)\n",
    "plt.plot( sim[1].t, sim[1].f)\n",
    "plt.ylabel('Fault signal')\n",
    "plt.xlabel('t [s]')\n",
    "BoxOff()\n"
   ]
  },
  {
   "cell_type": "markdown",
   "metadata": {},
   "source": [
    "## Residual generator design"
   ]
  },
  {
   "cell_type": "code",
   "execution_count": null,
   "metadata": {
    "collapsed": false
   },
   "outputs": [],
   "source": [
    "# Residual generator 1 in derivative causality (no loops), Fig. 2 in paper\n",
    "eqr1 = mso2\n",
    "redeq1 = 4\n",
    "m01 = [e for e in eqr1 if e != redeq1]\n",
    "Gamma1 = model.Matching(m01)\n",
    "#model.SeqResGen( Gamma1, redeq1,'ResGen1',batch=True)\n",
    "model.SeqResGen( Gamma1, redeq1,'ResGen1',batch=True, language='C')\n",
    "\n",
    "# Sequential residual generator in integral causality (no loops) (Fig. 3 in paper)\n",
    "eqr2 = mso2; \n",
    "redeq2 = 6\n",
    "m02 = [e for e in eqr2 if e != redeq2]\n",
    "Gamma2 = model.Matching(m02)\n",
    "#model.SeqResGen( Gamma2, redeq2,'ResGen2',batch=True)\n",
    "model.SeqResGen( Gamma2, redeq2,'ResGen2',batch=True, language='C')\n",
    "\n",
    "# Sequential residual generator in mixed causality (Fig. 12 in paper)\n",
    "eqr3 = mso1\n",
    "redeq3 = 1\n",
    "m03 = [e for e in eqr3 if e != redeq3]\n",
    "Gamma3 = model.Matching(m03)\n",
    "#model.SeqResGen( Gamma3, redeq3, 'ResGen3',batch=True )\n",
    "model.SeqResGen( Gamma3, redeq3, 'ResGen3',batch=True, language='C')"
   ]
  },
  {
   "cell_type": "code",
   "execution_count": null,
   "metadata": {
    "collapsed": false
   },
   "outputs": [],
   "source": [
    "plt.figure(50)\n",
    "plt.subplot(1,2,1)\n",
    "FSM = model.FSM([mso2,mso2,mso1],plot=True)\n",
    "plt.title('Fault Signature Matrix')\n",
    "\n",
    "plt.subplot(1,2,2)\n",
    "model.IsolabilityAnalysisFSM(FSM,plot=True)\n",
    "plt.title('Isolability matrix')\n",
    "plt.show()"
   ]
  },
  {
   "cell_type": "markdown",
   "metadata": {},
   "source": [
    "## Simulate residual generators for all test cases and plot results"
   ]
  },
  {
   "cell_type": "code",
   "execution_count": null,
   "metadata": {
    "collapsed": false
   },
   "outputs": [],
   "source": [
    "import ResGen1\n",
    "import ResGen2\n",
    "import ResGen3\n",
    "reload(ResGen1)\n",
    "reload(ResGen2)\n",
    "reload(ResGen3)\n",
    "print \"All residual generators imported/reloaded\""
   ]
  },
  {
   "cell_type": "code",
   "execution_count": null,
   "metadata": {
    "collapsed": false
   },
   "outputs": [],
   "source": [
    "m = len(sim)\n",
    "N = len(sim[0].t)\n",
    "Ts = sim[0].t[1]-sim[0].t[0]\n",
    "\n",
    "r1 = np.zeros((m,N), dtype=np.float64)\n",
    "r2 = np.zeros((m,N), dtype=np.float64)\n",
    "r3 = np.zeros((m,N), dtype=np.float64)\n",
    "\n",
    "for fi in np.arange(0,m):\n",
    "    state1 = {'p1': sim[fi].z[0,0], 'p2': sim[fi].z[0,1]}\n",
    "    state2 = {'p1': sim[fi].z[0,0], 'p2': sim[fi].z[0,1]}\n",
    "    state3 = {'p1': sim[fi].z[0,0], 'p2': sim[fi].z[0,1], 'p3': sim[fi].z[0,2]}\n",
    "\n",
    "    r1[fi,:] = ResGen1.ResGen1(sim[fi].z,state1,params,Ts)\n",
    "    r2[fi,:] = ResGen2.ResGen2(sim[fi].z,state2,params,Ts)\n",
    "    r3[fi,:] = ResGen3.ResGen3(sim[fi].z,state3,params,Ts)\n",
    "    \n",
    "    r1[fi,0:2]=0.0\n",
    "    r3[fi,0] = 0.0"
   ]
  },
  {
   "cell_type": "code",
   "execution_count": null,
   "metadata": {
    "collapsed": false
   },
   "outputs": [],
   "source": [
    "plt.figure(60)\n",
    "plt.subplot(3,1,1)\n",
    "for ri in np.arange(0,m):\n",
    "    plt.plot(sim[0].t, r1[ri,:])\n",
    "BoxOff()\n",
    "plt.title('r1 (seq/derivative/discrete)')\n",
    "#plt.legend(['NF'] + model.f)\n",
    "\n",
    "plt.subplot(3,1,2)\n",
    "for ri in np.arange(0,m):\n",
    "    plt.plot(sim[0].t, r2[ri,:])\n",
    "BoxOff()\n",
    "plt.title('r2 (seq/integral/discrete)')\n",
    "\n",
    "\n",
    "plt.subplot(3,1,3)\n",
    "for ri in np.arange(0,m):\n",
    "    plt.plot(sim[0].t, r3[ri,:])\n",
    "BoxOff()\n",
    "plt.title('r3 (seq/mixed/discrete)')\n",
    "plt.tight_layout()"
   ]
  }
 ],
 "metadata": {
  "kernelspec": {
   "display_name": "Python 2",
   "language": "python",
   "name": "python2"
  },
  "language_info": {
   "codemirror_mode": {
    "name": "ipython",
    "version": 2
   },
   "file_extension": ".py",
   "mimetype": "text/x-python",
   "name": "python",
   "nbconvert_exporter": "python",
   "pygments_lexer": "ipython2",
   "version": "2.7.12"
  }
 },
 "nbformat": 4,
 "nbformat_minor": 0
}
