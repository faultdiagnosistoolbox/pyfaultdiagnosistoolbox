{
 "cells": [
  {
   "cell_type": "code",
   "execution_count": 1,
   "metadata": {},
   "outputs": [],
   "source": [
    "%load_ext autoreload\n",
    "%autoreload 2"
   ]
  },
  {
   "cell_type": "code",
   "execution_count": 2,
   "metadata": {
    "collapsed": false,
    "jupyter": {
     "outputs_hidden": false
    }
   },
   "outputs": [],
   "source": [
    "%matplotlib inline\n",
    "import numpy as np\n",
    "import sympy as sym\n",
    "import faultdiagnosistoolbox as fdt\n",
    "import matplotlib.pyplot as plt"
   ]
  },
  {
   "cell_type": "code",
   "execution_count": 3,
   "metadata": {
    "collapsed": false,
    "jupyter": {
     "outputs_hidden": false
    }
   },
   "outputs": [],
   "source": [
    "modelDef = {}\n",
    "modelDef['type'] = 'VarStruc'\n",
    "modelDef['x']= ['x1','x2','x3','x4','x5']\n",
    "modelDef['f'] = ['f1','f2','f3','f4']\n",
    "modelDef['z'] = ['u']\n",
    "modelDef['rels'] = [\n",
    "    ['x1','x2','x5'],\n",
    "    ['x2','x3','x4'],\n",
    "    ['x3','x5','f1','f2'],\n",
    "    ['x4','x5','f3'],\n",
    "    ['x5','u','f4']]\n",
    "model = fdt.DiagnosisModel(modelDef, name='Simple model')\n",
    "model.PossibleSensorLocations(model.x)"
   ]
  },
  {
   "cell_type": "code",
   "execution_count": 4,
   "metadata": {
    "collapsed": false,
    "jupyter": {
     "outputs_hidden": false
    }
   },
   "outputs": [
    {
     "name": "stdout",
     "output_type": "stream",
     "text": [
      "[['x4', 'x1'], ['x4', 'x2'], ['x3', 'x1'], ['x3', 'x2'], ['x3', 'x4']]\n"
     ]
    }
   ],
   "source": [
    "sens_isol, _ = model.SensorPlacementIsolability()\n",
    "print(sens_isol)"
   ]
  },
  {
   "cell_type": "code",
   "execution_count": 5,
   "metadata": {
    "collapsed": false,
    "jupyter": {
     "outputs_hidden": false
    }
   },
   "outputs": [
    {
     "name": "stdout",
     "output_type": "stream",
     "text": [
      "Found 5 sensor sets\n",
      "[['x4', 'x1'], ['x4', 'x2'], ['x3', 'x1'], ['x3', 'x2'], ['x3', 'x4']]\n"
     ]
    }
   ],
   "source": [
    "model2 = model.copy()\n",
    "#model2.SensorLocationsWithFaults() # No faulty sensors\n",
    "model2.SensorLocationsWithFaults(model.x) # All sensors may fail\n",
    "sens2_isol, _ = model2.SensorPlacementIsolability()\n",
    "print(f\"Found {len(sens2_isol)} sensor sets\")\n",
    "print(sens2_isol)"
   ]
  },
  {
   "cell_type": "code",
   "execution_count": null,
   "metadata": {},
   "outputs": [],
   "source": []
  }
 ],
 "metadata": {
  "kernelspec": {
   "display_name": "Python 3",
   "language": "python",
   "name": "python3"
  },
  "language_info": {
   "codemirror_mode": {
    "name": "ipython",
    "version": 3
   },
   "file_extension": ".py",
   "mimetype": "text/x-python",
   "name": "python",
   "nbconvert_exporter": "python",
   "pygments_lexer": "ipython3",
   "version": "3.9.0"
  }
 },
 "nbformat": 4,
 "nbformat_minor": 4
}
