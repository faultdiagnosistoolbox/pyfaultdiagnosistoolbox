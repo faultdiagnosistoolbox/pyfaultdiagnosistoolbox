{
 "cells": [
  {
   "cell_type": "code",
   "execution_count": 1,
   "metadata": {
    "collapsed": true
   },
   "outputs": [],
   "source": [
    "%matplotlib notebook\n",
    "import matplotlib\n",
    "import matplotlib.pyplot as plt\n",
    "import sys\n",
    "import numpy as np\n",
    "import sympy as sym\n",
    "import scipy.sparse as sp\n",
    "new_paths = ['../Models/', '../Misc/', 'faultdiagnosistoolbox/build/lib.macosx-10.6-x86_64-2.7/']\n",
    "[sys.path.append(d) for d in new_paths if not d in sys.path];\n",
    "from misc import *\n",
    "import faultdiagnosistoolbox as fdt"
   ]
  },
  {
   "cell_type": "code",
   "execution_count": 3,
   "metadata": {
    "collapsed": false
   },
   "outputs": [],
   "source": [
    "modelDef = {}\n",
    "modelDef['type'] = 'VarStruc'\n",
    "modelDef['x'] = ['p0', 'p1', 'p2', 'p3', 'pf', 'q0','q1', 'q2', 'q3', 'qp'] # 'Rv0'};\n",
    "modelDef['f'] = ['fC1','fC2','fC3','fv1','fv2','fv3','fpipe']\n",
    "modelDef['z'] = ['y1','y2','y3','y4']\n",
    "modelDef['rels'] = [\n",
    "  ['qp','p0','fpipe'],\n",
    "  ['qp','q0'],\n",
    "  ['pf','p0','p1'],\n",
    "  ['q0','pf', 'Rv0'],\n",
    "  ['q1','p1','p2','fv1'],\n",
    "  ['q2','p2','p3','fv2'],\n",
    "  ['q3','p3','fv3'],\n",
    "  ['p1','q0','q1','fC1'],\n",
    "  ['p2','q1','q2','fC2'],\n",
    "  ['p3','q2','q3','fC3'],\n",
    "  ['y1','q0'],\n",
    "  ['y2','p1'],\n",
    "  ['y3','q3'],\n",
    "  ['y4','p3'],\n",
    "  ['Rv0','y2']]\n",
    "model = fdt.DiagnosisModel(modelDef);\n",
    "model.name = 'MTES example';"
   ]
  },
  {
   "cell_type": "code",
   "execution_count": 4,
   "metadata": {
    "collapsed": false
   },
   "outputs": [
    {
     "data": {
      "text/plain": [
       "54"
      ]
     },
     "execution_count": 4,
     "metadata": {},
     "output_type": "execute_result"
    }
   ],
   "source": [
    "len(model.MSO())"
   ]
  },
  {
   "cell_type": "code",
   "execution_count": 10,
   "metadata": {
    "collapsed": false
   },
   "outputs": [
    {
     "data": {
      "text/plain": [
       "[7, 8, 9, 4, 5, 6, 0]"
      ]
     },
     "execution_count": 10,
     "metadata": {},
     "output_type": "execute_result"
    }
   ],
   "source": [
    "map(lambda fi: np.where(model.F.toarray()[:,fi])[0][0], np.arange(0,model.F.shape[1]))"
   ]
  },
  {
   "cell_type": "code",
   "execution_count": null,
   "metadata": {
    "collapsed": true
   },
   "outputs": [],
   "source": []
  }
 ],
 "metadata": {
  "kernelspec": {
   "display_name": "Python 3",
   "language": "python",
   "name": "python3"
  },
  "language_info": {
   "codemirror_mode": {
    "name": "ipython",
    "version": 3
   },
   "file_extension": ".py",
   "mimetype": "text/x-python",
   "name": "python",
   "nbconvert_exporter": "python",
   "pygments_lexer": "ipython3",
   "version": "3.5.2"
  }
 },
 "nbformat": 4,
 "nbformat_minor": 0
}
