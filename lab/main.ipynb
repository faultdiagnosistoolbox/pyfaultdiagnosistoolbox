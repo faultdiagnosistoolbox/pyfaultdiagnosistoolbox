{
 "cells": [
  {
   "cell_type": "markdown",
   "metadata": {},
   "source": [
    "# Fault Diagnosis Toolbox in Python\n",
    "## - Basic model definition and class methods"
   ]
  },
  {
   "cell_type": "markdown",
   "metadata": {},
   "source": [
    "Erik Frisk<br>\n",
    "<frisk@isy.liu.se><br>\n",
    "Department of Electrical Engineering<br>\n",
    "Linköping University<br>\n",
    "Sweden"
   ]
  },
  {
   "cell_type": "markdown",
   "metadata": {},
   "source": [
    "## Import modules"
   ]
  },
  {
   "cell_type": "code",
   "execution_count": 1,
   "metadata": {
    "collapsed": false
   },
   "outputs": [],
   "source": [
    "%matplotlib notebook\n",
    "import matplotlib\n",
    "import matplotlib.pyplot as plt\n",
    "import sys\n",
    "import numpy as np\n",
    "import sympy as sym\n",
    "import scipy.sparse as sp"
   ]
  },
  {
   "cell_type": "markdown",
   "metadata": {},
   "source": [
    "Set paths and import toolbox + misc functionality"
   ]
  },
  {
   "cell_type": "code",
   "execution_count": 2,
   "metadata": {
    "collapsed": true
   },
   "outputs": [],
   "source": [
    "new_paths = ['../Models/', '../Misc/', 'faultdiagnosistoolbox/build/lib.macosx-10.6-x86_64-2.7/']\n",
    "[sys.path.append(d) for d in new_paths if not d in sys.path];\n",
    "from misc import *\n",
    "import faultdiagnosistoolbox as fdt"
   ]
  },
  {
   "cell_type": "markdown",
   "metadata": {},
   "source": [
    "## Define a diagnosis models -- structural Three Tank model"
   ]
  },
  {
   "cell_type": "code",
   "execution_count": 3,
   "metadata": {
    "collapsed": false
   },
   "outputs": [
    {
     "name": "stdout",
     "output_type": "stream",
     "text": [
      "Model: Three Tank System\n",
      "\n",
      "  Type:Symbolic, dynamic\n",
      "\n",
      "  Variables and equations\n",
      "    10 unknown variables\n",
      "    3 known variables\n",
      "    6 fault variables\n",
      "    12 equations, including 3 differential constraints\n",
      "\n",
      "  Degree of redundancy: 2\n",
      "  Degree of redundancy of MTES set: 1\n",
      "\n",
      "\n",
      "  Model validation finished with 0 errors and 0 warnings.\n"
     ]
    }
   ],
   "source": [
    "#from ThreeTank_model import model\n",
    "from ThreeTank_model_sym import model\n",
    "model.Lint()"
   ]
  },
  {
   "cell_type": "code",
   "execution_count": null,
   "metadata": {
    "collapsed": false
   },
   "outputs": [],
   "source": [
    "np.where(np.any(model.Z.toarray()[:,[0,2]],axis=1))[0]"
   ]
  },
  {
   "cell_type": "code",
   "execution_count": null,
   "metadata": {
    "collapsed": false
   },
   "outputs": [],
   "source": [
    "def MeasurementEquations(self, m):\n",
    "    mIdx = np.array([self.z.index(zi) for zi in m if zi in self.z])\n",
    "    return np.where(np.any(model.Z.toarray()[:,mIdx],axis=1))[0]\n",
    "    \n",
    "list(model.syme[MeasurementEquations(model,['y1','y3'])])"
   ]
  },
  {
   "cell_type": "markdown",
   "metadata": {},
   "source": [
    "Plot model structure"
   ]
  },
  {
   "cell_type": "code",
   "execution_count": null,
   "metadata": {
    "collapsed": false
   },
   "outputs": [],
   "source": [
    "plt.figure(10)\n",
    "model.PlotModel(verbose=True)\n",
    "plt.show()"
   ]
  },
  {
   "cell_type": "markdown",
   "metadata": {},
   "source": [
    "Plot the Dulmage-Mendelsohn decomposition with equivalence class decomposition"
   ]
  },
  {
   "cell_type": "code",
   "execution_count": null,
   "metadata": {
    "collapsed": false
   },
   "outputs": [],
   "source": [
    "plt.figure(11)\n",
    "model.PlotDM(eqclass=True,fault=True)\n",
    "plt.show()"
   ]
  },
  {
   "cell_type": "markdown",
   "metadata": {},
   "source": [
    "## Apply some class methods"
   ]
  },
  {
   "cell_type": "markdown",
   "metadata": {},
   "source": [
    "Are the faults detectable?"
   ]
  },
  {
   "cell_type": "code",
   "execution_count": null,
   "metadata": {
    "collapsed": false
   },
   "outputs": [],
   "source": [
    "model.DetectabilityAnalysis()"
   ]
  },
  {
   "cell_type": "markdown",
   "metadata": {},
   "source": [
    "Some redundancy properties of the model"
   ]
  },
  {
   "cell_type": "code",
   "execution_count": null,
   "metadata": {
    "collapsed": false
   },
   "outputs": [],
   "source": [
    "print \"Redundancy = %d\" % model.Redundancy()\n",
    "print \"MTES Redundancy = %d\" % model.MTESRedundancy()"
   ]
  },
  {
   "cell_type": "markdown",
   "metadata": {},
   "source": [
    "What about isolability?"
   ]
  },
  {
   "cell_type": "code",
   "execution_count": null,
   "metadata": {
    "collapsed": false
   },
   "outputs": [],
   "source": [
    "plt.figure(12)\n",
    "plt.subplot(1,3,1)\n",
    "model.IsolabilityAnalysis(permute=True,plot=True)\n",
    "plt.title('Mixed')\n",
    "\n",
    "plt.subplot(1,3,2)\n",
    "im = model.IsolabilityAnalysis(permute=True,plot=True, causality='int')\n",
    "plt.title('Integral')\n",
    "\n",
    "plt.subplot(1,3,3)\n",
    "im = model.IsolabilityAnalysis(permute=True,plot=True, causality='der')\n",
    "plt.title('Integral')\n",
    "plt.show()"
   ]
  },
  {
   "cell_type": "markdown",
   "metadata": {},
   "source": [
    "Find the set of MSO sets"
   ]
  },
  {
   "cell_type": "code",
   "execution_count": null,
   "metadata": {
    "collapsed": false
   },
   "outputs": [],
   "source": [
    "print \"Searching for MSO sets...\"\n",
    "msos=model.MSO()\n",
    "print \"Found %d mso sets\" % len(msos)\n",
    "print msos"
   ]
  },
  {
   "cell_type": "markdown",
   "metadata": {},
   "source": [
    "Determine which MSO sets that are low index"
   ]
  },
  {
   "cell_type": "code",
   "execution_count": null,
   "metadata": {
    "collapsed": false
   },
   "outputs": [],
   "source": [
    "li_msos = map(lambda m: model.IsLowIndex(eq=m), msos)\n",
    "print li_msos"
   ]
  },
  {
   "cell_type": "markdown",
   "metadata": {},
   "source": [
    "Determine the fault signature and isolability matrix for MSO sets"
   ]
  },
  {
   "cell_type": "code",
   "execution_count": null,
   "metadata": {
    "collapsed": false
   },
   "outputs": [],
   "source": [
    "plt.figure(13)\n",
    "plt.subplot(1,2,1)\n",
    "model.FSM(msos,plot=True)\n",
    "plt.title('FSM')\n",
    "\n",
    "plt.subplot(1,2,2)\n",
    "model.IsolabilityAnalysisArrs(msos, plot=True, permute=True)\n",
    "plt.title('Isolability matrix')\n",
    "plt.show()"
   ]
  },
  {
   "cell_type": "markdown",
   "metadata": {},
   "source": [
    "Find an integral causality matching, if one exists"
   ]
  },
  {
   "cell_type": "code",
   "execution_count": null,
   "metadata": {
    "collapsed": false
   },
   "outputs": [],
   "source": [
    "mso = msos[2]\n",
    "rIdx = model.MSOCausalitySweep(mso,causality='int') # Boolean index array to integral causality redundant equation\n",
    "if np.any(rIdx):\n",
    "    red = mso[rIdx][0] # Take the first one\n",
    "    m0 = [e for e in mso if e!=red]\n",
    "    Gamma = model.Matching(m0)\n",
    "    print \"Found integral causality matching\"\n",
    "else:\n",
    "    print \"No integral causality matching exists\""
   ]
  },
  {
   "cell_type": "code",
   "execution_count": null,
   "metadata": {
    "collapsed": false
   },
   "outputs": [],
   "source": [
    "plt.figure(14)\n",
    "model.PlotMatching(Gamma)\n",
    "plt.show()"
   ]
  },
  {
   "cell_type": "code",
   "execution_count": null,
   "metadata": {
    "collapsed": false
   },
   "outputs": [],
   "source": [
    "model_ld = model.copy()\n",
    "model_ld.LumpDynamics()\n",
    "plt.figure(20)\n",
    "model_ld.PlotModel()\n",
    "model_ld.Lint()"
   ]
  },
  {
   "cell_type": "code",
   "execution_count": null,
   "metadata": {
    "collapsed": true
   },
   "outputs": [],
   "source": []
  }
 ],
 "metadata": {
  "kernelspec": {
   "display_name": "Python 3",
   "language": "python",
   "name": "python3"
  },
  "language_info": {
   "codemirror_mode": {
    "name": "ipython",
    "version": 3
   },
   "file_extension": ".py",
   "mimetype": "text/x-python",
   "name": "python",
   "nbconvert_exporter": "python",
   "pygments_lexer": "ipython3",
   "version": "3.5.2"
  }
 },
 "nbformat": 4,
 "nbformat_minor": 0
}
