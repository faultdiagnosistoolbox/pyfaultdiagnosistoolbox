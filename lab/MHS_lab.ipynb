{
 "cells": [
  {
   "cell_type": "code",
   "execution_count": 2,
   "metadata": {
    "collapsed": true
   },
   "outputs": [],
   "source": [
    "import scipy.sparse as sp\n",
    "import numpy as np"
   ]
  },
  {
   "cell_type": "code",
   "execution_count": 73,
   "metadata": {
    "collapsed": true
   },
   "outputs": [],
   "source": [
    "def delete_row_lil(mat, i):\n",
    "    if not isinstance(mat, sp.lil_matrix):\n",
    "        raise ValueError(\"works only for LIL format -- use .tolil() first\")\n",
    "    mat.rows = np.delete(mat.rows, i)\n",
    "    mat.data = np.delete(mat.data, i)\n",
    "    mat._shape = (mat._shape[0] - 1, mat._shape[1])\n",
    "\n",
    "def add_row_lil(mat,r):\n",
    "    return spsp.vstack((mat,r))"
   ]
  },
  {
   "cell_type": "code",
   "execution_count": 38,
   "metadata": {
    "collapsed": true
   },
   "outputs": [],
   "source": [
    "def MHS( conflist ):\n",
    "    pass\n",
    "def SPMHS( tr, d, n):\n",
    "    pass"
   ]
  },
  {
   "cell_type": "code",
   "execution_count": 183,
   "metadata": {
    "collapsed": false
   },
   "outputs": [],
   "source": [
    "conflist = [np.array([0,1,2],dtype=np.int64),np.array([0,1,3],dtype=np.int64)]\n",
    "ncomps = np.max(map(lambda c: np.max(c), conflist))+1\n",
    "nconf = len(conflist)\n",
    "confmat = np.zeros((nconf,ncomps),dtype=np.int64)\n",
    "for k,c in enumerate(conflist):\n",
    "    confmat[k,c]=1\n",
    "trs = sp.csr_matrix(confmat)\n",
    "mmhs = sp.lil_matrix((1,ncomps),dtype=np.int64)"
   ]
  },
  {
   "cell_type": "code",
   "execution_count": 184,
   "metadata": {
    "collapsed": false
   },
   "outputs": [
    {
     "name": "stdout",
     "output_type": "stream",
     "text": [
      "p10: 0\n",
      "p20: (1, 4)\n",
      "p30: (0, 4)\n",
      "p31: [[1 0 0 0]]\n",
      "p40: True\n",
      "p42: <class 'scipy.sparse.lil.lil_matrix'>\n",
      "p44: <class 'scipy.sparse.coo.coo_matrix'>\n",
      "p30: (1, 4)\n",
      "p31: [[0 1 0 0]]\n",
      "p33: <class 'scipy.sparse.coo.coo_matrix'>\n"
     ]
    },
    {
     "ename": "TypeError",
     "evalue": "'coo_matrix' object has no attribute '__getitem__'",
     "output_type": "error",
     "traceback": [
      "\u001b[0;31m---------------------------------------------------------------------------\u001b[0m",
      "\u001b[0;31mTypeError\u001b[0m                                 Traceback (most recent call last)",
      "\u001b[0;32m<ipython-input-184-3eabc3253315>\u001b[0m in \u001b[0;36m<module>\u001b[0;34m()\u001b[0m\n\u001b[1;32m     19\u001b[0m             \u001b[0;32mwhile\u001b[0m \u001b[0mcandmin\u001b[0m \u001b[0;32mand\u001b[0m \u001b[0mj\u001b[0m \u001b[0;34m<\u001b[0m \u001b[0mmmhs\u001b[0m\u001b[0;34m.\u001b[0m\u001b[0mshape\u001b[0m\u001b[0;34m[\u001b[0m\u001b[0;36m0\u001b[0m\u001b[0;34m]\u001b[0m\u001b[0;34m:\u001b[0m\u001b[0;34m\u001b[0m\u001b[0m\n\u001b[1;32m     20\u001b[0m                 \u001b[0;32mprint\u001b[0m \u001b[0;34m\"p33: \"\u001b[0m \u001b[0;34m+\u001b[0m \u001b[0mstr\u001b[0m\u001b[0;34m(\u001b[0m\u001b[0mtype\u001b[0m\u001b[0;34m(\u001b[0m\u001b[0mmmhs\u001b[0m\u001b[0;34m)\u001b[0m\u001b[0;34m)\u001b[0m\u001b[0;34m\u001b[0m\u001b[0m\n\u001b[0;32m---> 21\u001b[0;31m                 \u001b[0;32mprint\u001b[0m \u001b[0;34m\"p35: \"\u001b[0m \u001b[0;34m+\u001b[0m \u001b[0mstr\u001b[0m\u001b[0;34m(\u001b[0m\u001b[0mmmhs\u001b[0m\u001b[0;34m[\u001b[0m\u001b[0mj\u001b[0m\u001b[0;34m,\u001b[0m\u001b[0;34m:\u001b[0m\u001b[0;34m]\u001b[0m\u001b[0;34m.\u001b[0m\u001b[0mtoarray\u001b[0m\u001b[0;34m(\u001b[0m\u001b[0;34m)\u001b[0m\u001b[0;34m)\u001b[0m\u001b[0;34m\u001b[0m\u001b[0m\n\u001b[0m\u001b[1;32m     22\u001b[0m                 \u001b[0;32mif\u001b[0m \u001b[0mnp\u001b[0m\u001b[0;34m.\u001b[0m\u001b[0mall\u001b[0m\u001b[0;34m(\u001b[0m\u001b[0mmmhs\u001b[0m\u001b[0;34m[\u001b[0m\u001b[0mj\u001b[0m\u001b[0;34m,\u001b[0m\u001b[0;34m:\u001b[0m\u001b[0;34m]\u001b[0m\u001b[0;34m.\u001b[0m\u001b[0mtoarray\u001b[0m\u001b[0;34m(\u001b[0m\u001b[0;34m)\u001b[0m\u001b[0;34m*\u001b[0m\u001b[0mcand\u001b[0m\u001b[0;34m.\u001b[0m\u001b[0mtoarray\u001b[0m\u001b[0;34m(\u001b[0m\u001b[0;34m)\u001b[0m\u001b[0;34m==\u001b[0m\u001b[0mmmhs\u001b[0m\u001b[0;34m[\u001b[0m\u001b[0mj\u001b[0m\u001b[0;34m,\u001b[0m\u001b[0;34m:\u001b[0m\u001b[0;34m]\u001b[0m\u001b[0;34m.\u001b[0m\u001b[0mtoarray\u001b[0m\u001b[0;34m(\u001b[0m\u001b[0;34m)\u001b[0m\u001b[0;34m)\u001b[0m\u001b[0;34m:\u001b[0m\u001b[0;34m\u001b[0m\u001b[0m\n\u001b[1;32m     23\u001b[0m                     \u001b[0mcandmin\u001b[0m \u001b[0;34m=\u001b[0m \u001b[0mFalse\u001b[0m\u001b[0;34m\u001b[0m\u001b[0m\n",
      "\u001b[0;31mTypeError\u001b[0m: 'coo_matrix' object has no attribute '__getitem__'"
     ]
    }
   ],
   "source": [
    "tr = trs[0,:]\n",
    "dnew=sp.lil_matrix((0,ncomps), dtype=np.int64)\n",
    "k=0\n",
    "while mmhs.shape[0]>=k:\n",
    "    print \"p10: \" + str(k)\n",
    "    print \"p20: \" + str(mmhs.shape)\n",
    "    if not np.any(tr.toarray()*mmhs[k,:].toarray()): # No intersection between tr and mmhs[k,:]\n",
    "        tmp = mmhs[k,:].copy()\n",
    "        idx = tr.indices\n",
    "        delete_row_lil(mmhs,k)\n",
    "        k = k-1\n",
    "        for l in idx:\n",
    "            cand = tmp.copy()\n",
    "            cand[0,l] = 1\n",
    "            candmin = True\n",
    "            j=0\n",
    "            print \"p30: \" + str(mmhs.shape)\n",
    "            print \"p31: \" + str(cand.todense())\n",
    "            while candmin and j < mmhs.shape[0]:\n",
    "                print \"p33: \" + str(type(mmhs))\n",
    "                print \"p35: \" + str(mmhs[j,:].toarray())\n",
    "                if np.all(mmhs[j,:].toarray()*cand.toarray()==mmhs[j,:].toarray()):\n",
    "                    candmin = False\n",
    "                    break\n",
    "                j = j+1\n",
    "            print \"p40: \" + str(candmin)\n",
    "            if candmin:\n",
    "                print \"p42: \"  + str(type(mmhs))\n",
    "                mmhs = add_row_lil(mmhs,cand)\n",
    "                print \"p44: \"  + str(type(mmhs))\n",
    "\n",
    "    k = k+1"
   ]
  },
  {
   "cell_type": "code",
   "execution_count": 186,
   "metadata": {
    "collapsed": false
   },
   "outputs": [
    {
     "name": "stdout",
     "output_type": "stream",
     "text": [
      "[[1 0 0]\n",
      " [0 1 0]\n",
      " [0 0 1]]\n"
     ]
    }
   ],
   "source": [
    "a = sp.lil_matrix(np.eye(3),dtype=np.int64)\n",
    "print a.todense()"
   ]
  },
  {
   "cell_type": "code",
   "execution_count": 68,
   "metadata": {
    "collapsed": false
   },
   "outputs": [
    {
     "data": {
      "text/plain": [
       "array([[0],\n",
       "       [1],\n",
       "       [2]])"
      ]
     },
     "execution_count": 68,
     "metadata": {},
     "output_type": "execute_result"
    }
   ],
   "source": [
    "def MHS(conflist):\n",
    "    mmhs = [np.array([],dtype=np.int64)]\n",
    "    for c in conflist:\n",
    "        j=0\n",
    "        while j < len(mmhs):\n",
    "            if len(np.intersect1d(c,mmhs[j]))==0:\n",
    "                tmp = mmhs.pop(j)\n",
    "                j = j-1\n",
    "                for ci in c:\n",
    "                    newCand = np.concatenate((tmp,[ci]))\n",
    "                    candmin = True\n",
    "                    k=0\n",
    "                    while candmin and k<len(mmhs):\n",
    "                        if len([x for x in mmhs[k] if x in newCand])==len(mmhs[k]):\n",
    "                            candmin = False\n",
    "                            break\n",
    "                        k=k+1\n",
    "                    if candmin:\n",
    "                        mmhs.append(newCand)\n",
    "            j = j+1\n",
    "        return np.array(mmhs)\n",
    "    \n",
    "conflist = [np.array([0,1,2],dtype=np.int64),np.array([0,1,3],dtype=np.int64)]\n",
    "MHS(conflist)"
   ]
  },
  {
   "cell_type": "code",
   "execution_count": null,
   "metadata": {
    "collapsed": true
   },
   "outputs": [],
   "source": []
  }
 ],
 "metadata": {
  "kernelspec": {
   "display_name": "Python 2",
   "language": "python",
   "name": "python2"
  },
  "language_info": {
   "codemirror_mode": {
    "name": "ipython",
    "version": 2
   },
   "file_extension": ".py",
   "mimetype": "text/x-python",
   "name": "python",
   "nbconvert_exporter": "python",
   "pygments_lexer": "ipython2",
   "version": "2.7.12"
  }
 },
 "nbformat": 4,
 "nbformat_minor": 0
}
