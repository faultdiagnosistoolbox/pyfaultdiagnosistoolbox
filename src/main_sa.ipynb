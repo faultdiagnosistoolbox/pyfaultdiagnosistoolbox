{
 "cells": [
  {
   "cell_type": "markdown",
   "metadata": {},
   "source": [
    "# Fault Diagnosis Toolbox in Python -- a development notebook"
   ]
  },
  {
   "cell_type": "markdown",
   "metadata": {},
   "source": [
    "Erik Frisk<br>\n",
    "<frisk@isy.liu.se><br>\n",
    "Department of Electrical Engineering<br>\n",
    "Linköping University<br>\n",
    "Sweden"
   ]
  },
  {
   "cell_type": "code",
   "execution_count": 1,
   "metadata": {
    "collapsed": false
   },
   "outputs": [
    {
     "data": {
      "text/plain": [
       "['__doc__',\n",
       " '__file__',\n",
       " '__name__',\n",
       " '__package__',\n",
       " 'dmperm_internal',\n",
       " 'findmso_internal']"
      ]
     },
     "execution_count": 1,
     "metadata": {},
     "output_type": "execute_result"
    }
   ],
   "source": [
    "%matplotlib notebook\n",
    "import sys\n",
    "import csv\n",
    "sys.path.append(\"faultdiagnosistoolbox/build/lib.macosx-10.6-x86_64-2.7/\")\n",
    "import numpy as np\n",
    "import scipy.sparse as sp\n",
    "import structuralanalysis as sa\n",
    "import faultdiagnosistoolbox.dmperm as dmperm\n",
    "import faultdiagnosistoolbox as fdt\n",
    "import matplotlib\n",
    "import matplotlib.pyplot as plt\n",
    "dir(sa)"
   ]
  },
  {
   "cell_type": "markdown",
   "metadata": {},
   "source": [
    "## Some basic helper functions"
   ]
  },
  {
   "cell_type": "code",
   "execution_count": 2,
   "metadata": {
    "collapsed": false
   },
   "outputs": [],
   "source": [
    "def ReadMatrixCSV(fileName):\n",
    "    with open(fileName, 'rt') as csvfile:\n",
    "        matReader = csv.reader(csvfile, delimiter=' ', quotechar='|')\n",
    "        size = matReader.next() # Assume first line contains size information\n",
    "        X=np.zeros((int(size[0]),int(size[1])),dtype='float64');\n",
    "        for edge in matReader:\n",
    "            X[int(edge[0]),int(edge[1])] = float(edge[2])\n",
    "        return sp.csc_matrix(X.astype(np.int64))\n",
    "def BoxOff(*argin):\n",
    "    if len(argin)>0:\n",
    "        ax=argin[0]\n",
    "    else:\n",
    "        ax=plt.gca();\n",
    "    ax.spines['top'].set_visible(False)\n",
    "    ax.spines['right'].set_visible(False)\n",
    "    ax.yaxis.set_ticks_position('left')\n",
    "    ax.xaxis.set_ticks_position('bottom')"
   ]
  },
  {
   "cell_type": "markdown",
   "metadata": {},
   "source": [
    "## Low level function calls"
   ]
  },
  {
   "cell_type": "code",
   "execution_count": 3,
   "metadata": {
    "collapsed": false
   },
   "outputs": [],
   "source": [
    "X=ReadMatrixCSV('Xengine.txt')\n",
    "dm_int=sa.dmperm_internal(dmperm.CSCDict(X))"
   ]
  },
  {
   "cell_type": "code",
   "execution_count": null,
   "metadata": {
    "collapsed": false
   },
   "outputs": [],
   "source": [
    "print dm_int[\"p\"]"
   ]
  },
  {
   "cell_type": "code",
   "execution_count": null,
   "metadata": {
    "collapsed": false
   },
   "outputs": [],
   "source": [
    "plt.figure(10)\n",
    "plt.subplot(1,2,1)\n",
    "plt.spy(X, marker=\"o\", markersize=4);\n",
    "plt.subplot(1,2,2)\n",
    "plt.spy(X[dm_int[\"p\"],:][:,dm_int[\"q\"]], marker=\"o\", markersize=4);"
   ]
  },
  {
   "cell_type": "code",
   "execution_count": null,
   "metadata": {
    "collapsed": false
   },
   "outputs": [],
   "source": [
    "plt.figure(11)\n",
    "fdt.PlotDM(X,verbose=False)\n",
    "plt.show()"
   ]
  },
  {
   "cell_type": "markdown",
   "metadata": {},
   "source": [
    "## Try some basic dmperm functionality  and time performance"
   ]
  },
  {
   "cell_type": "code",
   "execution_count": null,
   "metadata": {
    "collapsed": false
   },
   "outputs": [],
   "source": [
    "reload(dmperm);"
   ]
  },
  {
   "cell_type": "code",
   "execution_count": null,
   "metadata": {
    "collapsed": false
   },
   "outputs": [],
   "source": [
    "dm=dmperm.GetDMParts(X)\n",
    "dmperm.sprank(X)"
   ]
  },
  {
   "cell_type": "markdown",
   "metadata": {},
   "source": [
    "Evaluate timing performance by doing 1000 dmperm \n",
    "\n",
    "Matlab comparisson (my iMac):<br>\n",
    "tic; for k=1:1000; GetDMParts(X); end; toc<br>\n",
    "Elapsed time is 0.108608 seconds.\n"
   ]
  },
  {
   "cell_type": "code",
   "execution_count": null,
   "metadata": {
    "collapsed": false
   },
   "outputs": [],
   "source": [
    "import timeit\n",
    "timeit.timeit('dmperm.GetDMParts(X)', setup=\"from __main__ import dmperm, X\",number=1000)"
   ]
  },
  {
   "cell_type": "code",
   "execution_count": null,
   "metadata": {
    "collapsed": false
   },
   "outputs": [],
   "source": [
    "print dmperm.IsPSO(X)\n",
    "print dmperm.IsPSO(X[dm.Mp.row,:][:,dm.Mp.col])"
   ]
  },
  {
   "cell_type": "code",
   "execution_count": null,
   "metadata": {
    "collapsed": false
   },
   "outputs": [],
   "source": [
    "Xp=X[dm.Mp.row,:][:,dm.Mp.col]\n",
    "pd=dmperm.PSODecomposition(Xp)"
   ]
  },
  {
   "cell_type": "code",
   "execution_count": null,
   "metadata": {
    "collapsed": false
   },
   "outputs": [],
   "source": [
    "print len(pd['eqclass'])\n",
    "print len(pd['X0'])"
   ]
  },
  {
   "cell_type": "markdown",
   "metadata": {},
   "source": [
    "## Try some MSO calculations"
   ]
  },
  {
   "cell_type": "code",
   "execution_count": null,
   "metadata": {
    "collapsed": false
   },
   "outputs": [],
   "source": [
    "msos=sa.findmso_internal(dmperm.CSCDict(X));\n",
    "print len(msos)\n",
    "print len(msos[0])\n",
    "print msos[0]"
   ]
  },
  {
   "cell_type": "code",
   "execution_count": null,
   "metadata": {
    "collapsed": false
   },
   "outputs": [],
   "source": [
    "import timeit\n",
    "timeit.timeit('sa.findmso_internal(dmperm.CSCDict(X))', setup=\"from __main__ import sa, dmperm, X\",number=100)"
   ]
  },
  {
   "cell_type": "code",
   "execution_count": null,
   "metadata": {
    "collapsed": false
   },
   "outputs": [],
   "source": [
    "mso_n = map(lambda m:len(m), msos)\n",
    "plt.figure(20)\n",
    "plt.hist(mso_n,bins=10)\n",
    "plt.title('Histogram - mso sizes')\n",
    "plt.xlabel('MSO size')\n",
    "plt.ylabel('Number of MSO sets')\n",
    "BoxOff()\n",
    "plt.show()"
   ]
  },
  {
   "cell_type": "code",
   "execution_count": null,
   "metadata": {
    "collapsed": false
   },
   "outputs": [],
   "source": [
    "msos[0]"
   ]
  },
  {
   "cell_type": "code",
   "execution_count": null,
   "metadata": {
    "collapsed": true
   },
   "outputs": [],
   "source": []
  }
 ],
 "metadata": {
  "anaconda-cloud": {},
  "kernelspec": {
   "display_name": "Python 2",
   "language": "python",
   "name": "python2"
  },
  "language_info": {
   "codemirror_mode": {
    "name": "ipython",
    "version": 2
   },
   "file_extension": ".py",
   "mimetype": "text/x-python",
   "name": "python",
   "nbconvert_exporter": "python",
   "pygments_lexer": "ipython2",
   "version": "2.7.12"
  }
 },
 "nbformat": 4,
 "nbformat_minor": 0
}
