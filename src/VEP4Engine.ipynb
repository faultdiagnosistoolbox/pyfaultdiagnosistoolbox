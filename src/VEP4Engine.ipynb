{
 "cells": [
  {
   "cell_type": "code",
   "execution_count": 1,
   "metadata": {
    "collapsed": true
   },
   "outputs": [],
   "source": [
    "%matplotlib notebook\n",
    "import matplotlib\n",
    "import matplotlib.pyplot as plt\n",
    "import sys\n",
    "import numpy as np\n",
    "import sympy as sym\n",
    "from sympy.printing import octave_code, ccode\n",
    "import scipy.sparse as sp\n",
    "import copy\n",
    "\n",
    "new_paths = ['../Models/', '../Misc/', 'faultdiagnosistoolbox/build/lib.macosx-10.6-x86_64-2.7/']\n",
    "[sys.path.append(d) for d in new_paths if not d in sys.path];\n",
    "from misc import *\n",
    "import faultdiagnosistoolbox as fdt\n",
    "import faultdiagnosistoolbox.CodeGeneration as codegen"
   ]
  },
  {
   "cell_type": "code",
   "execution_count": 2,
   "metadata": {
    "collapsed": false
   },
   "outputs": [],
   "source": [
    "import VEP4Engine\n",
    "reload(VEP4Engine)\n",
    "model = VEP4Engine.model;"
   ]
  },
  {
   "cell_type": "code",
   "execution_count": 3,
   "metadata": {
    "collapsed": false
   },
   "outputs": [
    {
     "name": "stdout",
     "output_type": "stream",
     "text": [
      "Model: VEP4 model\n",
      "\n",
      "  Type:Symbolic, dynamic\n",
      "\n",
      "  Variables and equations\n",
      "    90 unknown variables\n",
      "    10 known variables\n",
      "    11 fault variables\n",
      "    94 equations, including 14 differential constraints\n",
      "\n",
      "  Degree of redundancy: 4\n",
      "  Degree of redundancy of MTES set: 1\n",
      "\n",
      "\n",
      "  Model validation finished with 0 errors and 0 warnings.\n"
     ]
    }
   ],
   "source": [
    "model.Lint()"
   ]
  },
  {
   "cell_type": "code",
   "execution_count": null,
   "metadata": {
    "collapsed": false
   },
   "outputs": [],
   "source": [
    "plt.figure(10)\n",
    "model.PlotModel()"
   ]
  },
  {
   "cell_type": "code",
   "execution_count": 4,
   "metadata": {
    "collapsed": false
   },
   "outputs": [
    {
     "name": "stdout",
     "output_type": "stream",
     "text": [
      "Searchin for MSO sets...\n",
      "Found 4496 MSO sets\n"
     ]
    }
   ],
   "source": [
    "print \"Searchin for MSO sets...\"\n",
    "msos = model.MSO();\n",
    "print \"Found \" + str(len(msos)) + \" MSO sets\""
   ]
  },
  {
   "cell_type": "code",
   "execution_count": 5,
   "metadata": {
    "collapsed": false
   },
   "outputs": [
    {
     "name": "stdout",
     "output_type": "stream",
     "text": [
      "Checking index properties of MSO sets...\n",
      "206 MSO sets are low-index\n"
     ]
    }
   ],
   "source": [
    "print \"Checking index properties of MSO sets...\"\n",
    "li = map(lambda m:model.IsLowIndex(eq=m), msos)\n",
    "print str(sum(li)) + \" MSO sets are low-index\""
   ]
  },
  {
   "cell_type": "code",
   "execution_count": 12,
   "metadata": {
    "collapsed": false
   },
   "outputs": [
    {
     "data": {
      "text/plain": [
       "['mixed',\n",
       " 'mixed',\n",
       " 'int',\n",
       " 'mixed',\n",
       " 'mixed',\n",
       " 'mixed',\n",
       " 'mixed',\n",
       " 'mixed',\n",
       " 'mixed',\n",
       " 'mixed',\n",
       " 'int',\n",
       " 'mixed',\n",
       " 'mixed',\n",
       " 'mixed',\n",
       " 'mixed',\n",
       " 'mixed',\n",
       " 'mixed',\n",
       " 'mixed',\n",
       " 'mixed',\n",
       " 'mixed',\n",
       " 'mixed',\n",
       " 'mixed',\n",
       " 'mixed',\n",
       " 'mixed',\n",
       " 'mixed',\n",
       " 'mixed',\n",
       " 'mixed',\n",
       " 'mixed',\n",
       " 'mixed',\n",
       " 'mixed',\n",
       " 'mixed',\n",
       " 'mixed',\n",
       " 'mixed',\n",
       " 'mixed',\n",
       " 'mixed',\n",
       " 'mixed',\n",
       " 'mixed',\n",
       " 'mixed',\n",
       " 'mixed',\n",
       " 'mixed',\n",
       " 'mixed',\n",
       " 'mixed',\n",
       " 'mixed',\n",
       " 'mixed',\n",
       " 'mixed',\n",
       " 'mixed',\n",
       " 'mixed',\n",
       " 'mixed',\n",
       " 'mixed',\n",
       " 'mixed',\n",
       " 'mixed',\n",
       " 'mixed',\n",
       " 'mixed',\n",
       " 'mixed',\n",
       " 'mixed',\n",
       " 'mixed',\n",
       " 'mixed',\n",
       " 'mixed',\n",
       " 'mixed',\n",
       " 'mixed',\n",
       " 'mixed',\n",
       " 'mixed',\n",
       " 'mixed',\n",
       " 'mixed',\n",
       " 'mixed',\n",
       " 'mixed',\n",
       " 'mixed',\n",
       " 'mixed',\n",
       " 'mixed',\n",
       " 'mixed',\n",
       " 'mixed',\n",
       " 'mixed',\n",
       " 'mixed',\n",
       " 'mixed',\n",
       " 'mixed',\n",
       " 'mixed',\n",
       " 'mixed']"
      ]
     },
     "execution_count": 12,
     "metadata": {},
     "output_type": "execute_result"
    }
   ],
   "source": [
    "mso = msos[np.where(li)[0][0]]\n",
    "model.MSOCausalitySweep(mso)"
   ]
  },
  {
   "cell_type": "code",
   "execution_count": null,
   "metadata": {
    "collapsed": true
   },
   "outputs": [],
   "source": []
  }
 ],
 "metadata": {
  "kernelspec": {
   "display_name": "Python 2",
   "language": "python",
   "name": "python2"
  },
  "language_info": {
   "codemirror_mode": {
    "name": "ipython",
    "version": 2
   },
   "file_extension": ".py",
   "mimetype": "text/x-python",
   "name": "python",
   "nbconvert_exporter": "python",
   "pygments_lexer": "ipython2",
   "version": "2.7.12"
  }
 },
 "nbformat": 4,
 "nbformat_minor": 0
}
