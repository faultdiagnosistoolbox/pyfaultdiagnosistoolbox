{
 "cells": [
  {
   "cell_type": "markdown",
   "metadata": {},
   "source": [
    "# _Residual Selection for Consistency Based Diagnosis Using Machine Learning Models_"
   ]
  },
  {
   "cell_type": "markdown",
   "metadata": {},
   "source": [
    "Code corresponds to the paper \"_Residual Selection for Consistency Based Diagnosis Using Machine Learning Models_\" published at IFAC Safeprocess 2018 in Warszaw, Poland. \n",
    "\n",
    "Note that the plots are not identical to the results in the paper where a Matlab implementation of the machine learning algorithms were used. However, the methodology is the same and the results are similar."
   ]
  },
  {
   "cell_type": "markdown",
   "metadata": {},
   "source": [
    "## Basic python imports"
   ]
  },
  {
   "cell_type": "code",
   "execution_count": null,
   "metadata": {},
   "outputs": [],
   "source": [
    "import numpy as np\n",
    "import matplotlib.pyplot as plt\n",
    "from example_util_functions import BoxOff, loadmat"
   ]
  },
  {
   "cell_type": "markdown",
   "metadata": {},
   "source": [
    "Import functions from the toolbox useful for the example "
   ]
  },
  {
   "cell_type": "code",
   "execution_count": null,
   "metadata": {},
   "outputs": [],
   "source": [
    "from faultdiagnosistoolbox import RandomForestTestSelection, IsolabilityMatrix, DiagnosesAndConfusionMatrix, PlotConfusionMatrix"
   ]
  },
  {
   "cell_type": "markdown",
   "metadata": {},
   "source": [
    "## Load the data"
   ]
  },
  {
   "cell_type": "markdown",
   "metadata": {},
   "source": [
    "The data is loaded into a dictionary with 4 fields\n",
    "* modes - an array with names of no-fault and fault modes\n",
    "* res - An array with the 42 residuals\n",
    "* mode - a vector indicating which fault is active at each sample\n",
    "* fsm - A fault signature matrix based on model structure"
   ]
  },
  {
   "cell_type": "code",
   "execution_count": null,
   "metadata": {},
   "outputs": [],
   "source": [
    "data = loadmat('data.mat')['data']\n",
    "nf = len(data['modes'])\n",
    "nr = data['res'].shape[1]"
   ]
  },
  {
   "cell_type": "markdown",
   "metadata": {},
   "source": [
    "# Preprocess data"
   ]
  },
  {
   "cell_type": "markdown",
   "metadata": {},
   "source": [
    "Preprocesses data in two steps\n",
    "1. Take absolute values of residuals\n",
    "2. Threshold data (thdata)\n",
    "\n",
    "The data is normalized so that a threshold at 1 corresponds to probability of false alarm of approximately 1%."
   ]
  },
  {
   "cell_type": "code",
   "execution_count": null,
   "metadata": {},
   "outputs": [],
   "source": [
    "data['res'] = np.abs(data['res'])\n",
    "thdata = data.copy()\n",
    "thdata['res'] = thdata['res'] >= 1"
   ]
  },
  {
   "cell_type": "markdown",
   "metadata": {},
   "source": [
    "Plot the 7 first residuals in all fault modes. The residuals plotted in red are supposed to alarm for the fault according to the fault sensitivity matrix.\n",
    "\n",
    "(Fig. 4 in the paper)"
   ]
  },
  {
   "cell_type": "code",
   "execution_count": null,
   "metadata": {},
   "outputs": [],
   "source": [
    "plt.figure(10, clear=True, figsize=(10, 10))\n",
    "for ri in range(7):\n",
    "    for fm in range(nf):\n",
    "        plt.subplot(7, 8, ri*nf + fm + 1)\n",
    "        if data['fsm'][ri, fm]==0:\n",
    "            plt.plot(data['res'][data['mode']==fm, ri], 'b', lw=0.3)\n",
    "        else:\n",
    "            plt.plot(data['res'][data['mode']==fm, ri], 'r', lw=0.3)\n",
    "        plt.gca().tick_params(labelsize=6)\n",
    "        plt.ylim(0, 3)\n",
    "        BoxOff()\n",
    "        if fm==0:\n",
    "            plt.ylabel('res-%d' % (ri+1), fontsize=8)\n",
    "        if ri==0:\n",
    "            plt.title(data['modes'][fm], fontsize=8)\n",
    "plt.tight_layout(w_pad=-0.75, h_pad=0)"
   ]
  },
  {
   "cell_type": "markdown",
   "metadata": {},
   "source": [
    "# Basic analysis - performance of all 42 residuals"
   ]
  },
  {
   "cell_type": "code",
   "execution_count": null,
   "metadata": {},
   "outputs": [],
   "source": [
    "fsm = data['fsm']\n",
    "fm = data['modes'][1:]\n",
    "\n",
    "im = IsolabilityMatrix(fsm)\n",
    "plt.figure(20, clear=True, figsize=(6, 6))\n",
    "plt.spy(im[1:, 1:], marker='o', color='b')\n",
    "plt.xticks(np.arange(len(fm)), fm)\n",
    "plt.yticks(np.arange(len(fm)), fm)\n",
    "plt.title('Isolability matrix')\n",
    "plt.gca().xaxis.tick_bottom()"
   ]
  },
  {
   "cell_type": "code",
   "execution_count": null,
   "metadata": {},
   "outputs": [],
   "source": [
    "_, C = DiagnosesAndConfusionMatrix(thdata)\n",
    "plt.figure(30, clear=True, figsize=(6, 6))\n",
    "PlotConfusionMatrix(C)\n",
    "plt.xticks(np.arange(nf), data['modes'])\n",
    "plt.yticks(np.arange(nf), data['modes'])\n",
    "plt.title('Fault Isolation Performance matrix, all 42 residuals')\n",
    "plt.tight_layout()"
   ]
  },
  {
   "cell_type": "markdown",
   "metadata": {},
   "source": [
    "## Test selection using Random Forest Classifiers"
   ]
  },
  {
   "cell_type": "markdown",
   "metadata": {},
   "source": [
    "First, build a random forest classifier based on the thresholded data. Here, 300 trees are trained in the tree ensemble."
   ]
  },
  {
   "cell_type": "code",
   "execution_count": null,
   "metadata": {},
   "outputs": [],
   "source": [
    "res, C, rf, Crf = RandomForestTestSelection(thdata, n_estimators=100)"
   ]
  },
  {
   "cell_type": "code",
   "execution_count": null,
   "metadata": {},
   "outputs": [],
   "source": [
    "plt.figure(31, clear=True, figsize=(6, 6))\n",
    "PlotConfusionMatrix(Crf)\n",
    "plt.xticks(np.arange(nf), data['modes'])\n",
    "plt.yticks(np.arange(nf), data['modes'])\n",
    "plt.title('Fault Isolation Performance matrix')\n",
    "plt.tight_layout()"
   ]
  },
  {
   "cell_type": "markdown",
   "metadata": {},
   "source": [
    "Plot the variable importance, sorted, to get a ranking of predictor/residual usefullness in the classifier. Note that this classifier is not meant to be used in the diagnosis system.\n",
    "\n",
    "(Fig. 10 in the paper)"
   ]
  },
  {
   "cell_type": "code",
   "execution_count": null,
   "metadata": {},
   "outputs": [],
   "source": [
    "plt.figure(40, clear=True, figsize=(9, 6))\n",
    "plt.plot(res['residualimportance'][res['sortidx']])\n",
    "plt.yticks(fontsize=8)\n",
    "plt.xticks(range(nr), res['sortidx'] + 1, fontsize=8, rotation=90)\n",
    "plt.xlabel('Predictors')\n",
    "plt.ylabel('Importance')\n",
    "plt.title('Predictor importance')\n",
    "BoxOff()"
   ]
  },
  {
   "cell_type": "markdown",
   "metadata": {},
   "source": [
    "Compute performance measures on false-alarm (FA), missed detection (MD), aggregated fault isolation (FI) and the probability of maximum isolability performance (FI-max)\n",
    "when selecting residuals according to the ranking computed above.\n",
    "\\begin{align*}\n",
    "  p_{\\text{FA}} &= 1 - P(NF\\in D|NF)\\\\\n",
    "  p_{\\text{MD}} &= \\frac{1}{n_{f}}\\sum_{f_{i}\\in \\tilde{\\mathcal{F}}} P(NF\\in D|f_{i})\\\\\n",
    "  p_{\\text{FI}} &= \\frac{1}{n_{f}^{2}}\\sum_{f_{i}\\in \\tilde{\\mathcal{F}}} P(NF\\notin\n",
    "  D|f_{i})\\sum_{f_{j}\\in \\tilde{\\mathcal{F}}}|P(f_{j}\\in D|f_{i})-I_{ij}|\\\\\n",
    "  p_{\\text{FI-max}} &= P(D=F_{f_i}|f_i)\n",
    "\\end{align*}\n",
    "where $F_{f_i}$ is the set of faults not structurally isolable from fault $f_i$."
   ]
  },
  {
   "cell_type": "markdown",
   "metadata": {},
   "source": [
    "Plot the three aggregated performance measures agains the number of selected residuals.\n",
    "\n",
    "(Fig. 11 in the paper)"
   ]
  },
  {
   "cell_type": "code",
   "execution_count": null,
   "metadata": {},
   "outputs": [],
   "source": [
    "num_res = [10, 12, 26, 27]\n",
    "plt.figure(50, clear=True, figsize=(9, 7))\n",
    "plt.plot(range(1, nr), res['pfa'], 'r', label='False alarm probability')\n",
    "plt.plot(range(1, nr), res['pmd'], 'b', label='Missed detection probability')\n",
    "plt.plot(range(1, nr), res['pfi'], 'y', label='False isolation probability')\n",
    "for ni in num_res:\n",
    "    plt.plot(ni+1, res['pfi'][ni], 'kx')\n",
    "\n",
    "plt.legend()\n",
    "plt.xlabel('Number of selected residuals')\n",
    "plt.ylabel('Probability')\n",
    "BoxOff()"
   ]
  },
  {
   "cell_type": "markdown",
   "metadata": {},
   "source": [
    "Plot the probability of maximum fault isolation performance for each fault.\n",
    "\n",
    "(Fig. 12 in the paper)"
   ]
  },
  {
   "cell_type": "code",
   "execution_count": null,
   "metadata": {},
   "outputs": [],
   "source": [
    "plt.figure(figsize=(10, 10))\n",
    "for k in range(nf):\n",
    "    plt.plot(res['pmfi'][:, k], label=thdata['modes'][k])\n",
    "plt.legend(loc='upper right')\n",
    "BoxOff()"
   ]
  },
  {
   "cell_type": "markdown",
   "metadata": {},
   "source": [
    "Compute and display confusion matrices corresponding to selecting 10, 12, 26, and 27 residuals. The results should be compared to the confusion matrix above where all 42 residuals were used.\n",
    "\n",
    "(Fig. 13 in the paper)"
   ]
  },
  {
   "cell_type": "markdown",
   "metadata": {},
   "source": [
    "Compare performance of 12 with 42 residuals."
   ]
  },
  {
   "cell_type": "code",
   "execution_count": null,
   "metadata": {},
   "outputs": [],
   "source": [
    "ntests = 12\n",
    "plt.figure(90, clear=True, figsize=(12, 12))\n",
    "\n",
    "plt.subplot(1, 2, 1)\n",
    "_, C = DiagnosesAndConfusionMatrix(thdata, residx=res['sortidx'][0:ntests])\n",
    "PlotConfusionMatrix(C)\n",
    "plt.title('No of tests: %d' % ntests)\n",
    "plt.xticks(np.arange(nf), data['modes'])\n",
    "plt.yticks(np.arange(nf), data['modes'])\n",
    "\n",
    "plt.subplot(1, 2, 2)\n",
    "_, C = DiagnosesAndConfusionMatrix(thdata)\n",
    "PlotConfusionMatrix(C)\n",
    "plt.title('No of tests: 42')\n",
    "plt.xticks(np.arange(nf), data['modes'])\n",
    "plt.yticks(np.arange(nf), data['modes'])\n",
    "\n",
    "plt.tight_layout()    "
   ]
  },
  {
   "cell_type": "code",
   "execution_count": null,
   "metadata": {},
   "outputs": [],
   "source": []
  }
 ],
 "metadata": {
  "kernelspec": {
   "display_name": "Python 3",
   "language": "python",
   "name": "python3"
  },
  "language_info": {
   "codemirror_mode": {
    "name": "ipython",
    "version": 3
   },
   "file_extension": ".py",
   "mimetype": "text/x-python",
   "name": "python",
   "nbconvert_exporter": "python",
   "pygments_lexer": "ipython3",
   "version": "3.6.3"
  }
 },
 "nbformat": 4,
 "nbformat_minor": 2
}
