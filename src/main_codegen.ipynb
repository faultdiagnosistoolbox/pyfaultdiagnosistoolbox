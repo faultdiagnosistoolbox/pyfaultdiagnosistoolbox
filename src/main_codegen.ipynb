{
 "cells": [
  {
   "cell_type": "markdown",
   "metadata": {},
   "source": [
    "# Fault Diagnosis Toolbox in Python\n",
    "## - Code Generation"
   ]
  },
  {
   "cell_type": "markdown",
   "metadata": {},
   "source": [
    "Erik Frisk<br>\n",
    "<frisk@isy.liu.se><br>\n",
    "Department of Electrical Engineering<br>\n",
    "Linköping University<br>\n",
    "Sweden"
   ]
  },
  {
   "cell_type": "markdown",
   "metadata": {},
   "source": [
    "## Basic Python imports"
   ]
  },
  {
   "cell_type": "code",
   "execution_count": 1,
   "metadata": {
    "collapsed": false
   },
   "outputs": [],
   "source": [
    "%matplotlib notebook\n",
    "import matplotlib\n",
    "import matplotlib.pyplot as plt\n",
    "import sys\n",
    "import numpy as np\n",
    "import sympy as sym\n",
    "import scipy.sparse as sp\n",
    "import copy\n",
    "\n",
    "new_paths = ['../Models/', '../Misc/', 'faultdiagnosistoolbox/build/lib.macosx-10.6-x86_64-2.7/']\n",
    "[sys.path.append(d) for d in new_paths if not d in sys.path];\n",
    "from misc import *\n",
    "import faultdiagnosistoolbox as fdt\n",
    "import faultdiagnosistoolbox.CodeGeneration as codegen"
   ]
  },
  {
   "cell_type": "markdown",
   "metadata": {},
   "source": [
    "## Define a diagnosis models -- structural Three Tank model"
   ]
  },
  {
   "cell_type": "code",
   "execution_count": 2,
   "metadata": {
    "collapsed": false
   },
   "outputs": [],
   "source": [
    "#from ThreeTank_model import model\n",
    "from ThreeTank_model_sym import model"
   ]
  },
  {
   "cell_type": "code",
   "execution_count": null,
   "metadata": {
    "collapsed": false
   },
   "outputs": [],
   "source": [
    "print \"Model: %s\" % model.name\n",
    "print \"  (ne, nx, nf, nz) = (%d,%d,%d,%d)\" % (model.ne(), model.nx(), model.nf(), model.nz())\n",
    "print \"  sprank(X) = %d\" % model.sprank()\n",
    "if model.IsDynamic():\n",
    "    print \"  Dynamic model\"\n",
    "else:\n",
    "        print \"  Static model\""
   ]
  },
  {
   "cell_type": "code",
   "execution_count": null,
   "metadata": {
    "collapsed": false
   },
   "outputs": [],
   "source": [
    "print \"Searching for MSO sets...\"\n",
    "msos=model.MSO()\n",
    "print \"Found %d mso sets\" % len(msos)\n",
    "print msos"
   ]
  },
  {
   "cell_type": "code",
   "execution_count": null,
   "metadata": {
    "collapsed": false
   },
   "outputs": [],
   "source": [
    "m=2\n",
    "mso = msos[m]\n",
    "rIdx = model.MSOCausalitySweep(mso,causality='int') # Boolean index array to integral causality redundant equation\n",
    "if np.any(rIdx):\n",
    "    red = mso[rIdx][0] # Take the first one\n",
    "    m0 = [e for e in mso if e!=red]\n",
    "    Gamma = model.Matching(m0)\n",
    "    print \"Found integral causality matching (mso \" + str(m) + \", red = \" + str(red) + \")\"\n",
    "else:\n",
    "    print \"No integral causality matching exists\""
   ]
  },
  {
   "cell_type": "code",
   "execution_count": null,
   "metadata": {
    "collapsed": false
   },
   "outputs": [],
   "source": [
    "#codegen.SeqResGen(model, Gamma, red, 'ResGen_3_8', language='Python')\n",
    "model.SeqResGen(Gamma, red, 'ResGen_3_8', language='Python')"
   ]
  },
  {
   "cell_type": "code",
   "execution_count": null,
   "metadata": {
    "collapsed": false
   },
   "outputs": [],
   "source": [
    "import ResGen_3_8\n",
    "reload(ResGen_3_8)\n",
    "help(ResGen_3_8.ResGen_3_8)"
   ]
  }
 ],
 "metadata": {
  "anaconda-cloud": {},
  "kernelspec": {
   "display_name": "Python 2",
   "language": "python",
   "name": "python2"
  },
  "language_info": {
   "codemirror_mode": {
    "name": "ipython",
    "version": 2
   },
   "file_extension": ".py",
   "mimetype": "text/x-python",
   "name": "python",
   "nbconvert_exporter": "python",
   "pygments_lexer": "ipython2",
   "version": "2.7.12"
  }
 },
 "nbformat": 4,
 "nbformat_minor": 0
}
