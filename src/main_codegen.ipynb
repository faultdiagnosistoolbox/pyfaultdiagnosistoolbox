{
 "cells": [
  {
   "cell_type": "markdown",
   "metadata": {},
   "source": [
    "# Fault Diagnosis Toolbox in Python -- a development notebook"
   ]
  },
  {
   "cell_type": "markdown",
   "metadata": {},
   "source": [
    "Erik Frisk<br>\n",
    "<frisk@isy.liu.se><br>\n",
    "Department of Electrical Engineering<br>\n",
    "Linköping University<br>\n",
    "Sweden"
   ]
  },
  {
   "cell_type": "markdown",
   "metadata": {},
   "source": [
    "## Basic Python imports"
   ]
  },
  {
   "cell_type": "code",
   "execution_count": 1,
   "metadata": {
    "collapsed": false
   },
   "outputs": [],
   "source": [
    "%matplotlib notebook\n",
    "import time\n",
    "import matplotlib\n",
    "import matplotlib.pyplot as plt\n",
    "import sys\n",
    "import numpy as np\n",
    "import sympy as sym\n",
    "import scipy.sparse as sp\n",
    "from sympy.printing import ccode, octave_code\n",
    "new_paths = ['Models/', 'Misc/', 'faultdiagnosistoolbox/build/lib.macosx-10.6-x86_64-2.7/']\n",
    "[sys.path.append(d) for d in new_paths if not d in sys.path];\n",
    "from misc import *\n",
    "import faultdiagnosistoolbox as fdt"
   ]
  },
  {
   "cell_type": "markdown",
   "metadata": {},
   "source": [
    "## Define a diagnosis models -- structural Three Tank model"
   ]
  },
  {
   "cell_type": "code",
   "execution_count": 2,
   "metadata": {
    "collapsed": false
   },
   "outputs": [],
   "source": [
    "#from ThreeTank_model import model\n",
    "from ThreeTank_model_sym import model"
   ]
  },
  {
   "cell_type": "code",
   "execution_count": 3,
   "metadata": {
    "collapsed": false
   },
   "outputs": [
    {
     "name": "stdout",
     "output_type": "stream",
     "text": [
      "Model: Three Tank System\n",
      "  (ne, nx, nf, nz) = (12,10,6,3)\n",
      "  sprank(X) = 10\n",
      "  Dynamic model\n"
     ]
    }
   ],
   "source": [
    "print \"Model: %s\" % model.name\n",
    "print \"  (ne, nx, nf, nz) = (%d,%d,%d,%d)\" % (model.ne(), model.nx(), model.nf(), model.nz())\n",
    "print \"  sprank(X) = %d\" % model.sprank()\n",
    "if model.IsDynamic():\n",
    "    print \"  Dynamic model\"\n",
    "else:\n",
    "        print \"  Static model\""
   ]
  },
  {
   "cell_type": "code",
   "execution_count": 4,
   "metadata": {
    "collapsed": false
   },
   "outputs": [
    {
     "name": "stdout",
     "output_type": "stream",
     "text": [
      "Searching for MSO sets...\n",
      "Found 6 mso sets\n",
      "[array([ 7,  6,  4, 10,  3,  8,  9,  1,  2,  5, 11], dtype=int32)\n",
      " array([ 7,  6,  4, 10,  3,  8,  9,  0], dtype=int32)\n",
      " array([ 7,  6,  4, 10,  1,  2,  5, 11,  0], dtype=int32)\n",
      " array([ 7,  6,  3,  8,  9,  1,  2,  5, 11,  0], dtype=int32)\n",
      " array([ 7,  4, 10,  3,  8,  9,  1,  2,  5, 11,  0], dtype=int32)\n",
      " array([ 6,  4, 10,  3,  8,  9,  1,  2,  5, 11,  0], dtype=int32)]\n"
     ]
    }
   ],
   "source": [
    "print \"Searching for MSO sets...\"\n",
    "msos=model.MSO()\n",
    "print \"Found %d mso sets\" % len(msos)\n",
    "print msos"
   ]
  },
  {
   "cell_type": "code",
   "execution_count": 5,
   "metadata": {
    "collapsed": false
   },
   "outputs": [
    {
     "name": "stdout",
     "output_type": "stream",
     "text": [
      "Found integral causality matching (mso 2, red = 7)\n"
     ]
    }
   ],
   "source": [
    "m=2\n",
    "mso = msos[m]\n",
    "rIdx = model.MSOCausalitySweep(mso,causality='int') # Boolean index array to integral causality redundant equation\n",
    "if np.any(rIdx):\n",
    "    red = mso[rIdx][0] # Take the first one\n",
    "    m0 = [e for e in mso if e!=red]\n",
    "    Gamma = model.Matching(m0)\n",
    "    print \"Found integral causality matching (mso \" + str(m) + \", red = \" + str(red) + \")\"\n",
    "else:\n",
    "    print \"No integral causality matching exists\""
   ]
  },
  {
   "cell_type": "code",
   "execution_count": 6,
   "metadata": {
    "collapsed": false
   },
   "outputs": [],
   "source": [
    "def IsDifferentialConstraint( rel ):\n",
    "    return isinstance(rel,list) and len(rel)==3 and rel[2] is \"diff\";\n",
    "\n",
    "def UsedVars(rels, variables):\n",
    "    uv = set([])\n",
    "    for expr in rels:\n",
    "        if not IsDifferentialConstraint(expr):\n",
    "            uv |= set([str(v) for v in expr.atoms() if str(v) in variables])\n",
    "    return list(uv)\n",
    "\n",
    "def ExprToCode( expr, language):\n",
    "    if language is 'C':\n",
    "        genCode = ccode(expr)\n",
    "    elif language is 'Matlab':\n",
    "        genCode = octave_code(expr)\n",
    "    elif language is 'Python':\n",
    "        genCode = str(expr)\n",
    "    else:\n",
    "        print \"Unknown language\"\n",
    "    return genCode\n",
    "\n",
    "def CodeEOL(language):\n",
    "    if language is 'C' or language is 'Matlab':\n",
    "        return ';'\n",
    "    elif language is 'Python':\n",
    "        return ''\n",
    "    return ''\n",
    "\n",
    "def CodeComment(language):\n",
    "    if language is 'C':\n",
    "        return '//'\n",
    "    elif language is 'Matlab':\n",
    "        return '%'\n",
    "    elif language is 'Python':\n",
    "        return '#'\n",
    "    return '#'\n",
    "\n",
    "def DVar(diffConstraint):\n",
    "    return diffConstraint[0]\n",
    "def IVar(diffConstraint):\n",
    "    return diffConstraint[1]\n",
    "\n",
    "def SeqResGenCausality( Gamma, e, diffres ):\n",
    "    if not IsDifferentialConstraint(e):\n",
    "        return Gamma.matchType\n",
    "    elif diffres is 'int':\n",
    "        # Treat differential residual constraint in integral causality\n",
    "        if Gamma.matchType is 'der':\n",
    "            return 'mixed'\n",
    "        elif Gamma.matchType is 'int' or Gamma.matchType is 'mixed':\n",
    "            return Gamma.type\n",
    "        elif Gamma.matchType is 'algebraic':\n",
    "            return 'int'\n",
    "    else:\n",
    "        # Treat differential residual constraint in derivative causality\n",
    "        if Gamma.matchType is 'int':\n",
    "            return 'mixed'\n",
    "        elif Gamma.matchType is 'der' or Gamma.matchType is 'mixed':\n",
    "            return Gamma.matchType\n",
    "        elif Gamma.matchType is 'algebraic':\n",
    "            return 'der'"
   ]
  },
  {
   "cell_type": "code",
   "execution_count": 7,
   "metadata": {
    "collapsed": false
   },
   "outputs": [],
   "source": [
    "def AlgebraicHallComponent(model, g, language):\n",
    "    fzSub = zip(model.f, np.zeros(len(model.f),dtype=np.int64))\n",
    "    eqs = map(lambda eq: eq.subs(fzSub), model.syme[g.row])    \n",
    "    hcVars = list(np.array(model.x)[g.col])\n",
    "    sol = sym.solve(eqs,hcVars)\n",
    "    resGen = []\n",
    "    for varSol in sol:\n",
    "        if len(hcVars)==1:\n",
    "            genCode = \"%s = %s%s %s %s\" %(varSol,ExprToCode(sol[varSol], language), CodeEOL(language),\n",
    "                                         CodeComment(language),model.e[g.row[0]])\n",
    "        else:\n",
    "            genCode = \"%s = %s%s\" %(varSol,ExprToCode(sol[varSol], language), CodeEOL(language))\n",
    "        resGen.append(genCode)\n",
    "    return resGen\n",
    "\n",
    "def CodeApproxInt(v,dv,enum,language):\n",
    "    if language is 'C' or language is 'Matlab':\n",
    "         return 'ApproxInt(%s,state.%s,Ts)%s %s %s' % (dv,v,CodeEOL(language),CodeComment(language),enum)\n",
    "    else:\n",
    "        return \"ApproxInt(%s,state['%s'],Ts)%s %s %s\" % (dv,v,CodeEOL(language),CodeComment(language),enum)    \n",
    "    \n",
    "def IntegralHallComponent(model, g, language):\n",
    "    fzSub = zip(model.f, np.zeros(len(model.f),dtype=np.int64))\n",
    "    resGen = []\n",
    "    integ = []\n",
    "    iState = []\n",
    "    for e,v,enum in zip(model.syme[g.row],np.array(model.x)[g.col],np.array(model.e)[g.row]):\n",
    "        if not IsDifferentialConstraint(e):\n",
    "            sol=sym.solve(e.subs(fzSub),v)\n",
    "            genCode = \"%s = %s%s %s %s\" %(v,ExprToCode(sol[0], language), CodeEOL(language),CodeComment(language),enum)\n",
    "            resGen.append(genCode)\n",
    "        else:\n",
    "            dv = DVar(e)\n",
    "            iv = IVar(e)\n",
    "            genCode = v + \" = \" + CodeApproxInt(v,dv,enum,language)\n",
    "            integ.append(genCode)\n",
    "            iState.append(v)\n",
    "    return (resGen,integ,iState)\n",
    "\n",
    "def MixedHallComponent(model, g, language):\n",
    "    fzSub = zip(model.f, np.zeros(len(model.f),dtype=np.int64))\n",
    "    resGen = []\n",
    "    iState = []\n",
    "    dState = []\n",
    "    integ = []\n",
    "    for e,v,enum in zip(model.syme[g.row],np.array(model.x)[g.col],np.array(model.e)[g.row]):\n",
    "        if not IsDifferentialConstraint(e):\n",
    "            sol=sym.solve(e.subs(fzSub),v)\n",
    "            genCode = \"%s = %s%s %s %s\" %(v,ExprToCode(sol[0], language), CodeEOL(language),CodeComment(language),enum)\n",
    "            resGen.append(genCode)\n",
    "        elif v is IVar(e):\n",
    "            dv = DVar(e)\n",
    "            iv = IVar(e)\n",
    "            genCode = v + \" = \" + CodeApproxInt(v,dv,enum,language)\n",
    "            integ.append(genCode)\n",
    "            iState.append(v)\n",
    "        else: # v is DVar(e)\n",
    "            genCode = '%s = ApproxDiff(%s,state.%s,Ts)%s  %s %s' % (DVar(e),IVar(e),IVar(e),CodeEOL(language),\n",
    "                                                                    CodeComment(language),enum)\n",
    "            resGenM0.append(genCode)\n",
    "            dState.append(Ivar(e))\n",
    "\n",
    "    return (resGen,integ,iState,dState)"
   ]
  },
  {
   "cell_type": "code",
   "execution_count": 8,
   "metadata": {
    "collapsed": false
   },
   "outputs": [],
   "source": [
    "def GenerateResidualEquations( model, resEq, diffres, language):\n",
    "    if language is 'C':\n",
    "        resvar = 'r[0]'\n",
    "    else:\n",
    "        resvar = 'r'\n",
    "    e = model.syme[resEq]\n",
    "    if not IsDifferentialConstraint(e):\n",
    "        resExpr = e.lhs - e.rhs\n",
    "        genCode = [\"%s = %s%s %s %s\" % (resvar,ExprToCode(resExpr,language), CodeEOL(language), \n",
    "                                       CodeComment(language), np.array(model.e)[resEq])]\n",
    "        iState = []\n",
    "        dState = []\n",
    "        integ = []\n",
    "    else: # IsDifferentialConstraint(e)\n",
    "        if diffres is 'der':\n",
    "            iv = IVar(e)\n",
    "            dv = DVar(e)\n",
    "            genCode = ['%s = %s-ApproxDiff(%s, state.%s,Ts)%s %s %s' % (resvar,dv,iv,iv,CodeEOL(language),\n",
    "                                                                       CodeComment(language), np.array(model.e)[resEq])]\n",
    "            iState = []\n",
    "            dState = [dv]\n",
    "            integ = []\n",
    "        else: # diffres is 'int'\n",
    "            iv = IVar(e)\n",
    "            dv = DVar(e)\n",
    "            if language is 'Python':\n",
    "                genCode = [\"%s = %s-state['%s']%s %s %s\" % (resvar,v,v,CodeEOL(language),\n",
    "                                                         CodeComment(language), np.array(model.e)[resEq])]\n",
    "            else:\n",
    "                genCode = ['%s = %s-state.%s%s %s %s' % (resvar,v,v,CodeEOL(language),\n",
    "                                                         CodeComment(language), np.array(model.e)[resEq])]\n",
    "            iState = [iv];\n",
    "            dState = []\n",
    "            integ = [iv + \" = \" + CodeApproxInt(v,dv,np.array(model.e)[resEq],language)]\n",
    "    return (np.array(genCode), iState, dState, integ)\n",
    "\n",
    "def GenerateExactlyDetermined( model, Gamma, language):\n",
    "    resGenM0 = np.array([])\n",
    "    integ = np.array([])\n",
    "    iState = np.array([])\n",
    "    dState = np.array([])\n",
    "    \n",
    "    for g in Gamma.matching:\n",
    "        sys.stdout.write('.')\n",
    "        sys.stdout.flush()\n",
    "        if g.matchType is 'algebraic':\n",
    "            codeGen = AlgebraicHallComponent(model, g, language)\n",
    "            resGenM0 = np.concatenate((resGenM0, codeGen))\n",
    "        elif g.matchType is 'int':\n",
    "            codeGen,gInteg,giState = IntegralHallComponent(model, g, language)\n",
    "            iState = np.concatenate((iState, giState))\n",
    "            resGenM0 = np.concatenate((resGenM0, codeGen))\n",
    "            integ = np.concatenate((integ, gInteg))\n",
    "        elif g.matchType is 'der':\n",
    "            dc = model.syme[g.row[0]];\n",
    "            codeGen = '%s = ApproxDiff(%s,state.%s,Ts)%s  %s %s' % (DVar(dc),IVar(dc),IVar(dc),CodeEOL(language),\n",
    "                                                                    CodeComment(language),model.e[g.row[0]])\n",
    "            resGenM0 = np.concatenate((resGenM0, [codeGen]))\n",
    "            dState = np.concatenate((dState, [IVar(e)]))\n",
    "        elif g.matchType is 'mixed':\n",
    "            codeGen,gInteg,giState,gdState = IntegralHallComponent(model, g, language)\n",
    "            resGenM0 = np.concatenate((resGenM0, codeGen))    \n",
    "            iState = np.concatenate((iState, giState))\n",
    "            dState = np.concatenate((dState, gdState))\n",
    "            integ = np.concatenate((integ, gInteg))\n",
    "    sys.stdout.write('\\n')\n",
    "    return (resGenM0, iState, dState, integ)\n",
    "\n",
    "#language = 'Python'\n",
    "#print GenerateExactlyDetermined(model, Gamma, language)\n",
    "#print GenerateResidualEquations(model, red, 'int', language)"
   ]
  },
  {
   "cell_type": "code",
   "execution_count": 46,
   "metadata": {
    "collapsed": false
   },
   "outputs": [
    {
     "name": "stdout",
     "output_type": "stream",
     "text": [
      "Generating residual generator ResGen_3_8 (Python)\n",
      "  Generating code for the exactly determined part: ..\n",
      "  Generating code for the residual equations\n",
      "  Writing residual generator file\n",
      "File ResGen_3_8.py generated.\n"
     ]
    }
   ],
   "source": [
    "def WriteApproxIntFunction(f,language):\n",
    "    if language is 'C':\n",
    "        pass\n",
    "    elif language is 'Python':\n",
    "        f.write('    def ApproxInt(dx,x0,Ts):\\n')\n",
    "        f.write('        return x0 + Ts*dx\\n')\n",
    "    elif language is 'Matlab':\n",
    "        pass\n",
    "\n",
    "def WriteApproxDerFunction(f,language):\n",
    "    if language is 'C':\n",
    "        f.write('double\\nApproxDiff(double x, double xold, double Ts)\\n')\n",
    "        f.write('{\\n')\n",
    "        f.write('  return (x-xold)/Ts;\\n')\n",
    "        f.write('}\\n')\n",
    "\n",
    "    elif language is 'Python':\n",
    "        f.write('    def ApproxDer(x,xold,Ts):\\n')\n",
    "        f.write('        return (x-xold)/Ts\\n')\n",
    "    elif language is 'Matlab':\n",
    "        f.write('function dx=ApproxDiff(x,xold,Ts)\\n')\n",
    "        f.write('  if length(xold)==1\\n')\n",
    "        f.write('    dx = (x-xold)/Ts;\\n')\n",
    "        f.write('  end\\n')\n",
    "        f.write('end\\n')    \n",
    "    \n",
    "def WriteResGenCorePython(f, name, model, resGen, state, integ, resGenEqs):\n",
    "    # Function definition\n",
    "    f.write('    def ' + name + '_core(z, state, params, Ts):\\n')\n",
    "\n",
    "    tab = '        '\n",
    "    # Parameters\n",
    "    usedParams = UsedVars(model.syme[resGenEqs], model.parameters)\n",
    "    if len(usedParams)>0:\n",
    "        f.write(tab + '# Parameters\\n')\n",
    "        for p in usedParams:\n",
    "            f.write(tab + p + \" = params['\" + p + \"']\\n\")\n",
    "        f.write('\\n')\n",
    "            \n",
    "    # Known variables\n",
    "    usedKnownSignals = UsedVars(model.syme[resGenEqs], model.z)\n",
    "    f.write(tab + '# Known signals\\n')\n",
    "    for zIdx,zv in enumerate(usedKnownSignals):\n",
    "        f.write(tab + zv + ' = z[' + str(zIdx) + ']\\n')\n",
    "    f.write('\\n') \n",
    "            \n",
    "    # Initialize state variables\n",
    "    if len(state)>0:\n",
    "        f.write(tab + '# Initialize state variables\\n')\n",
    "        for sv in state:\n",
    "            f.write(tab + sv + \" = state['\" + sv + \"']\\n\")\n",
    "        f.write('\\n')            \n",
    "            \n",
    "    # Residual generator body\n",
    "    f.write(tab + '# Residual generator body\\n')\n",
    "    for pyExpr in resGen:\n",
    "        f.write(tab + pyExpr + '\\n')\n",
    "    f.write('\\n')\n",
    "        \n",
    "    # Update integrator variables\n",
    "    if len(integ)>0:\n",
    "        f.write(tab + '# Update integrator variables\\n')\n",
    "        for iExpr in integ:\n",
    "            f.write(tab + iExpr + '\\n')\n",
    "        f.write('\\n')            \n",
    "\n",
    "    # Update state variables\n",
    "    if len(state)>0:\n",
    "        f.write(tab + '# Update state variables\\n')\n",
    "        for sv in state:\n",
    "            f.write(tab + \"state['\" + sv + \"'] = \" + sv + '\\n')\n",
    "        f.write('\\n')\n",
    "\n",
    "    # Return value\n",
    "    f.write(tab + 'return (r, state)\\n')\n",
    "    \n",
    "def WriteResGenPython( model, resGen, state, integ, name, batch, resGenCausality, resGenEqs ):\n",
    "    f=open(name + \".py\", 'w')\n",
    "    tab = '    '\n",
    "    if not batch:\n",
    "        f.write('def ' + name + \"(z,state,params,Ts):\\n\")\n",
    "        f.write(tab + '\"\"\" ' + name.upper() + \" Sequential residual generator for model '\" + model.name + \"'\\n\")\n",
    "        f.write(tab + 'Causality: ' + resGenCausality + '\\n')\n",
    "        f.write('\\n')\n",
    "        \n",
    "        fSens = np.array(model.f)[np.any(np.array(model.F[resGenEqs,:].todense()),axis=0)]\n",
    "        f.write(tab + 'Structurally sensitive to faults: ')\n",
    "        for fault in fSens[:-1]:\n",
    "            f.write(fault + ', ')\n",
    "        f.write(fSens[-1] + '\\n')\n",
    "        f.write('\\n')\n",
    "        f.write(tab + 'Example of basic usage:\\n')\n",
    "        f.write(tab + 'Let z be the observations, then the residual generator can be simulated by:\\n')\n",
    "        f.write('\\n')\n",
    "        f.write(tab + 'for zk in z:\\n')\n",
    "        f.write(tab + tab + 'rk, state = ResGen_3_8( zk, state, params, 1/fs )\\n')\n",
    "        f.write('\\n')\n",
    "        f.write(tab + 'where state is a structure with the state of the residual generator.\\n')\n",
    "        f.write(tab + 'The state has fields: ')\n",
    "        for s in state[:-1]:\n",
    "            f.write(s + ', ')\n",
    "        f.write(state[-1] + '\\n')\n",
    "        f.write(tab + '\"\"\"') \n",
    "        f.write('\\n# File generated ' + time.strftime('%c') + '\\n')\n",
    "        f.write('\\n')\n",
    "        \n",
    "        if resGenCausality is 'int' or resGenCausality is 'mixed':\n",
    "            WriteApproxIntFunction(f,'Python')\n",
    "            f.write('\\n')\n",
    "\n",
    "        if resGenCausality is 'der' or resGenCausality is 'mixed':\n",
    "            WriteApproxDerFunction(f,'Python')\n",
    "            f.write('\\n')\n",
    "    \n",
    "        WriteResGenCorePython(f,name, model,resGen,state, integ,resGenEqs)\n",
    "        \n",
    "        f.write('\\n')\n",
    "        f.write('    return ' + name + '_core(z, state, params, Ts)\\n')\n",
    "    else: # batch\n",
    "        pass\n",
    "    f.close()\n",
    "    \n",
    "SeqResGen(model, Gamma, red, 'ResGen_3_8', language='Python')"
   ]
  },
  {
   "cell_type": "code",
   "execution_count": 37,
   "metadata": {
    "collapsed": false
   },
   "outputs": [],
   "source": [
    "def SeqResGen(model, Gamma, resEq, name, diffres='int', language='Python', batch=False, external=[]):\n",
    "    if not model.type is 'Symbolic':\n",
    "        print \"Code generation only possible for symbolic models\"\n",
    "        return []\n",
    "    \n",
    "    print \"Generating residual generator \" + name + \" (\" + language + \")\"\n",
    "    sys.stdout.write(\"  Generating code for the exactly determined part: \")\n",
    "    m0Code, m0iState, m0dState, m0integ = GenerateExactlyDetermined( model, Gamma, language)\n",
    "\n",
    "    print \"  Generating code for the residual equations\"\n",
    "    resCode, resiState, resdState, resinteg = GenerateResidualEquations( model, resEq, diffres, language)\n",
    "\n",
    "    # Collect code, integrators, and states\n",
    "    resGenCode = np.concatenate((m0Code,[' '],resCode))\n",
    "    resGeniState = np.concatenate((m0iState,resiState))\n",
    "    resGendState = np.concatenate((m0dState,resdState))\n",
    "    resGenState  = np.concatenate((resGeniState,resGendState))\n",
    "    resGenInteg = np.concatenate((m0integ,resinteg))\n",
    "        \n",
    "    print \"  Writing residual generator file\"\n",
    "    resGenCausality = SeqResGenCausality( Gamma, model.syme[resEq], diffres )\n",
    "    resGenEqs = np.array([],dtype=np.int64)\n",
    "    for g in Gamma.matching:\n",
    "        resGenEqs = np.concatenate((resGenEqs,g.row))    \n",
    "    if language is 'Python':\n",
    "        WriteResGenPython( model, resGenCode, resGenState, resGenInteg, name, batch, resGenCausality, resGenEqs )\n",
    "        print 'File ' + name + '.py generated.'\n",
    "    elif language is 'Matlab':\n",
    "        pass\n",
    "    elif language is 'C':\n",
    "        pass\n",
    "\n",
    "#SeqResGen(model, Gamma, red, 'ResGen_3_8', language='Python')"
   ]
  },
  {
   "cell_type": "code",
   "execution_count": 392,
   "metadata": {
    "collapsed": true
   },
   "outputs": [],
   "source": [
    "class FDTStruct:\n",
    "    pass"
   ]
  },
  {
   "cell_type": "code",
   "execution_count": 393,
   "metadata": {
    "collapsed": true
   },
   "outputs": [],
   "source": [
    "params = FDTStruct()\n",
    "params.Rv1 = 1\n",
    "params.Rv2 = 2\n",
    "params.Rv3 = 3\n",
    "params.CT2 = 4\n",
    "params.CT3 = 5"
   ]
  },
  {
   "cell_type": "code",
   "execution_count": 397,
   "metadata": {
    "collapsed": false
   },
   "outputs": [],
   "source": [
    "params = {}\n",
    "params['Rv1'] = 1\n",
    "params['Rv2'] = 2\n",
    "params['Rv3'] = 3\n",
    "params['CT2'] = 4\n",
    "params['CT3'] = 5"
   ]
  },
  {
   "cell_type": "code",
   "execution_count": 398,
   "metadata": {
    "collapsed": false
   },
   "outputs": [
    {
     "data": {
      "text/plain": [
       "{'CT2': 4, 'CT3': 5, 'Rv1': 1, 'Rv2': 2, 'Rv3': 3}"
      ]
     },
     "execution_count": 398,
     "metadata": {},
     "output_type": "execute_result"
    }
   ],
   "source": [
    "params"
   ]
  },
  {
   "cell_type": "code",
   "execution_count": 47,
   "metadata": {
    "collapsed": false
   },
   "outputs": [],
   "source": [
    "import ResGen_3_8\n",
    "reload(ResGen_3_8);"
   ]
  },
  {
   "cell_type": "code",
   "execution_count": 48,
   "metadata": {
    "collapsed": false
   },
   "outputs": [
    {
     "name": "stdout",
     "output_type": "stream",
     "text": [
      "Help on function ResGen_3_8 in module ResGen_3_8:\n",
      "\n",
      "ResGen_3_8(z, state, params, Ts)\n",
      "    RESGEN_3_8 Sequential residual generator for model 'Three Tank System'\n",
      "    Causality: int\n",
      "    \n",
      "    Structurally sensitive to faults: fV1, fV2, fV3, fT2, fT3\n",
      "    \n",
      "    Example of basic usage:\n",
      "    Let z be the observations, then the residual generator can be simulated by:\n",
      "    \n",
      "    for zk in z:\n",
      "        rk, state = ResGen_3_8( zk, state, params, 1/fs )\n",
      "    \n",
      "    where state is a structure with the state of the residual generator.\n",
      "    The state has fields: p3, p2\n",
      "\n"
     ]
    }
   ],
   "source": [
    "help(ResGen_3_8.ResGen_3_8)"
   ]
  },
  {
   "cell_type": "code",
   "execution_count": null,
   "metadata": {
    "collapsed": true
   },
   "outputs": [],
   "source": []
  }
 ],
 "metadata": {
  "kernelspec": {
   "display_name": "Python 2",
   "language": "python",
   "name": "python2"
  },
  "language_info": {
   "codemirror_mode": {
    "name": "ipython",
    "version": 2
   },
   "file_extension": ".py",
   "mimetype": "text/x-python",
   "name": "python",
   "nbconvert_exporter": "python",
   "pygments_lexer": "ipython2",
   "version": "2.7.12"
  }
 },
 "nbformat": 4,
 "nbformat_minor": 0
}
