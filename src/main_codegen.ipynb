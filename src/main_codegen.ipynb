{
 "cells": [
  {
   "cell_type": "markdown",
   "metadata": {},
   "source": [
    "# Fault Diagnosis Toolbox in Python\n",
    "## - Code Generation"
   ]
  },
  {
   "cell_type": "markdown",
   "metadata": {},
   "source": [
    "Erik Frisk<br>\n",
    "<frisk@isy.liu.se><br>\n",
    "Department of Electrical Engineering<br>\n",
    "Linköping University<br>\n",
    "Sweden"
   ]
  },
  {
   "cell_type": "markdown",
   "metadata": {},
   "source": [
    "## Basic Python imports"
   ]
  },
  {
   "cell_type": "code",
   "execution_count": 2,
   "metadata": {
    "collapsed": false
   },
   "outputs": [],
   "source": [
    "%matplotlib notebook\n",
    "import matplotlib\n",
    "import matplotlib.pyplot as plt\n",
    "import sys\n",
    "import numpy as np\n",
    "import sympy as sym\n",
    "import scipy.sparse as sp\n",
    "\n",
    "new_paths = ['../Models/', '../Misc/', 'faultdiagnosistoolbox/build/lib.macosx-10.6-x86_64-2.7/']\n",
    "[sys.path.append(d) for d in new_paths if not d in sys.path];\n",
    "from misc import *\n",
    "import faultdiagnosistoolbox as fdt\n",
    "import faultdiagnosistoolbox.CodeGeneration as codegen"
   ]
  },
  {
   "cell_type": "markdown",
   "metadata": {},
   "source": [
    "## Define a diagnosis models -- structural Three Tank model"
   ]
  },
  {
   "cell_type": "code",
   "execution_count": 3,
   "metadata": {
    "collapsed": false
   },
   "outputs": [],
   "source": [
    "#from ThreeTank_model import model\n",
    "from ThreeTank_model_sym import model"
   ]
  },
  {
   "cell_type": "code",
   "execution_count": 10,
   "metadata": {
    "collapsed": false
   },
   "outputs": [
    {
     "name": "stdout",
     "output_type": "stream",
     "text": [
      "Model: Three Tank System\n",
      "  (ne, nx, nf, nz) = (12,10,6,3)\n",
      "  sprank(X) = 10\n",
      "  Dynamic model\n"
     ]
    }
   ],
   "source": [
    "print \"Model: %s\" % model.name\n",
    "print \"  (ne, nx, nf, nz) = (%d,%d,%d,%d)\" % (model.ne(), model.nx(), model.nf(), model.nz())\n",
    "print \"  sprank(X) = %d\" % model.sprank()\n",
    "if model.IsDynamic():\n",
    "    print \"  Dynamic model\"\n",
    "else:\n",
    "        print \"  Static model\""
   ]
  },
  {
   "cell_type": "code",
   "execution_count": 11,
   "metadata": {
    "collapsed": false
   },
   "outputs": [
    {
     "name": "stdout",
     "output_type": "stream",
     "text": [
      "Searching for MSO sets...\n",
      "Found 6 mso sets\n",
      "[array([ 7,  6,  4, 10,  3,  8,  9,  1,  2,  5, 11], dtype=int32)\n",
      " array([ 7,  6,  4, 10,  3,  8,  9,  0], dtype=int32)\n",
      " array([ 7,  6,  4, 10,  1,  2,  5, 11,  0], dtype=int32)\n",
      " array([ 7,  6,  3,  8,  9,  1,  2,  5, 11,  0], dtype=int32)\n",
      " array([ 7,  4, 10,  3,  8,  9,  1,  2,  5, 11,  0], dtype=int32)\n",
      " array([ 6,  4, 10,  3,  8,  9,  1,  2,  5, 11,  0], dtype=int32)]\n"
     ]
    }
   ],
   "source": [
    "print \"Searching for MSO sets...\"\n",
    "msos=model.MSO()\n",
    "print \"Found %d mso sets\" % len(msos)\n",
    "print msos"
   ]
  },
  {
   "cell_type": "code",
   "execution_count": 12,
   "metadata": {
    "collapsed": false
   },
   "outputs": [
    {
     "name": "stdout",
     "output_type": "stream",
     "text": [
      "Found integral causality matching (mso 2, red = 7)\n"
     ]
    }
   ],
   "source": [
    "m=2\n",
    "mso = msos[m]\n",
    "rIdx = model.MSOCausalitySweep(mso,causality='int') # Boolean index array to integral causality redundant equation\n",
    "if np.any(rIdx):\n",
    "    red = mso[rIdx][0] # Take the first one\n",
    "    m0 = [e for e in mso if e!=red]\n",
    "    Gamma = model.Matching(m0)\n",
    "    print \"Found integral causality matching (mso \" + str(m) + \", red = \" + str(red) + \")\"\n",
    "else:\n",
    "    print \"No integral causality matching exists\""
   ]
  },
  {
   "cell_type": "code",
   "execution_count": 13,
   "metadata": {
    "collapsed": false
   },
   "outputs": [
    {
     "name": "stdout",
     "output_type": "stream",
     "text": [
      "Generating residual generator ResGen_3_8 (Python)\n",
      "  Generating code for the exactly determined part: ..\n",
      "  Generating code for the residual equations\n",
      "  Writing residual generator file\n",
      "File ResGen_3_8.py generated.\n"
     ]
    }
   ],
   "source": [
    "#codegen.SeqResGen(model, Gamma, red, 'ResGen_3_8', language='Python')\n",
    "model.SeqResGen(Gamma, red, 'ResGen_3_8', language='Python')"
   ]
  },
  {
   "cell_type": "code",
   "execution_count": 14,
   "metadata": {
    "collapsed": false
   },
   "outputs": [
    {
     "name": "stdout",
     "output_type": "stream",
     "text": [
      "Help on function ResGen_3_8 in module ResGen_3_8:\n",
      "\n",
      "ResGen_3_8(z, state, params, Ts)\n",
      "    RESGEN_3_8 Sequential residual generator for model 'Three Tank System'\n",
      "    Causality: int\n",
      "    \n",
      "    Structurally sensitive to faults: fV1, fV2, fV3, fT2, fT3\n",
      "    \n",
      "    Example of basic usage:\n",
      "    Let z be the observations, then the residual generator can be simulated by:\n",
      "    \n",
      "    for zk in z:\n",
      "        rk, state = ResGen_3_8( zk, state, params, 1/fs )\n",
      "    \n",
      "    where state is a structure with the state of the residual generator.\n",
      "    The state has fields: p3, p2\n",
      "    \n",
      "    File generated Sat Jul 30 21:29:07 2016\n",
      "\n"
     ]
    }
   ],
   "source": [
    "import ResGen_3_8\n",
    "reload(ResGen_3_8)\n",
    "help(ResGen_3_8.ResGen_3_8)"
   ]
  }
 ],
 "metadata": {
  "anaconda-cloud": {},
  "kernelspec": {
   "display_name": "Python 2",
   "language": "python",
   "name": "python2"
  },
  "language_info": {
   "codemirror_mode": {
    "name": "ipython",
    "version": 2
   },
   "file_extension": ".py",
   "mimetype": "text/x-python",
   "name": "python",
   "nbconvert_exporter": "python",
   "pygments_lexer": "ipython2",
   "version": "2.7.12"
  }
 },
 "nbformat": 4,
 "nbformat_minor": 0
}
