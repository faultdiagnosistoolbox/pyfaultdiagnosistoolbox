{
 "cells": [
  {
   "cell_type": "code",
   "execution_count": 1,
   "metadata": {
    "collapsed": false
   },
   "outputs": [],
   "source": [
    "#%matplotlib inline\n",
    "import numpy as np\n",
    "#import faultdiagnosistoolbox as fdt\n",
    "import faultdiagnosistoolbox.diagnosismodel as fdt"
   ]
  },
  {
   "cell_type": "code",
   "execution_count": 2,
   "metadata": {
    "collapsed": false
   },
   "outputs": [
    {
     "data": {
      "text/plain": [
       "['DiagnosisModel',\n",
       " 'ModelStructure',\n",
       " 'RelModelStructure',\n",
       " '__builtins__',\n",
       " '__doc__',\n",
       " '__file__',\n",
       " '__name__',\n",
       " '__package__',\n",
       " '__path__',\n",
       " 'np']"
      ]
     },
     "execution_count": 2,
     "metadata": {},
     "output_type": "execute_result"
    }
   ],
   "source": [
    "reload(fdt);\n",
    "dir(fdt)"
   ]
  },
  {
   "cell_type": "code",
   "execution_count": 3,
   "metadata": {
    "collapsed": false
   },
   "outputs": [],
   "source": [
    "modeldef = {}\n",
    "modeldef['rels']= [['Ps', 'xf10', 'x', 'f4', 'f11', 'Fvc'],\n",
    "    ['xh', 'x', 'f8'],\n",
    "    ['Qv', 'f5', 'f1', 'xh', 'DeltaP'],\n",
    "    ['DeltaP-a', 'xh', 'P1', 'Pv'],\n",
    "    ['Pv', 'T1'],\n",
    "    ['DeltaP', 'P1', 'P2', 'DeltaP-a'],\n",
    "    ['Fvc', 'P1', 'xh', 'P2', 'DeltaP-a','Pv'],\n",
    "    ['Qv3', 'x3', 'f18', 'P1', 'P2'],\n",
    "    ['Qc', 'Ps', 'xh'],\n",
    "    ['Qc', 'f9', 'Ps', 'xf10', 'CVI', 'Pz', 'f16'],\n",
    "    ['Q', 'Qv', 'Qv3'],\n",
    "    ['Yx', 'xh', 'f13'],\n",
    "    ['YP1', 'P1'],\n",
    "    ['YP2', 'P2'],\n",
    "    ['T1', 'f7'],\n",
    "    ['CVI', 'f12', 'Cv', 'Yx'],\n",
    "    ['xf10', 'f10']]\n",
    "modeldef['type'] = 'VarStruc'\n",
    "modeldef['x'] = ['x', 'xh', 'Ps', 'P1', 'P2', 'Pz','Pv', 'DeltaP', \n",
    "    'DeltaP-a', 'Q', 'Qv', 'Qv3', 'Qc', 'T1', 'Fvc', 'xf10']\n",
    "modeldef['f'] = ['f1', 'f4', 'f5', 'f7', 'f8', 'f9', 'f10', 'f11', 'f12', \n",
    "    'f13', 'f16', 'f18']\n",
    "modeldef['z'] = ['Yx', 'YP1', 'YP2', 'CVI', 'Cv', 'x3']\n",
    "model=fdt.DiagnosisModel( modeldef )"
   ]
  },
  {
   "cell_type": "code",
   "execution_count": 4,
   "metadata": {
    "collapsed": false
   },
   "outputs": [
    {
     "name": "stdout",
     "output_type": "stream",
     "text": [
      "['x', 'xh', 'Ps', 'P1', 'P2', 'Pz', 'Pv', 'DeltaP', 'DeltaP-a', 'Q', 'Qv', 'Qv3', 'Qc', 'T1', 'Fvc', 'xf10']\n",
      "[[ 1.  0.  1.  0.  0.  0.  0.  0.  0.  0.  0.  0.  0.  0.  1.  1.]\n",
      " [ 1.  1.  0.  0.  0.  0.  0.  0.  0.  0.  0.  0.  0.  0.  0.  0.]\n",
      " [ 0.  1.  0.  0.  0.  0.  0.  1.  0.  0.  1.  0.  0.  0.  0.  0.]\n",
      " [ 0.  1.  0.  1.  0.  0.  1.  0.  1.  0.  0.  0.  0.  0.  0.  0.]\n",
      " [ 0.  0.  0.  0.  0.  0.  1.  0.  0.  0.  0.  0.  0.  1.  0.  0.]\n",
      " [ 0.  0.  0.  1.  1.  0.  0.  1.  1.  0.  0.  0.  0.  0.  0.  0.]\n",
      " [ 0.  1.  0.  1.  1.  0.  1.  0.  1.  0.  0.  0.  0.  0.  1.  0.]\n",
      " [ 0.  0.  0.  1.  1.  0.  0.  0.  0.  0.  0.  1.  0.  0.  0.  0.]\n",
      " [ 0.  1.  1.  0.  0.  0.  0.  0.  0.  0.  0.  0.  1.  0.  0.  0.]\n",
      " [ 0.  0.  1.  0.  0.  1.  0.  0.  0.  0.  0.  0.  1.  0.  0.  1.]\n",
      " [ 0.  0.  0.  0.  0.  0.  0.  0.  0.  1.  1.  1.  0.  0.  0.  0.]\n",
      " [ 0.  1.  0.  0.  0.  0.  0.  0.  0.  0.  0.  0.  0.  0.  0.  0.]\n",
      " [ 0.  0.  0.  1.  0.  0.  0.  0.  0.  0.  0.  0.  0.  0.  0.  0.]\n",
      " [ 0.  0.  0.  0.  1.  0.  0.  0.  0.  0.  0.  0.  0.  0.  0.  0.]\n",
      " [ 0.  0.  0.  0.  0.  0.  0.  0.  0.  0.  0.  0.  0.  1.  0.  0.]\n",
      " [ 0.  0.  0.  0.  0.  0.  0.  0.  0.  0.  0.  0.  0.  0.  0.  0.]\n",
      " [ 0.  0.  0.  0.  0.  0.  0.  0.  0.  0.  0.  0.  0.  0.  0.  1.]]\n"
     ]
    }
   ],
   "source": [
    "print model.x\n",
    "print model.X"
   ]
  },
  {
   "cell_type": "code",
   "execution_count": 5,
   "metadata": {
    "collapsed": false
   },
   "outputs": [
    {
     "ename": "AttributeError",
     "evalue": "'DiagnosisModel' object has no attribute 'PlotModel'",
     "output_type": "error",
     "traceback": [
      "\u001b[0;31m---------------------------------------------------------------------------\u001b[0m",
      "\u001b[0;31mAttributeError\u001b[0m                            Traceback (most recent call last)",
      "\u001b[0;32m<ipython-input-5-6c37725d9b6b>\u001b[0m in \u001b[0;36m<module>\u001b[0;34m()\u001b[0m\n\u001b[0;32m----> 1\u001b[0;31m \u001b[0mmodel\u001b[0m\u001b[0;34m.\u001b[0m\u001b[0mPlotModel\u001b[0m\u001b[0;34m(\u001b[0m\u001b[0;34m)\u001b[0m\u001b[0;34m;\u001b[0m\u001b[0;34m\u001b[0m\u001b[0m\n\u001b[0m",
      "\u001b[0;31mAttributeError\u001b[0m: 'DiagnosisModel' object has no attribute 'PlotModel'"
     ]
    }
   ],
   "source": [
    "model.PlotModel();"
   ]
  },
  {
   "cell_type": "code",
   "execution_count": 10,
   "metadata": {
    "collapsed": false
   },
   "outputs": [],
   "source": [
    "import matplotlib as mpl\n",
    "mpl.use('TkAgg')\n",
    "import matplotlib.pyplot as plt"
   ]
  },
  {
   "cell_type": "code",
   "execution_count": 11,
   "metadata": {
    "collapsed": false
   },
   "outputs": [
    {
     "data": {
      "text/plain": [
       "['SparseEfficiencyWarning',\n",
       " 'SparseWarning',\n",
       " 'Tester',\n",
       " '__all__',\n",
       " '__builtins__',\n",
       " '__doc__',\n",
       " '__file__',\n",
       " '__name__',\n",
       " '__package__',\n",
       " '__path__',\n",
       " '_csparsetools',\n",
       " '_sparsetools',\n",
       " 'absolute_import',\n",
       " 'base',\n",
       " 'bench',\n",
       " 'block_diag',\n",
       " 'bmat',\n",
       " 'bsr',\n",
       " 'bsr_matrix',\n",
       " 'compressed',\n",
       " 'construct',\n",
       " 'coo',\n",
       " 'coo_matrix',\n",
       " 'cs_graph_components',\n",
       " 'csc',\n",
       " 'csc_matrix',\n",
       " 'csgraph',\n",
       " 'csr',\n",
       " 'csr_matrix',\n",
       " 'data',\n",
       " 'dia',\n",
       " 'dia_matrix',\n",
       " 'diags',\n",
       " 'division',\n",
       " 'dok',\n",
       " 'dok_matrix',\n",
       " 'extract',\n",
       " 'eye',\n",
       " 'find',\n",
       " 'hstack',\n",
       " 'identity',\n",
       " 'issparse',\n",
       " 'isspmatrix',\n",
       " 'isspmatrix_bsr',\n",
       " 'isspmatrix_coo',\n",
       " 'isspmatrix_csc',\n",
       " 'isspmatrix_csr',\n",
       " 'isspmatrix_dia',\n",
       " 'isspmatrix_dok',\n",
       " 'isspmatrix_lil',\n",
       " 'kron',\n",
       " 'kronsum',\n",
       " 'lil',\n",
       " 'lil_matrix',\n",
       " 'print_function',\n",
       " 'rand',\n",
       " 'random',\n",
       " 's',\n",
       " 'spdiags',\n",
       " 'spmatrix',\n",
       " 'sputils',\n",
       " 'test',\n",
       " 'tril',\n",
       " 'triu',\n",
       " 'vstack']"
      ]
     },
     "execution_count": 11,
     "metadata": {},
     "output_type": "execute_result"
    }
   ],
   "source": [
    "import scipy.sparse as sp\n",
    "dir(sp)"
   ]
  },
  {
   "cell_type": "code",
   "execution_count": null,
   "metadata": {
    "collapsed": true
   },
   "outputs": [],
   "source": []
  }
 ],
 "metadata": {
  "kernelspec": {
   "display_name": "Python 2",
   "language": "python",
   "name": "python2"
  },
  "language_info": {
   "codemirror_mode": {
    "name": "ipython",
    "version": 2
   },
   "file_extension": ".py",
   "mimetype": "text/x-python",
   "name": "python",
   "nbconvert_exporter": "python",
   "pygments_lexer": "ipython2",
   "version": "2.7.12"
  }
 },
 "nbformat": 4,
 "nbformat_minor": 0
}
