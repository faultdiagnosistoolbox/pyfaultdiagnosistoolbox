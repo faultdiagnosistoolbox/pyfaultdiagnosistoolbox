{
 "cells": [
  {
   "cell_type": "markdown",
   "metadata": {},
   "source": [
    "# Fault Diagnosis Toolbox in Python -- a development notebook"
   ]
  },
  {
   "cell_type": "markdown",
   "metadata": {},
   "source": [
    "Erik Frisk<br>\n",
    "<frisk@isy.liu.se><br>\n",
    "Department of Electrical Engineering<br>\n",
    "Linköping University<br>\n",
    "Sweden"
   ]
  },
  {
   "cell_type": "markdown",
   "metadata": {},
   "source": [
    "## Basic Python imports"
   ]
  },
  {
   "cell_type": "code",
   "execution_count": null,
   "metadata": {
    "collapsed": false
   },
   "outputs": [],
   "source": [
    "##%matplotlib inline\n",
    "import matplotlib\n",
    "matplotlib.use('nbagg')\n",
    "import matplotlib.pyplot as plt\n",
    "import sys\n",
    "import numpy as np\n",
    "import csv\n",
    "import scipy.sparse as sp"
   ]
  },
  {
   "cell_type": "code",
   "execution_count": null,
   "metadata": {
    "collapsed": true
   },
   "outputs": [],
   "source": [
    "def BoxOff(*argin):\n",
    "    if len(argin)>0:\n",
    "        ax=argin[0]\n",
    "    else:\n",
    "        ax=plt.gca();\n",
    "    ax.spines['top'].set_visible(False)\n",
    "    ax.spines['right'].set_visible(False)\n",
    "    ax.yaxis.set_ticks_position('left')\n",
    "    ax.xaxis.set_ticks_position('bottom')"
   ]
  },
  {
   "cell_type": "markdown",
   "metadata": {},
   "source": [
    "## Fault Diagnosis Toolbox import"
   ]
  },
  {
   "cell_type": "code",
   "execution_count": null,
   "metadata": {
    "collapsed": false
   },
   "outputs": [],
   "source": [
    "sys.path.append(\"faultdiagnosistoolbox/build/lib.macosx-10.6-x86_64-2.7/\")\n",
    "import faultdiagnosistoolbox as fdt\n",
    "reload(fdt);"
   ]
  },
  {
   "cell_type": "markdown",
   "metadata": {},
   "source": [
    "## Defining a diagnosis models -- structural information"
   ]
  },
  {
   "cell_type": "markdown",
   "metadata": {},
   "source": [
    "Simple structure model from the DAMADICS benchmark problem"
   ]
  },
  {
   "cell_type": "code",
   "execution_count": null,
   "metadata": {
    "collapsed": false
   },
   "outputs": [],
   "source": [
    "modelDef={}\n",
    "\n",
    "modelDef['type'] = 'Symbolic'\n",
    "modelDef['x']= ['p1','p2','p3','q0','q1','q2','q3','dp1','dp2','dp3']\n",
    "modelDef['f'] = ['fV1','fV2','fV3','fT1','fT2','fT3']\n",
    "modelDef['z'] = ['y1','y2','y3']\n",
    "modelDef['parameters'] = ['Rv1', 'Rv2', 'Rv3', 'CT1', 'CT2', 'CT3']\n",
    "modelDef['rels'] = [\n",
    "    ['q1', 'p1', 'p2', 'fV1'],\n",
    "    ['q2', 'p2', 'p3', 'fV2'],\n",
    "    ['q3', 'p3', 'fV3'],\n",
    "    ['dp1','q0','q1','fT1'],\n",
    "    ['dp2','q1','q2','fT2'],\n",
    "    ['dp3','q2','q3','fT3'],\n",
    "    ['y1','p1'],\n",
    "    ['y2','q2'],\n",
    "    ['y3','q0'],\n",
    "    fdt.DiffConstraint('dp1','p1'),\n",
    "    fdt.DiffConstraint('dp2','p2'),\n",
    "    fdt.DiffConstraint('dp3','p3')]\n",
    "\n",
    "model = fdt.DiagnosisModel( modelDef );\n",
    "model.name = 'Three tank system';"
   ]
  },
  {
   "cell_type": "code",
   "execution_count": null,
   "metadata": {
    "collapsed": false
   },
   "outputs": [],
   "source": [
    "print model.x\n",
    "print model.X.todense()\n",
    "print model.e"
   ]
  },
  {
   "cell_type": "code",
   "execution_count": null,
   "metadata": {
    "collapsed": false
   },
   "outputs": [],
   "source": [
    "plt.figure(10)\n",
    "model.PlotModel(verbose=True)\n",
    "plt.show()"
   ]
  },
  {
   "cell_type": "code",
   "execution_count": null,
   "metadata": {
    "collapsed": false
   },
   "outputs": [],
   "source": [
    "plt.figure(11)\n",
    "model.PlotDM(verbose=True)\n",
    "plt.show()"
   ]
  },
  {
   "cell_type": "markdown",
   "metadata": {},
   "source": [
    "## Test some fundamental structural analysis operations"
   ]
  },
  {
   "cell_type": "code",
   "execution_count": null,
   "metadata": {
    "collapsed": false
   },
   "outputs": [],
   "source": [
    "X=ReadMatrixCSV('Xengine.txt')\n",
    "dm=fdt.GetDMParts(X)\n",
    "print fdt.sprank(X)\n",
    "print len(dm.M0)"
   ]
  },
  {
   "cell_type": "code",
   "execution_count": null,
   "metadata": {
    "collapsed": false
   },
   "outputs": [],
   "source": [
    "plt.figure(20)\n",
    "fdt.PlotDM(X)\n",
    "plt.show()"
   ]
  }
 ],
 "metadata": {
  "kernelspec": {
   "display_name": "Python 2",
   "language": "python",
   "name": "python2"
  },
  "language_info": {
   "codemirror_mode": {
    "name": "ipython",
    "version": 2
   },
   "file_extension": ".py",
   "mimetype": "text/x-python",
   "name": "python",
   "nbconvert_exporter": "python",
   "pygments_lexer": "ipython2",
   "version": "2.7.12"
  }
 },
 "nbformat": 4,
 "nbformat_minor": 0
}
