{
 "cells": [
  {
   "cell_type": "code",
   "execution_count": 1,
   "metadata": {
    "collapsed": false
   },
   "outputs": [],
   "source": [
    "#%matplotlib inline\n",
    "import numpy as np\n",
    "import faultdiagnosistoolbox.DiagnosisModel as dm"
   ]
  },
  {
   "cell_type": "code",
   "execution_count": 10,
   "metadata": {
    "collapsed": false
   },
   "outputs": [
    {
     "data": {
      "text/plain": [
       "['DiagnosisModel',\n",
       " '__builtins__',\n",
       " '__doc__',\n",
       " '__file__',\n",
       " '__name__',\n",
       " '__package__',\n",
       " 'np']"
      ]
     },
     "execution_count": 10,
     "metadata": {},
     "output_type": "execute_result"
    }
   ],
   "source": [
    "reload(dm)\n",
    "dir(dm)"
   ]
  },
  {
   "cell_type": "code",
   "execution_count": 11,
   "metadata": {
    "collapsed": false
   },
   "outputs": [],
   "source": [
    "modeldef = {}\n",
    "modeldef['rels']= [['Ps', 'xf10', 'x', 'f4', 'f11', 'Fvc'],\n",
    "    ['xh', 'x', 'f8'],\n",
    "    ['Qv', 'f5', 'f1', 'xh', 'DeltaP'],\n",
    "    ['DeltaP-a', 'xh', 'P1', 'Pv'],\n",
    "    ['Pv', 'T1'],\n",
    "    ['DeltaP', 'P1', 'P2', 'DeltaP-a'],\n",
    "    ['Fvc', 'P1', 'xh', 'P2', 'DeltaP-a','Pv'],\n",
    "    ['Qv3', 'x3', 'f18', 'P1', 'P2'],\n",
    "    ['Qc', 'Ps', 'xh'],\n",
    "    ['Qc', 'f9', 'Ps', 'xf10', 'CVI', 'Pz', 'f16'],\n",
    "    ['Q', 'Qv', 'Qv3'],\n",
    "    ['Yx', 'xh', 'f13'],\n",
    "    ['YP1', 'P1'],\n",
    "    ['YP2', 'P2'],\n",
    "    ['T1', 'f7'],\n",
    "    ['CVI', 'f12', 'Cv', 'Yx'],\n",
    "    ['xf10', 'f10']]\n",
    "modeldef['type'] = 'VarStruc'\n",
    "modeldef['x'] = ['x', 'xh', 'Ps', 'P1', 'P2', 'Pz','Pv', 'DeltaP', \n",
    "    'DeltaP-a', 'Q', 'Qv', 'Qv3', 'Qc', 'T1', 'Fvc', 'xf10']\n",
    "modeldef['f'] = ['f1', 'f4', 'f5', 'f7', 'f8', 'f9', 'f10', 'f11', 'f12', \n",
    "    'f13', 'f16', 'f18']\n",
    "modeldef['z'] = ['Yx', 'YP1', 'YP2', 'CVI', 'Cv', 'x3']\n",
    "model=dm.DiagnosisModel( modeldef )"
   ]
  },
  {
   "cell_type": "code",
   "execution_count": 12,
   "metadata": {
    "collapsed": false
   },
   "outputs": [
    {
     "name": "stdout",
     "output_type": "stream",
     "text": [
      "['x', 'xh', 'Ps', 'P1', 'P2', 'Pz', 'Pv', 'DeltaP', 'DeltaP-a', 'Q', 'Qv', 'Qv3', 'Qc', 'T1', 'Fvc', 'xf10']\n",
      "[[ 1.  0.  1.  0.  0.  0.  0.  0.  0.  0.  0.  0.  0.  0.  1.  1.]\n",
      " [ 1.  1.  0.  0.  0.  0.  0.  0.  0.  0.  0.  0.  0.  0.  0.  0.]\n",
      " [ 0.  1.  0.  0.  0.  0.  0.  1.  0.  0.  1.  0.  0.  0.  0.  0.]\n",
      " [ 0.  1.  0.  1.  0.  0.  1.  0.  1.  0.  0.  0.  0.  0.  0.  0.]\n",
      " [ 0.  0.  0.  0.  0.  0.  1.  0.  0.  0.  0.  0.  0.  1.  0.  0.]\n",
      " [ 0.  0.  0.  1.  1.  0.  0.  1.  1.  0.  0.  0.  0.  0.  0.  0.]\n",
      " [ 0.  1.  0.  1.  1.  0.  1.  0.  1.  0.  0.  0.  0.  0.  1.  0.]\n",
      " [ 0.  0.  0.  1.  1.  0.  0.  0.  0.  0.  0.  1.  0.  0.  0.  0.]\n",
      " [ 0.  1.  1.  0.  0.  0.  0.  0.  0.  0.  0.  0.  1.  0.  0.  0.]\n",
      " [ 0.  0.  1.  0.  0.  1.  0.  0.  0.  0.  0.  0.  1.  0.  0.  1.]\n",
      " [ 0.  0.  0.  0.  0.  0.  0.  0.  0.  1.  1.  1.  0.  0.  0.  0.]\n",
      " [ 0.  1.  0.  0.  0.  0.  0.  0.  0.  0.  0.  0.  0.  0.  0.  0.]\n",
      " [ 0.  0.  0.  1.  0.  0.  0.  0.  0.  0.  0.  0.  0.  0.  0.  0.]\n",
      " [ 0.  0.  0.  0.  1.  0.  0.  0.  0.  0.  0.  0.  0.  0.  0.  0.]\n",
      " [ 0.  0.  0.  0.  0.  0.  0.  0.  0.  0.  0.  0.  0.  1.  0.  0.]\n",
      " [ 0.  0.  0.  0.  0.  0.  0.  0.  0.  0.  0.  0.  0.  0.  0.  0.]\n",
      " [ 0.  0.  0.  0.  0.  0.  0.  0.  0.  0.  0.  0.  0.  0.  0.  1.]]\n"
     ]
    }
   ],
   "source": [
    "print model.x\n",
    "print model.X"
   ]
  },
  {
   "cell_type": "code",
   "execution_count": null,
   "metadata": {
    "collapsed": false
   },
   "outputs": [],
   "source": [
    "model.PlotModel();"
   ]
  },
  {
   "cell_type": "code",
   "execution_count": null,
   "metadata": {
    "collapsed": false
   },
   "outputs": [],
   "source": [
    "import matplotlib as mpl\n",
    "mpl.use('TkAgg')\n",
    "import matplotlib.pyplot as plt"
   ]
  },
  {
   "cell_type": "code",
   "execution_count": null,
   "metadata": {
    "collapsed": false
   },
   "outputs": [],
   "source": [
    "import scipy.sparse as sp\n",
    "dir(sp)"
   ]
  },
  {
   "cell_type": "code",
   "execution_count": null,
   "metadata": {
    "collapsed": true
   },
   "outputs": [],
   "source": []
  }
 ],
 "metadata": {
  "kernelspec": {
   "display_name": "Python 2",
   "language": "python",
   "name": "python2"
  },
  "language_info": {
   "codemirror_mode": {
    "name": "ipython",
    "version": 2
   },
   "file_extension": ".py",
   "mimetype": "text/x-python",
   "name": "python",
   "nbconvert_exporter": "python",
   "pygments_lexer": "ipython2",
   "version": "2.7.12"
  }
 },
 "nbformat": 4,
 "nbformat_minor": 0
}
