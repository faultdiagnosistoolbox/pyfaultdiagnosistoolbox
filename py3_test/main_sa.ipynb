{
 "cells": [
  {
   "cell_type": "markdown",
   "metadata": {},
   "source": [
    "# Fault Diagnosis Toolbox in Python\n",
    "## - Low level structural analysis function calls"
   ]
  },
  {
   "cell_type": "markdown",
   "metadata": {},
   "source": [
    "Erik Frisk<br>\n",
    "<frisk@isy.liu.se><br>\n",
    "Department of Electrical Engineering<br>\n",
    "Linköping University<br>\n",
    "Sweden"
   ]
  },
  {
   "cell_type": "code",
   "execution_count": 3,
   "metadata": {
    "collapsed": false
   },
   "outputs": [],
   "source": [
    "%matplotlib notebook\n",
    "new_paths = ['../Misc/', 'build/lib.macosx-10.6-x86_64-3.5/']\n",
    "\n",
    "import matplotlib\n",
    "import matplotlib.pyplot as plt\n",
    "import sys\n",
    "import numpy as np\n",
    "import scipy.sparse as sp\n",
    "[sys.path.append(d) for d in new_paths if not d in sys.path];\n",
    "from misc import *\n",
    "import structuralanalysis3 as sa\n",
    "import csv"
   ]
  },
  {
   "cell_type": "code",
   "execution_count": 8,
   "metadata": {
    "collapsed": true
   },
   "outputs": [],
   "source": [
    "def ReadMatrixCSV(fileName):\n",
    "    with open(fileName, 'rt') as csvfile:\n",
    "        matReader = csv.reader(csvfile, delimiter=' ', quotechar='|')\n",
    "        size = matReader.__next__() # Assume first line contains size information\n",
    "        X=np.zeros((int(size[0]),int(size[1])),dtype='float64');\n",
    "        for edge in matReader:\n",
    "            X[int(edge[0]),int(edge[1])] = float(edge[2])\n",
    "        return sp.csc_matrix(X.astype(np.int64))\n"
   ]
  },
  {
   "cell_type": "markdown",
   "metadata": {},
   "source": [
    "## Low level function calls"
   ]
  },
  {
   "cell_type": "code",
   "execution_count": 11,
   "metadata": {
    "collapsed": false
   },
   "outputs": [],
   "source": [
    "X=ReadMatrixCSV('Xengine.txt')\n",
    "#p,q,r,s,_,_=sa.dmperm_internal(dmperm.CSCDict(X))\n",
    "#print p"
   ]
  },
  {
   "cell_type": "code",
   "execution_count": null,
   "metadata": {
    "collapsed": false
   },
   "outputs": [],
   "source": [
    "plt.figure(10)\n",
    "plt.subplot(1,2,1)\n",
    "plt.spy(X, marker=\"o\", markersize=4);\n",
    "plt.subplot(1,2,2)\n",
    "plt.spy(X[p,:][:,q], marker=\"o\", markersize=4);\n",
    "plt.show()"
   ]
  },
  {
   "cell_type": "code",
   "execution_count": null,
   "metadata": {
    "collapsed": false
   },
   "outputs": [],
   "source": [
    "plt.figure(11)\n",
    "fdt.PlotDM(X,verbose=False,eqclass=False)\n",
    "plt.show()"
   ]
  },
  {
   "cell_type": "markdown",
   "metadata": {},
   "source": [
    "## Try some basic dmperm functionality  and time performance"
   ]
  },
  {
   "cell_type": "code",
   "execution_count": null,
   "metadata": {
    "collapsed": false
   },
   "outputs": [],
   "source": [
    "reload(dmperm);"
   ]
  },
  {
   "cell_type": "code",
   "execution_count": null,
   "metadata": {
    "collapsed": false
   },
   "outputs": [],
   "source": [
    "row=dmperm.Mplus(X);\n",
    "print row"
   ]
  },
  {
   "cell_type": "code",
   "execution_count": null,
   "metadata": {
    "collapsed": false
   },
   "outputs": [],
   "source": [
    "dm=dmperm.GetDMParts(X)\n",
    "dmperm.sprank(X)"
   ]
  },
  {
   "cell_type": "markdown",
   "metadata": {},
   "source": [
    "Evaluate timing performance by doing 1000 dmperm \n",
    "\n",
    "Matlab comparisson (my iMac):<br>\n",
    "tic; for k=1:1000; GetDMParts(X); end; toc<br>\n",
    "Elapsed time is 0.108608 seconds.\n"
   ]
  },
  {
   "cell_type": "code",
   "execution_count": null,
   "metadata": {
    "collapsed": false
   },
   "outputs": [],
   "source": [
    "import timeit\n",
    "timeit.timeit('dmperm.GetDMParts(X)', setup=\"from __main__ import dmperm, X\",number=1000)"
   ]
  },
  {
   "cell_type": "code",
   "execution_count": null,
   "metadata": {
    "collapsed": false
   },
   "outputs": [],
   "source": [
    "print dmperm.IsPSO(X)\n",
    "print dmperm.IsPSO(X[dm.Mp.row,:][:,dm.Mp.col])"
   ]
  },
  {
   "cell_type": "code",
   "execution_count": null,
   "metadata": {
    "collapsed": false
   },
   "outputs": [],
   "source": [
    "Xp=X[dm.Mp.row,:][:,dm.Mp.col]\n",
    "pd=dmperm.PSODecomposition(Xp)\n",
    "print len(pd['eqclass'])\n",
    "print len(pd['X0'])"
   ]
  },
  {
   "cell_type": "markdown",
   "metadata": {},
   "source": [
    "## Try some MSO calculations"
   ]
  },
  {
   "cell_type": "code",
   "execution_count": null,
   "metadata": {
    "collapsed": false
   },
   "outputs": [],
   "source": [
    "msos=sa.findmso_internal(dmperm.CSCDict(X));\n",
    "print len(msos)\n",
    "print len(msos[0])\n",
    "print msos[0]"
   ]
  },
  {
   "cell_type": "code",
   "execution_count": null,
   "metadata": {
    "collapsed": false
   },
   "outputs": [],
   "source": [
    "import timeit\n",
    "timeit.timeit('sa.findmso_internal(dmperm.CSCDict(X))', setup=\"from __main__ import sa, dmperm, X\",number=100)"
   ]
  },
  {
   "cell_type": "code",
   "execution_count": null,
   "metadata": {
    "collapsed": false
   },
   "outputs": [],
   "source": [
    "mso_n = map(lambda m:len(m), msos)\n",
    "plt.figure(20)\n",
    "plt.hist(mso_n,bins=10,normed=False)\n",
    "plt.title('Histogram - mso sizes')\n",
    "plt.xlabel('MSO size')\n",
    "plt.ylabel('Number of MSO sets')\n",
    "BoxOff()\n",
    "plt.show()"
   ]
  },
  {
   "cell_type": "markdown",
   "metadata": {},
   "source": [
    "## Matchings"
   ]
  },
  {
   "cell_type": "code",
   "execution_count": null,
   "metadata": {
    "collapsed": false
   },
   "outputs": [],
   "source": [
    "X0 = np.array([\n",
    "     [1, 1, 0, 1, 0, 1, 0, 0],\n",
    "     [1, 1, 0, 1, 0, 0, 1, 0],\n",
    "     [0, 0, 1, 1, 0, 0, 0, 1],\n",
    "     [0, 0, 2, 3, 0, 1, 0, 1],\n",
    "     [0, 0, 0, 0, 3, 2, 1, 0],\n",
    "     [0, 0, 0, 0, 0, 1, 0, 1],\n",
    "     [0, 0, 0, 0, 0, 0, 2, 3],\n",
    "     [0, 0, 0, 0, 0, 0, 0, 1]])\n",
    "p = np.random.permutation(8)\n",
    "q = np.random.permutation(8)\n",
    "#p = np.arange(0,8)\n",
    "#q = np.arange(0,8)\n",
    "X = X0.copy()[p,:][:,q]\n",
    "G = (np.arange(0,X0.shape[0], dtype=np.int64), np.arange(0,X0.shape[1], dtype=np.int64), X)\n",
    "Gamma = dmperm.MixedCausalityMatching(G)\n",
    "print Gamma"
   ]
  },
  {
   "cell_type": "code",
   "execution_count": null,
   "metadata": {
    "collapsed": true
   },
   "outputs": [],
   "source": []
  }
 ],
 "metadata": {
  "anaconda-cloud": {},
  "kernelspec": {
   "display_name": "Python 3",
   "language": "python",
   "name": "python3"
  },
  "language_info": {
   "codemirror_mode": {
    "name": "ipython",
    "version": 3
   },
   "file_extension": ".py",
   "mimetype": "text/x-python",
   "name": "python",
   "nbconvert_exporter": "python",
   "pygments_lexer": "ipython3",
   "version": "3.5.2"
  }
 },
 "nbformat": 4,
 "nbformat_minor": 0
}
